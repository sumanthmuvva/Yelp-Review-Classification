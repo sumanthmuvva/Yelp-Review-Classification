{
 "cells": [
  {
   "cell_type": "markdown",
   "metadata": {
    "id": "bHyyflq7GEwN"
   },
   "source": [
    "# Yelp Reviews for Senti-Analysis Binary-N/P+"
   ]
  },
  {
   "cell_type": "markdown",
   "metadata": {
    "id": "g_LhN3KiHTk7"
   },
   "source": [
    "#### **Importing Libraries**"
   ]
  },
  {
   "cell_type": "code",
   "execution_count": 197,
   "metadata": {
    "id": "QRa9rTZ3jf-S"
   },
   "outputs": [],
   "source": [
    "import numpy as np\n",
    "import pandas as pd\n",
    "import re\n",
    "import nltk\n",
    "from nltk.corpus import stopwords\n",
    "import matplotlib.pyplot as plt\n",
    "import seaborn as sns\n",
    "from wordcloud import WordCloud,STOPWORDS\n",
    "from collections import defaultdict\n",
    "from sklearn.feature_extraction.text import CountVectorizer,TfidfVectorizer\n",
    "from sklearn import preprocessing,tree\n",
    "from sklearn.linear_model import LogisticRegression\n",
    "from sklearn.metrics import accuracy_score,recall_score,confusion_matrix,f1_score\n",
    "from sklearn.model_selection import GridSearchCV\n",
    "from scipy import sparse\n",
    "from sklearn.svm import LinearSVC\n",
    "from sklearn.naive_bayes import MultinomialNB\n",
    "import xgboost as xgb\n",
    "import string"
   ]
  },
  {
   "cell_type": "markdown",
   "metadata": {
    "id": "fISpmFIZOXnS"
   },
   "source": [
    "importing the datasets"
   ]
  },
  {
   "cell_type": "code",
   "execution_count": null,
   "metadata": {},
   "outputs": [],
   "source": [
    "! mkdir ~/.kaggle #creating folder\n",
    "! cp kaggle.json ~/.kaggle/ #copying kaggle.json\n",
    "! chmod 600 ~/.kaggle/kaggle.json #reading the file with full access"
   ]
  },
  {
   "cell_type": "code",
   "execution_count": null,
   "metadata": {},
   "outputs": [],
   "source": [
    "! kaggle datasets download -d yacharki/yelp-reviews-for-sentianalysis-binary-np-csv"
   ]
  },
  {
   "cell_type": "code",
   "execution_count": null,
   "metadata": {},
   "outputs": [],
   "source": [
    "!unzip /content/yelp-reviews-for-sentianalysis-binary-np-csv.zip"
   ]
  },
  {
   "cell_type": "code",
   "execution_count": 14,
   "metadata": {
    "id": "A8SSJzNkOISE"
   },
   "outputs": [],
   "source": [
    "yelp_train_data = pd.read_csv('/content/drive/MyDrive/train.csv')\n",
    "yelp_test_data = pd.read_csv('/content/drive/MyDrive/test.csv')"
   ]
  },
  {
   "cell_type": "code",
   "execution_count": 15,
   "metadata": {
    "colab": {
     "base_uri": "https://localhost:8080/"
    },
    "id": "tnpxtHj_PKE2",
    "outputId": "dbf7da99-e3e1-45fe-b76d-4abee3ca9424"
   },
   "outputs": [
    {
     "name": "stdout",
     "output_type": "stream",
     "text": [
      "(560000, 2)\n",
      "(38000, 2)\n"
     ]
    }
   ],
   "source": [
    "print(yelp_train_data.shape)\n",
    "print(yelp_test_data.shape)"
   ]
  },
  {
   "cell_type": "markdown",
   "metadata": {
    "id": "3p1yaw-ZO8NQ"
   },
   "source": [
    "\n",
    "\n",
    "- In total there are 560,000 training samples and 2 columns in them corresponding to **class index** (1 and 2) and **review text**. Negative polarity is class 1, and positive polarity is class 2.\n",
    "\n",
    "- Also, we can see that there are 38000 testing samples."
   ]
  },
  {
   "cell_type": "markdown",
   "metadata": {
    "id": "smfNzxiXVvUT"
   },
   "source": [
    "#### **Text cleaning and Data Preprocessing** "
   ]
  },
  {
   "cell_type": "code",
   "execution_count": null,
   "metadata": {
    "id": "Vex8qBvyjfsT"
   },
   "outputs": [],
   "source": [
    "#cleaning the reviews\n",
    "def cleaning_text(review):\n",
    "\n",
    "    #removing the url's\n",
    "    review = re.sub('http\\S+\\s*', ' ', review)\n",
    "    #removing the  punctuations\n",
    "    review = re.sub('[%s]' % re.escape(\"\"\"!\"#$%&'()*+,-./:;<=>@[\\]^_`{|}~\"\"\"), ' ', review)\n",
    "    #removing non-ascii characters\n",
    "    review = re.sub(r'[^\\x00-\\x7f]',r' ', review)\n",
    "    #removing mentions (i.e, @)\n",
    "    review = re.sub('@\\S+', '  ', review)\n",
    "    #removing hashtags\n",
    "    review = re.sub('#\\S+', ' ', review)\n",
    "    #remove numbers\n",
    "    review = re.sub(\"\\d+\", ' ', review)\n",
    "    #removing extra whitespaces, wherever applicable\n",
    "    review = re.sub('\\s+', ' ',review)\n",
    "    #converting the text into lowercase\n",
    "    review = review.lower()\n",
    "\n",
    "    return reviews"
   ]
  },
  {
   "cell_type": "markdown",
   "metadata": {
    "id": "HC33BN8fxDti"
   },
   "source": [
    "Here, we added a new column **clean_review_text** by cleaning the review_text(by removing punctuations, Url's, numbers, etc)."
   ]
  },
  {
   "cell_type": "code",
   "execution_count": null,
   "metadata": {
    "id": "U48t-do-vpqP"
   },
   "outputs": [],
   "source": [
    "yelp_train_data['clean_review_text'] = yelp_train_data['review_text'].apply(cleaning_text)\n",
    "yelp_test_data['clean_review_text'] = yelp_test_data['review_text'].apply(cleaning_text)"
   ]
  },
  {
   "cell_type": "code",
   "execution_count": null,
   "metadata": {
    "colab": {
     "base_uri": "https://localhost:8080/",
     "height": 206
    },
    "id": "4yT1D3W-vpm-",
    "outputId": "04ea67d0-4366-4c71-e313-cf10609d3c23"
   },
   "outputs": [
    {
     "data": {
      "text/html": [
       "\n",
       "  <div id=\"df-e7bb7bdf-6461-4933-a401-bb229aac6a37\">\n",
       "    <div class=\"colab-df-container\">\n",
       "      <div>\n",
       "<style scoped>\n",
       "    .dataframe tbody tr th:only-of-type {\n",
       "        vertical-align: middle;\n",
       "    }\n",
       "\n",
       "    .dataframe tbody tr th {\n",
       "        vertical-align: top;\n",
       "    }\n",
       "\n",
       "    .dataframe thead th {\n",
       "        text-align: right;\n",
       "    }\n",
       "</style>\n",
       "<table border=\"1\" class=\"dataframe\">\n",
       "  <thead>\n",
       "    <tr style=\"text-align: right;\">\n",
       "      <th></th>\n",
       "      <th>class_index</th>\n",
       "      <th>review_text</th>\n",
       "      <th>clean_review_text</th>\n",
       "    </tr>\n",
       "  </thead>\n",
       "  <tbody>\n",
       "    <tr>\n",
       "      <th>0</th>\n",
       "      <td>1</td>\n",
       "      <td>Unfortunately, the frustration of being Dr. Go...</td>\n",
       "      <td>unfortunately the frustration of being dr gold...</td>\n",
       "    </tr>\n",
       "    <tr>\n",
       "      <th>1</th>\n",
       "      <td>2</td>\n",
       "      <td>Been going to Dr. Goldberg for over 10 years. ...</td>\n",
       "      <td>been going to dr goldberg for over years i thi...</td>\n",
       "    </tr>\n",
       "    <tr>\n",
       "      <th>2</th>\n",
       "      <td>1</td>\n",
       "      <td>I don't know what Dr. Goldberg was like before...</td>\n",
       "      <td>i don t know what dr goldberg was like before ...</td>\n",
       "    </tr>\n",
       "    <tr>\n",
       "      <th>3</th>\n",
       "      <td>1</td>\n",
       "      <td>I'm writing this review to give you a heads up...</td>\n",
       "      <td>i m writing this review to give you a heads up...</td>\n",
       "    </tr>\n",
       "    <tr>\n",
       "      <th>4</th>\n",
       "      <td>2</td>\n",
       "      <td>All the food is great here. But the best thing...</td>\n",
       "      <td>all the food is great here but the best thing ...</td>\n",
       "    </tr>\n",
       "  </tbody>\n",
       "</table>\n",
       "</div>\n",
       "      <button class=\"colab-df-convert\" onclick=\"convertToInteractive('df-e7bb7bdf-6461-4933-a401-bb229aac6a37')\"\n",
       "              title=\"Convert this dataframe to an interactive table.\"\n",
       "              style=\"display:none;\">\n",
       "        \n",
       "  <svg xmlns=\"http://www.w3.org/2000/svg\" height=\"24px\"viewBox=\"0 0 24 24\"\n",
       "       width=\"24px\">\n",
       "    <path d=\"M0 0h24v24H0V0z\" fill=\"none\"/>\n",
       "    <path d=\"M18.56 5.44l.94 2.06.94-2.06 2.06-.94-2.06-.94-.94-2.06-.94 2.06-2.06.94zm-11 1L8.5 8.5l.94-2.06 2.06-.94-2.06-.94L8.5 2.5l-.94 2.06-2.06.94zm10 10l.94 2.06.94-2.06 2.06-.94-2.06-.94-.94-2.06-.94 2.06-2.06.94z\"/><path d=\"M17.41 7.96l-1.37-1.37c-.4-.4-.92-.59-1.43-.59-.52 0-1.04.2-1.43.59L10.3 9.45l-7.72 7.72c-.78.78-.78 2.05 0 2.83L4 21.41c.39.39.9.59 1.41.59.51 0 1.02-.2 1.41-.59l7.78-7.78 2.81-2.81c.8-.78.8-2.07 0-2.86zM5.41 20L4 18.59l7.72-7.72 1.47 1.35L5.41 20z\"/>\n",
       "  </svg>\n",
       "      </button>\n",
       "      \n",
       "  <style>\n",
       "    .colab-df-container {\n",
       "      display:flex;\n",
       "      flex-wrap:wrap;\n",
       "      gap: 12px;\n",
       "    }\n",
       "\n",
       "    .colab-df-convert {\n",
       "      background-color: #E8F0FE;\n",
       "      border: none;\n",
       "      border-radius: 50%;\n",
       "      cursor: pointer;\n",
       "      display: none;\n",
       "      fill: #1967D2;\n",
       "      height: 32px;\n",
       "      padding: 0 0 0 0;\n",
       "      width: 32px;\n",
       "    }\n",
       "\n",
       "    .colab-df-convert:hover {\n",
       "      background-color: #E2EBFA;\n",
       "      box-shadow: 0px 1px 2px rgba(60, 64, 67, 0.3), 0px 1px 3px 1px rgba(60, 64, 67, 0.15);\n",
       "      fill: #174EA6;\n",
       "    }\n",
       "\n",
       "    [theme=dark] .colab-df-convert {\n",
       "      background-color: #3B4455;\n",
       "      fill: #D2E3FC;\n",
       "    }\n",
       "\n",
       "    [theme=dark] .colab-df-convert:hover {\n",
       "      background-color: #434B5C;\n",
       "      box-shadow: 0px 1px 3px 1px rgba(0, 0, 0, 0.15);\n",
       "      filter: drop-shadow(0px 1px 2px rgba(0, 0, 0, 0.3));\n",
       "      fill: #FFFFFF;\n",
       "    }\n",
       "  </style>\n",
       "\n",
       "      <script>\n",
       "        const buttonEl =\n",
       "          document.querySelector('#df-e7bb7bdf-6461-4933-a401-bb229aac6a37 button.colab-df-convert');\n",
       "        buttonEl.style.display =\n",
       "          google.colab.kernel.accessAllowed ? 'block' : 'none';\n",
       "\n",
       "        async function convertToInteractive(key) {\n",
       "          const element = document.querySelector('#df-e7bb7bdf-6461-4933-a401-bb229aac6a37');\n",
       "          const dataTable =\n",
       "            await google.colab.kernel.invokeFunction('convertToInteractive',\n",
       "                                                     [key], {});\n",
       "          if (!dataTable) return;\n",
       "\n",
       "          const docLinkHtml = 'Like what you see? Visit the ' +\n",
       "            '<a target=\"_blank\" href=https://colab.research.google.com/notebooks/data_table.ipynb>data table notebook</a>'\n",
       "            + ' to learn more about interactive tables.';\n",
       "          element.innerHTML = '';\n",
       "          dataTable['output_type'] = 'display_data';\n",
       "          await google.colab.output.renderOutput(dataTable, element);\n",
       "          const docLink = document.createElement('div');\n",
       "          docLink.innerHTML = docLinkHtml;\n",
       "          element.appendChild(docLink);\n",
       "        }\n",
       "      </script>\n",
       "    </div>\n",
       "  </div>\n",
       "  "
      ],
      "text/plain": [
       "   class_index                                        review_text  \\\n",
       "0            1  Unfortunately, the frustration of being Dr. Go...   \n",
       "1            2  Been going to Dr. Goldberg for over 10 years. ...   \n",
       "2            1  I don't know what Dr. Goldberg was like before...   \n",
       "3            1  I'm writing this review to give you a heads up...   \n",
       "4            2  All the food is great here. But the best thing...   \n",
       "\n",
       "                                   clean_review_text  \n",
       "0  unfortunately the frustration of being dr gold...  \n",
       "1  been going to dr goldberg for over years i thi...  \n",
       "2  i don t know what dr goldberg was like before ...  \n",
       "3  i m writing this review to give you a heads up...  \n",
       "4  all the food is great here but the best thing ...  "
      ]
     },
     "execution_count": 13,
     "metadata": {},
     "output_type": "execute_result"
    }
   ],
   "source": [
    "#train data after adding a new column with clean reviews\n",
    "yelp_train_data.head()"
   ]
  },
  {
   "cell_type": "code",
   "execution_count": null,
   "metadata": {
    "colab": {
     "base_uri": "https://localhost:8080/",
     "height": 206
    },
    "id": "kBFQWp25RX5_",
    "outputId": "39a38b9a-445a-4cba-96ab-085c84749ae1"
   },
   "outputs": [
    {
     "data": {
      "text/html": [
       "\n",
       "  <div id=\"df-904839ad-0a9c-4a02-b8d0-1c5a60a79ef4\">\n",
       "    <div class=\"colab-df-container\">\n",
       "      <div>\n",
       "<style scoped>\n",
       "    .dataframe tbody tr th:only-of-type {\n",
       "        vertical-align: middle;\n",
       "    }\n",
       "\n",
       "    .dataframe tbody tr th {\n",
       "        vertical-align: top;\n",
       "    }\n",
       "\n",
       "    .dataframe thead th {\n",
       "        text-align: right;\n",
       "    }\n",
       "</style>\n",
       "<table border=\"1\" class=\"dataframe\">\n",
       "  <thead>\n",
       "    <tr style=\"text-align: right;\">\n",
       "      <th></th>\n",
       "      <th>class_index</th>\n",
       "      <th>review_text</th>\n",
       "      <th>clean_review_text</th>\n",
       "    </tr>\n",
       "  </thead>\n",
       "  <tbody>\n",
       "    <tr>\n",
       "      <th>0</th>\n",
       "      <td>2</td>\n",
       "      <td>Contrary to other reviews, I have zero complai...</td>\n",
       "      <td>contrary to other reviews i have zero complain...</td>\n",
       "    </tr>\n",
       "    <tr>\n",
       "      <th>1</th>\n",
       "      <td>1</td>\n",
       "      <td>Last summer I had an appointment to get new ti...</td>\n",
       "      <td>last summer i had an appointment to get new ti...</td>\n",
       "    </tr>\n",
       "    <tr>\n",
       "      <th>2</th>\n",
       "      <td>2</td>\n",
       "      <td>Friendly staff, same starbucks fair you get an...</td>\n",
       "      <td>friendly staff same starbucks fair you get any...</td>\n",
       "    </tr>\n",
       "    <tr>\n",
       "      <th>3</th>\n",
       "      <td>1</td>\n",
       "      <td>The food is good. Unfortunately the service is...</td>\n",
       "      <td>the food is good unfortunately the service is ...</td>\n",
       "    </tr>\n",
       "    <tr>\n",
       "      <th>4</th>\n",
       "      <td>2</td>\n",
       "      <td>Even when we didn't have a car Filene's Baseme...</td>\n",
       "      <td>even when we didn t have a car filene s baseme...</td>\n",
       "    </tr>\n",
       "  </tbody>\n",
       "</table>\n",
       "</div>\n",
       "      <button class=\"colab-df-convert\" onclick=\"convertToInteractive('df-904839ad-0a9c-4a02-b8d0-1c5a60a79ef4')\"\n",
       "              title=\"Convert this dataframe to an interactive table.\"\n",
       "              style=\"display:none;\">\n",
       "        \n",
       "  <svg xmlns=\"http://www.w3.org/2000/svg\" height=\"24px\"viewBox=\"0 0 24 24\"\n",
       "       width=\"24px\">\n",
       "    <path d=\"M0 0h24v24H0V0z\" fill=\"none\"/>\n",
       "    <path d=\"M18.56 5.44l.94 2.06.94-2.06 2.06-.94-2.06-.94-.94-2.06-.94 2.06-2.06.94zm-11 1L8.5 8.5l.94-2.06 2.06-.94-2.06-.94L8.5 2.5l-.94 2.06-2.06.94zm10 10l.94 2.06.94-2.06 2.06-.94-2.06-.94-.94-2.06-.94 2.06-2.06.94z\"/><path d=\"M17.41 7.96l-1.37-1.37c-.4-.4-.92-.59-1.43-.59-.52 0-1.04.2-1.43.59L10.3 9.45l-7.72 7.72c-.78.78-.78 2.05 0 2.83L4 21.41c.39.39.9.59 1.41.59.51 0 1.02-.2 1.41-.59l7.78-7.78 2.81-2.81c.8-.78.8-2.07 0-2.86zM5.41 20L4 18.59l7.72-7.72 1.47 1.35L5.41 20z\"/>\n",
       "  </svg>\n",
       "      </button>\n",
       "      \n",
       "  <style>\n",
       "    .colab-df-container {\n",
       "      display:flex;\n",
       "      flex-wrap:wrap;\n",
       "      gap: 12px;\n",
       "    }\n",
       "\n",
       "    .colab-df-convert {\n",
       "      background-color: #E8F0FE;\n",
       "      border: none;\n",
       "      border-radius: 50%;\n",
       "      cursor: pointer;\n",
       "      display: none;\n",
       "      fill: #1967D2;\n",
       "      height: 32px;\n",
       "      padding: 0 0 0 0;\n",
       "      width: 32px;\n",
       "    }\n",
       "\n",
       "    .colab-df-convert:hover {\n",
       "      background-color: #E2EBFA;\n",
       "      box-shadow: 0px 1px 2px rgba(60, 64, 67, 0.3), 0px 1px 3px 1px rgba(60, 64, 67, 0.15);\n",
       "      fill: #174EA6;\n",
       "    }\n",
       "\n",
       "    [theme=dark] .colab-df-convert {\n",
       "      background-color: #3B4455;\n",
       "      fill: #D2E3FC;\n",
       "    }\n",
       "\n",
       "    [theme=dark] .colab-df-convert:hover {\n",
       "      background-color: #434B5C;\n",
       "      box-shadow: 0px 1px 3px 1px rgba(0, 0, 0, 0.15);\n",
       "      filter: drop-shadow(0px 1px 2px rgba(0, 0, 0, 0.3));\n",
       "      fill: #FFFFFF;\n",
       "    }\n",
       "  </style>\n",
       "\n",
       "      <script>\n",
       "        const buttonEl =\n",
       "          document.querySelector('#df-904839ad-0a9c-4a02-b8d0-1c5a60a79ef4 button.colab-df-convert');\n",
       "        buttonEl.style.display =\n",
       "          google.colab.kernel.accessAllowed ? 'block' : 'none';\n",
       "\n",
       "        async function convertToInteractive(key) {\n",
       "          const element = document.querySelector('#df-904839ad-0a9c-4a02-b8d0-1c5a60a79ef4');\n",
       "          const dataTable =\n",
       "            await google.colab.kernel.invokeFunction('convertToInteractive',\n",
       "                                                     [key], {});\n",
       "          if (!dataTable) return;\n",
       "\n",
       "          const docLinkHtml = 'Like what you see? Visit the ' +\n",
       "            '<a target=\"_blank\" href=https://colab.research.google.com/notebooks/data_table.ipynb>data table notebook</a>'\n",
       "            + ' to learn more about interactive tables.';\n",
       "          element.innerHTML = '';\n",
       "          dataTable['output_type'] = 'display_data';\n",
       "          await google.colab.output.renderOutput(dataTable, element);\n",
       "          const docLink = document.createElement('div');\n",
       "          docLink.innerHTML = docLinkHtml;\n",
       "          element.appendChild(docLink);\n",
       "        }\n",
       "      </script>\n",
       "    </div>\n",
       "  </div>\n",
       "  "
      ],
      "text/plain": [
       "   class_index                                        review_text  \\\n",
       "0            2  Contrary to other reviews, I have zero complai...   \n",
       "1            1  Last summer I had an appointment to get new ti...   \n",
       "2            2  Friendly staff, same starbucks fair you get an...   \n",
       "3            1  The food is good. Unfortunately the service is...   \n",
       "4            2  Even when we didn't have a car Filene's Baseme...   \n",
       "\n",
       "                                   clean_review_text  \n",
       "0  contrary to other reviews i have zero complain...  \n",
       "1  last summer i had an appointment to get new ti...  \n",
       "2  friendly staff same starbucks fair you get any...  \n",
       "3  the food is good unfortunately the service is ...  \n",
       "4  even when we didn t have a car filene s baseme...  "
      ]
     },
     "execution_count": 14,
     "metadata": {},
     "output_type": "execute_result"
    }
   ],
   "source": [
    "#test data after adding a new column with clean reviews\n",
    "yelp_test_data.head()"
   ]
  },
  {
   "cell_type": "markdown",
   "metadata": {
    "id": "mOod4iMG1mCa"
   },
   "source": [
    "**Feature Engineering:** Adding custom features"
   ]
  },
  {
   "cell_type": "code",
   "execution_count": null,
   "metadata": {
    "id": "T5qtN--3vphi"
   },
   "outputs": [],
   "source": [
    "def custom_features(data):\n",
    "    #number of words in each review\n",
    "    data['no_of_words'] = data['clean_review_text'].apply(lambda x: len(str(x).split()))\n",
    "    #average length of each word in each review\n",
    "    data['avg_length_word'] = data['clean_review_text'].apply(lambda x: np.average([len(each_word) for each_word in str(x).split()]))\n",
    "    #number of characters in each review\n",
    "    data['no_of_characters'] = data['clean_review_text'].apply(lambda x: len(str(x)))\n",
    "    #number of unique words in each review\n",
    "    data['no_of_unique_words'] = data['clean_review_text'].apply(lambda x: len(set(str(x).split())))\n",
    "    \n",
    "    return data"
   ]
  },
  {
   "cell_type": "code",
   "execution_count": null,
   "metadata": {
    "colab": {
     "base_uri": "https://localhost:8080/"
    },
    "id": "QSvfmC63iB9M",
    "outputId": "3c2857e9-dc2c-48dc-e531-ebb0821e7b41"
   },
   "outputs": [
    {
     "name": "stderr",
     "output_type": "stream",
     "text": [
      "/usr/local/lib/python3.8/dist-packages/numpy/lib/function_base.py:380: RuntimeWarning: Mean of empty slice.\n",
      "  avg = a.mean(axis)\n"
     ]
    }
   ],
   "source": [
    "yelp_train_data = custom_features(yelp_train_data)\n",
    "yelp_test_data = custom_features(yelp_test_data)"
   ]
  },
  {
   "cell_type": "code",
   "execution_count": null,
   "metadata": {
    "colab": {
     "base_uri": "https://localhost:8080/"
    },
    "id": "CGMFaG_MiB5v",
    "outputId": "d37960bc-2b68-4bcd-a92c-d49ece193aeb"
   },
   "outputs": [
    {
     "name": "stdout",
     "output_type": "stream",
     "text": [
      "(560000, 7)\n",
      "(38000, 7)\n"
     ]
    }
   ],
   "source": [
    "print(yelp_train_data.shape)\n",
    "print(yelp_test_data.shape)"
   ]
  },
  {
   "cell_type": "code",
   "execution_count": null,
   "metadata": {
    "colab": {
     "base_uri": "https://localhost:8080/",
     "height": 337
    },
    "id": "ENr7HmaYiBcj",
    "outputId": "2f012d07-200c-4f4a-e095-6895df0caf6d"
   },
   "outputs": [
    {
     "data": {
      "text/html": [
       "\n",
       "  <div id=\"df-06401578-ee17-4577-acab-f9a119c19264\">\n",
       "    <div class=\"colab-df-container\">\n",
       "      <div>\n",
       "<style scoped>\n",
       "    .dataframe tbody tr th:only-of-type {\n",
       "        vertical-align: middle;\n",
       "    }\n",
       "\n",
       "    .dataframe tbody tr th {\n",
       "        vertical-align: top;\n",
       "    }\n",
       "\n",
       "    .dataframe thead th {\n",
       "        text-align: right;\n",
       "    }\n",
       "</style>\n",
       "<table border=\"1\" class=\"dataframe\">\n",
       "  <thead>\n",
       "    <tr style=\"text-align: right;\">\n",
       "      <th></th>\n",
       "      <th>class_index</th>\n",
       "      <th>review_text</th>\n",
       "      <th>clean_review_text</th>\n",
       "      <th>no_of_words</th>\n",
       "      <th>avg_length_word</th>\n",
       "      <th>no_of_characters</th>\n",
       "      <th>no_of_unique_words</th>\n",
       "    </tr>\n",
       "  </thead>\n",
       "  <tbody>\n",
       "    <tr>\n",
       "      <th>0</th>\n",
       "      <td>1</td>\n",
       "      <td>Unfortunately, the frustration of being Dr. Go...</td>\n",
       "      <td>unfortunately the frustration of being dr gold...</td>\n",
       "      <td>118</td>\n",
       "      <td>4.237288</td>\n",
       "      <td>618</td>\n",
       "      <td>80</td>\n",
       "    </tr>\n",
       "    <tr>\n",
       "      <th>1</th>\n",
       "      <td>2</td>\n",
       "      <td>Been going to Dr. Goldberg for over 10 years. ...</td>\n",
       "      <td>been going to dr goldberg for over years i thi...</td>\n",
       "      <td>98</td>\n",
       "      <td>3.908163</td>\n",
       "      <td>481</td>\n",
       "      <td>71</td>\n",
       "    </tr>\n",
       "    <tr>\n",
       "      <th>2</th>\n",
       "      <td>1</td>\n",
       "      <td>I don't know what Dr. Goldberg was like before...</td>\n",
       "      <td>i don t know what dr goldberg was like before ...</td>\n",
       "      <td>213</td>\n",
       "      <td>4.234742</td>\n",
       "      <td>1115</td>\n",
       "      <td>132</td>\n",
       "    </tr>\n",
       "    <tr>\n",
       "      <th>3</th>\n",
       "      <td>1</td>\n",
       "      <td>I'm writing this review to give you a heads up...</td>\n",
       "      <td>i m writing this review to give you a heads up...</td>\n",
       "      <td>203</td>\n",
       "      <td>4.029557</td>\n",
       "      <td>1021</td>\n",
       "      <td>108</td>\n",
       "    </tr>\n",
       "    <tr>\n",
       "      <th>4</th>\n",
       "      <td>2</td>\n",
       "      <td>All the food is great here. But the best thing...</td>\n",
       "      <td>all the food is great here but the best thing ...</td>\n",
       "      <td>76</td>\n",
       "      <td>4.105263</td>\n",
       "      <td>388</td>\n",
       "      <td>53</td>\n",
       "    </tr>\n",
       "  </tbody>\n",
       "</table>\n",
       "</div>\n",
       "      <button class=\"colab-df-convert\" onclick=\"convertToInteractive('df-06401578-ee17-4577-acab-f9a119c19264')\"\n",
       "              title=\"Convert this dataframe to an interactive table.\"\n",
       "              style=\"display:none;\">\n",
       "        \n",
       "  <svg xmlns=\"http://www.w3.org/2000/svg\" height=\"24px\"viewBox=\"0 0 24 24\"\n",
       "       width=\"24px\">\n",
       "    <path d=\"M0 0h24v24H0V0z\" fill=\"none\"/>\n",
       "    <path d=\"M18.56 5.44l.94 2.06.94-2.06 2.06-.94-2.06-.94-.94-2.06-.94 2.06-2.06.94zm-11 1L8.5 8.5l.94-2.06 2.06-.94-2.06-.94L8.5 2.5l-.94 2.06-2.06.94zm10 10l.94 2.06.94-2.06 2.06-.94-2.06-.94-.94-2.06-.94 2.06-2.06.94z\"/><path d=\"M17.41 7.96l-1.37-1.37c-.4-.4-.92-.59-1.43-.59-.52 0-1.04.2-1.43.59L10.3 9.45l-7.72 7.72c-.78.78-.78 2.05 0 2.83L4 21.41c.39.39.9.59 1.41.59.51 0 1.02-.2 1.41-.59l7.78-7.78 2.81-2.81c.8-.78.8-2.07 0-2.86zM5.41 20L4 18.59l7.72-7.72 1.47 1.35L5.41 20z\"/>\n",
       "  </svg>\n",
       "      </button>\n",
       "      \n",
       "  <style>\n",
       "    .colab-df-container {\n",
       "      display:flex;\n",
       "      flex-wrap:wrap;\n",
       "      gap: 12px;\n",
       "    }\n",
       "\n",
       "    .colab-df-convert {\n",
       "      background-color: #E8F0FE;\n",
       "      border: none;\n",
       "      border-radius: 50%;\n",
       "      cursor: pointer;\n",
       "      display: none;\n",
       "      fill: #1967D2;\n",
       "      height: 32px;\n",
       "      padding: 0 0 0 0;\n",
       "      width: 32px;\n",
       "    }\n",
       "\n",
       "    .colab-df-convert:hover {\n",
       "      background-color: #E2EBFA;\n",
       "      box-shadow: 0px 1px 2px rgba(60, 64, 67, 0.3), 0px 1px 3px 1px rgba(60, 64, 67, 0.15);\n",
       "      fill: #174EA6;\n",
       "    }\n",
       "\n",
       "    [theme=dark] .colab-df-convert {\n",
       "      background-color: #3B4455;\n",
       "      fill: #D2E3FC;\n",
       "    }\n",
       "\n",
       "    [theme=dark] .colab-df-convert:hover {\n",
       "      background-color: #434B5C;\n",
       "      box-shadow: 0px 1px 3px 1px rgba(0, 0, 0, 0.15);\n",
       "      filter: drop-shadow(0px 1px 2px rgba(0, 0, 0, 0.3));\n",
       "      fill: #FFFFFF;\n",
       "    }\n",
       "  </style>\n",
       "\n",
       "      <script>\n",
       "        const buttonEl =\n",
       "          document.querySelector('#df-06401578-ee17-4577-acab-f9a119c19264 button.colab-df-convert');\n",
       "        buttonEl.style.display =\n",
       "          google.colab.kernel.accessAllowed ? 'block' : 'none';\n",
       "\n",
       "        async function convertToInteractive(key) {\n",
       "          const element = document.querySelector('#df-06401578-ee17-4577-acab-f9a119c19264');\n",
       "          const dataTable =\n",
       "            await google.colab.kernel.invokeFunction('convertToInteractive',\n",
       "                                                     [key], {});\n",
       "          if (!dataTable) return;\n",
       "\n",
       "          const docLinkHtml = 'Like what you see? Visit the ' +\n",
       "            '<a target=\"_blank\" href=https://colab.research.google.com/notebooks/data_table.ipynb>data table notebook</a>'\n",
       "            + ' to learn more about interactive tables.';\n",
       "          element.innerHTML = '';\n",
       "          dataTable['output_type'] = 'display_data';\n",
       "          await google.colab.output.renderOutput(dataTable, element);\n",
       "          const docLink = document.createElement('div');\n",
       "          docLink.innerHTML = docLinkHtml;\n",
       "          element.appendChild(docLink);\n",
       "        }\n",
       "      </script>\n",
       "    </div>\n",
       "  </div>\n",
       "  "
      ],
      "text/plain": [
       "   class_index                                        review_text  \\\n",
       "0            1  Unfortunately, the frustration of being Dr. Go...   \n",
       "1            2  Been going to Dr. Goldberg for over 10 years. ...   \n",
       "2            1  I don't know what Dr. Goldberg was like before...   \n",
       "3            1  I'm writing this review to give you a heads up...   \n",
       "4            2  All the food is great here. But the best thing...   \n",
       "\n",
       "                                   clean_review_text  no_of_words  \\\n",
       "0  unfortunately the frustration of being dr gold...          118   \n",
       "1  been going to dr goldberg for over years i thi...           98   \n",
       "2  i don t know what dr goldberg was like before ...          213   \n",
       "3  i m writing this review to give you a heads up...          203   \n",
       "4  all the food is great here but the best thing ...           76   \n",
       "\n",
       "   avg_length_word  no_of_characters  no_of_unique_words  \n",
       "0         4.237288               618                  80  \n",
       "1         3.908163               481                  71  \n",
       "2         4.234742              1115                 132  \n",
       "3         4.029557              1021                 108  \n",
       "4         4.105263               388                  53  "
      ]
     },
     "execution_count": 18,
     "metadata": {},
     "output_type": "execute_result"
    }
   ],
   "source": [
    "#train data after adding custom features\n",
    "yelp_train_data.head()"
   ]
  },
  {
   "cell_type": "code",
   "execution_count": null,
   "metadata": {
    "colab": {
     "base_uri": "https://localhost:8080/",
     "height": 337
    },
    "id": "pR-f9GmRSMNB",
    "outputId": "d9590dc7-cd28-43ec-fd47-197092ab8e82"
   },
   "outputs": [
    {
     "data": {
      "text/html": [
       "\n",
       "  <div id=\"df-3d6aadb4-59e5-4142-b817-ab4e8b8441bb\">\n",
       "    <div class=\"colab-df-container\">\n",
       "      <div>\n",
       "<style scoped>\n",
       "    .dataframe tbody tr th:only-of-type {\n",
       "        vertical-align: middle;\n",
       "    }\n",
       "\n",
       "    .dataframe tbody tr th {\n",
       "        vertical-align: top;\n",
       "    }\n",
       "\n",
       "    .dataframe thead th {\n",
       "        text-align: right;\n",
       "    }\n",
       "</style>\n",
       "<table border=\"1\" class=\"dataframe\">\n",
       "  <thead>\n",
       "    <tr style=\"text-align: right;\">\n",
       "      <th></th>\n",
       "      <th>class_index</th>\n",
       "      <th>review_text</th>\n",
       "      <th>clean_review_text</th>\n",
       "      <th>no_of_words</th>\n",
       "      <th>avg_length_word</th>\n",
       "      <th>no_of_characters</th>\n",
       "      <th>no_of_unique_words</th>\n",
       "    </tr>\n",
       "  </thead>\n",
       "  <tbody>\n",
       "    <tr>\n",
       "      <th>0</th>\n",
       "      <td>2</td>\n",
       "      <td>Contrary to other reviews, I have zero complai...</td>\n",
       "      <td>contrary to other reviews i have zero complain...</td>\n",
       "      <td>125</td>\n",
       "      <td>4.296000</td>\n",
       "      <td>662</td>\n",
       "      <td>91</td>\n",
       "    </tr>\n",
       "    <tr>\n",
       "      <th>1</th>\n",
       "      <td>1</td>\n",
       "      <td>Last summer I had an appointment to get new ti...</td>\n",
       "      <td>last summer i had an appointment to get new ti...</td>\n",
       "      <td>72</td>\n",
       "      <td>3.861111</td>\n",
       "      <td>350</td>\n",
       "      <td>55</td>\n",
       "    </tr>\n",
       "    <tr>\n",
       "      <th>2</th>\n",
       "      <td>2</td>\n",
       "      <td>Friendly staff, same starbucks fair you get an...</td>\n",
       "      <td>friendly staff same starbucks fair you get any...</td>\n",
       "      <td>15</td>\n",
       "      <td>5.000000</td>\n",
       "      <td>90</td>\n",
       "      <td>14</td>\n",
       "    </tr>\n",
       "    <tr>\n",
       "      <th>3</th>\n",
       "      <td>1</td>\n",
       "      <td>The food is good. Unfortunately the service is...</td>\n",
       "      <td>the food is good unfortunately the service is ...</td>\n",
       "      <td>54</td>\n",
       "      <td>4.500000</td>\n",
       "      <td>297</td>\n",
       "      <td>42</td>\n",
       "    </tr>\n",
       "    <tr>\n",
       "      <th>4</th>\n",
       "      <td>2</td>\n",
       "      <td>Even when we didn't have a car Filene's Baseme...</td>\n",
       "      <td>even when we didn t have a car filene s baseme...</td>\n",
       "      <td>143</td>\n",
       "      <td>4.230769</td>\n",
       "      <td>748</td>\n",
       "      <td>86</td>\n",
       "    </tr>\n",
       "  </tbody>\n",
       "</table>\n",
       "</div>\n",
       "      <button class=\"colab-df-convert\" onclick=\"convertToInteractive('df-3d6aadb4-59e5-4142-b817-ab4e8b8441bb')\"\n",
       "              title=\"Convert this dataframe to an interactive table.\"\n",
       "              style=\"display:none;\">\n",
       "        \n",
       "  <svg xmlns=\"http://www.w3.org/2000/svg\" height=\"24px\"viewBox=\"0 0 24 24\"\n",
       "       width=\"24px\">\n",
       "    <path d=\"M0 0h24v24H0V0z\" fill=\"none\"/>\n",
       "    <path d=\"M18.56 5.44l.94 2.06.94-2.06 2.06-.94-2.06-.94-.94-2.06-.94 2.06-2.06.94zm-11 1L8.5 8.5l.94-2.06 2.06-.94-2.06-.94L8.5 2.5l-.94 2.06-2.06.94zm10 10l.94 2.06.94-2.06 2.06-.94-2.06-.94-.94-2.06-.94 2.06-2.06.94z\"/><path d=\"M17.41 7.96l-1.37-1.37c-.4-.4-.92-.59-1.43-.59-.52 0-1.04.2-1.43.59L10.3 9.45l-7.72 7.72c-.78.78-.78 2.05 0 2.83L4 21.41c.39.39.9.59 1.41.59.51 0 1.02-.2 1.41-.59l7.78-7.78 2.81-2.81c.8-.78.8-2.07 0-2.86zM5.41 20L4 18.59l7.72-7.72 1.47 1.35L5.41 20z\"/>\n",
       "  </svg>\n",
       "      </button>\n",
       "      \n",
       "  <style>\n",
       "    .colab-df-container {\n",
       "      display:flex;\n",
       "      flex-wrap:wrap;\n",
       "      gap: 12px;\n",
       "    }\n",
       "\n",
       "    .colab-df-convert {\n",
       "      background-color: #E8F0FE;\n",
       "      border: none;\n",
       "      border-radius: 50%;\n",
       "      cursor: pointer;\n",
       "      display: none;\n",
       "      fill: #1967D2;\n",
       "      height: 32px;\n",
       "      padding: 0 0 0 0;\n",
       "      width: 32px;\n",
       "    }\n",
       "\n",
       "    .colab-df-convert:hover {\n",
       "      background-color: #E2EBFA;\n",
       "      box-shadow: 0px 1px 2px rgba(60, 64, 67, 0.3), 0px 1px 3px 1px rgba(60, 64, 67, 0.15);\n",
       "      fill: #174EA6;\n",
       "    }\n",
       "\n",
       "    [theme=dark] .colab-df-convert {\n",
       "      background-color: #3B4455;\n",
       "      fill: #D2E3FC;\n",
       "    }\n",
       "\n",
       "    [theme=dark] .colab-df-convert:hover {\n",
       "      background-color: #434B5C;\n",
       "      box-shadow: 0px 1px 3px 1px rgba(0, 0, 0, 0.15);\n",
       "      filter: drop-shadow(0px 1px 2px rgba(0, 0, 0, 0.3));\n",
       "      fill: #FFFFFF;\n",
       "    }\n",
       "  </style>\n",
       "\n",
       "      <script>\n",
       "        const buttonEl =\n",
       "          document.querySelector('#df-3d6aadb4-59e5-4142-b817-ab4e8b8441bb button.colab-df-convert');\n",
       "        buttonEl.style.display =\n",
       "          google.colab.kernel.accessAllowed ? 'block' : 'none';\n",
       "\n",
       "        async function convertToInteractive(key) {\n",
       "          const element = document.querySelector('#df-3d6aadb4-59e5-4142-b817-ab4e8b8441bb');\n",
       "          const dataTable =\n",
       "            await google.colab.kernel.invokeFunction('convertToInteractive',\n",
       "                                                     [key], {});\n",
       "          if (!dataTable) return;\n",
       "\n",
       "          const docLinkHtml = 'Like what you see? Visit the ' +\n",
       "            '<a target=\"_blank\" href=https://colab.research.google.com/notebooks/data_table.ipynb>data table notebook</a>'\n",
       "            + ' to learn more about interactive tables.';\n",
       "          element.innerHTML = '';\n",
       "          dataTable['output_type'] = 'display_data';\n",
       "          await google.colab.output.renderOutput(dataTable, element);\n",
       "          const docLink = document.createElement('div');\n",
       "          docLink.innerHTML = docLinkHtml;\n",
       "          element.appendChild(docLink);\n",
       "        }\n",
       "      </script>\n",
       "    </div>\n",
       "  </div>\n",
       "  "
      ],
      "text/plain": [
       "   class_index                                        review_text  \\\n",
       "0            2  Contrary to other reviews, I have zero complai...   \n",
       "1            1  Last summer I had an appointment to get new ti...   \n",
       "2            2  Friendly staff, same starbucks fair you get an...   \n",
       "3            1  The food is good. Unfortunately the service is...   \n",
       "4            2  Even when we didn't have a car Filene's Baseme...   \n",
       "\n",
       "                                   clean_review_text  no_of_words  \\\n",
       "0  contrary to other reviews i have zero complain...          125   \n",
       "1  last summer i had an appointment to get new ti...           72   \n",
       "2  friendly staff same starbucks fair you get any...           15   \n",
       "3  the food is good unfortunately the service is ...           54   \n",
       "4  even when we didn t have a car filene s baseme...          143   \n",
       "\n",
       "   avg_length_word  no_of_characters  no_of_unique_words  \n",
       "0         4.296000               662                  91  \n",
       "1         3.861111               350                  55  \n",
       "2         5.000000                90                  14  \n",
       "3         4.500000               297                  42  \n",
       "4         4.230769               748                  86  "
      ]
     },
     "execution_count": 19,
     "metadata": {},
     "output_type": "execute_result"
    }
   ],
   "source": [
    "#test data after adding custom features\n",
    "yelp_test_data.head()"
   ]
  },
  {
   "cell_type": "code",
   "execution_count": null,
   "metadata": {
    "colab": {
     "base_uri": "https://localhost:8080/"
    },
    "id": "yqcn19MKjYda",
    "outputId": "f5344f4f-5457-489a-e910-184531eec77c"
   },
   "outputs": [
    {
     "name": "stdout",
     "output_type": "stream",
     "text": [
      "class_index            0\n",
      "review_text            0\n",
      "clean_review_text      0\n",
      "no_of_words            0\n",
      "avg_length_word       29\n",
      "no_of_characters       0\n",
      "no_of_unique_words     0\n",
      "dtype: int64\n",
      "class_index           0\n",
      "review_text           0\n",
      "clean_review_text     0\n",
      "no_of_words           0\n",
      "avg_length_word       0\n",
      "no_of_characters      0\n",
      "no_of_unique_words    0\n",
      "dtype: int64\n"
     ]
    }
   ],
   "source": [
    "#let's see which column/columns have null values\n",
    "print(yelp_train_data.isnull().sum())\n",
    "print(yelp_test_data.isnull().sum())"
   ]
  },
  {
   "cell_type": "code",
   "execution_count": null,
   "metadata": {
    "colab": {
     "base_uri": "https://localhost:8080/"
    },
    "id": "YV-Ve10ijYZ0",
    "outputId": "525a126d-2b51-4869-e879-cff88c12a8c9"
   },
   "outputs": [
    {
     "data": {
      "text/plain": [
       "(559971, 7)"
      ]
     },
     "execution_count": 21,
     "metadata": {},
     "output_type": "execute_result"
    }
   ],
   "source": [
    "#From the above output, we can see that in the training data the column 'avg_length_word' has null values.\n",
    "#So,removing the rows that contain null values\n",
    "yelp_train_data = yelp_train_data.dropna()\n",
    "yelp_train_data.shape"
   ]
  },
  {
   "cell_type": "markdown",
   "metadata": {
    "id": "FMqv6Yh2qCR8"
   },
   "source": [
    "Partitioning the training and testing data and filtering the columns.\n"
   ]
  },
  {
   "cell_type": "code",
   "execution_count": null,
   "metadata": {
    "colab": {
     "base_uri": "https://localhost:8080/"
    },
    "id": "o27Y34Xgf_Sr",
    "outputId": "ce8302ba-3875-43b7-8957-07ef015bb3cb"
   },
   "outputs": [
    {
     "name": "stdout",
     "output_type": "stream",
     "text": [
      "(559971, 4)\n",
      "(38000, 4)\n"
     ]
    }
   ],
   "source": [
    "#creating a dataframe only for custom features\n",
    "yelp_cf_train = yelp_train_data[['no_of_words','avg_length_word','no_of_characters','no_of_unique_words']]\n",
    "yelp_cf_test = yelp_test_data[['no_of_words','avg_length_word','no_of_characters','no_of_unique_words']]\n",
    "print(yelp_cf_train.shape)\n",
    "print(yelp_cf_test.shape)"
   ]
  },
  {
   "cell_type": "code",
   "execution_count": null,
   "metadata": {
    "colab": {
     "base_uri": "https://localhost:8080/"
    },
    "id": "64t0glL0hpzR",
    "outputId": "577884ea-c20e-4725-ec1b-9294dae2858a"
   },
   "outputs": [
    {
     "name": "stdout",
     "output_type": "stream",
     "text": [
      "(559971,)\n",
      "(38000,)\n"
     ]
    }
   ],
   "source": [
    "#target variables\n",
    "y_train = yelp_train_data['class_index']\n",
    "y_test = yelp_test_data['class_index']\n",
    "print(y_train.shape)\n",
    "print(y_test.shape)"
   ]
  },
  {
   "cell_type": "markdown",
   "metadata": {
    "id": "gWJ3T-Y3WTy7"
   },
   "source": [
    "#### **Count Vectorizer**\n",
    "\n",
    "- Convert a collection of text documents to a matrix of token counts"
   ]
  },
  {
   "cell_type": "code",
   "execution_count": null,
   "metadata": {
    "id": "tlXgxPhhw586"
   },
   "outputs": [],
   "source": [
    "def count_vect(train_data,test_data):\n",
    "\n",
    "    #Initialising the countvectorizer\n",
    "    #df:When building the vocabulary it ignores the terms that have a document frequency strictly lower than the given threshold(df=5)\n",
    "    vectorizer = CountVectorizer(min_df=5)\n",
    "    #fit_transform learns the vocabulary dictionary and return document-term matrix.\n",
    "    train_cv = vectorizer.fit_transform(train_data)\n",
    "    #Transform documents to document-term matrix\n",
    "    test_cv = vectorizer.transform(test_data)\n",
    "\n",
    "    return train_cv,test_cv"
   ]
  },
  {
   "cell_type": "code",
   "execution_count": null,
   "metadata": {
    "id": "JTKUIwdF8zKm"
   },
   "outputs": [],
   "source": [
    "yelp_train_cv,yelp_test_cv=count_vect(yelp_train_data['clean_review_text'],yelp_test_data['clean_review_text'])"
   ]
  },
  {
   "cell_type": "code",
   "execution_count": null,
   "metadata": {
    "colab": {
     "base_uri": "https://localhost:8080/"
    },
    "id": "MCRF5cuAw55U",
    "outputId": "43b976df-d3d2-4926-d7e9-b1ede2e4a67d"
   },
   "outputs": [
    {
     "name": "stdout",
     "output_type": "stream",
     "text": [
      "(559971, 61467)\n",
      "(38000, 61467)\n"
     ]
    }
   ],
   "source": [
    "print(yelp_train_cv.shape)\n",
    "print(yelp_test_cv.shape)"
   ]
  },
  {
   "cell_type": "markdown",
   "metadata": {
    "id": "srzAwoTq9wUV"
   },
   "source": [
    "#### **TF-IDF Vectorizer**\n",
    "\n",
    "- Convert a collection of raw documents to a matrix of TF-IDF features."
   ]
  },
  {
   "cell_type": "code",
   "execution_count": null,
   "metadata": {
    "id": "qSnKTjS6-Es9"
   },
   "outputs": [],
   "source": [
    "def tf_idf_vect(train_data,test_data):\n",
    "\n",
    "    #Initialising the tf-idf vectorizer\n",
    "    #df:When building the vocabulary it ignores the terms that have a document frequency strictly lower than the given threshold(df=5)\n",
    "    vectorizer = TfidfVectorizer(min_df=5)\n",
    "    #fit_transform learns the vocabulary dictionary and return document-term matrix.\n",
    "    train_cv = vectorizer.fit_transform(train_data)\n",
    "    #Transform documents to document-term matrix\n",
    "    test_cv = vectorizer.transform(test_data)\n",
    "\n",
    "    return train_cv,test_cv"
   ]
  },
  {
   "cell_type": "code",
   "execution_count": null,
   "metadata": {
    "id": "DWFpdUGN-Epc"
   },
   "outputs": [],
   "source": [
    "yelp_train_tfidf,yelp_test_tfidf = tf_idf_vect(yelp_train_data['clean_review_text'],yelp_test_data['clean_review_text'])"
   ]
  },
  {
   "cell_type": "code",
   "execution_count": null,
   "metadata": {
    "colab": {
     "base_uri": "https://localhost:8080/"
    },
    "id": "XDFN4RwZVC3J",
    "outputId": "d9f1e0c8-342c-4ba5-9b1d-fb3d01e45615"
   },
   "outputs": [
    {
     "name": "stdout",
     "output_type": "stream",
     "text": [
      "(559971, 61467)\n",
      "(38000, 61467)\n"
     ]
    }
   ],
   "source": [
    "print(yelp_train_tfidf.shape)\n",
    "print(yelp_test_tfidf.shape)"
   ]
  },
  {
   "cell_type": "markdown",
   "metadata": {
    "id": "7ejNNWKg-Mv6"
   },
   "source": [
    "#### **Feature Scaling(using l2 Norm)**\n",
    "\n",
    "- Normalize samples individually to unit norm"
   ]
  },
  {
   "cell_type": "code",
   "execution_count": null,
   "metadata": {
    "id": "5wJYhI8YYEix"
   },
   "outputs": [],
   "source": [
    "def normalize_data(train_data,test_data):\n",
    "    #usisng the l2 regularization\n",
    "    scaling_data = preprocessing.Normalizer(norm='l2')\n",
    "    #fit-transform on training data\n",
    "    train_scaled = scaling_data.fit_transform(train_data)\n",
    "    #transform on test data\n",
    "    test_scaled = scaling_data.transform(test_data)\n",
    "\n",
    "    return train_scaled,test_scaled"
   ]
  },
  {
   "cell_type": "markdown",
   "metadata": {
    "id": "dBdwQFrRef5_"
   },
   "source": [
    "### **Machine Learning models**"
   ]
  },
  {
   "cell_type": "markdown",
   "metadata": {
    "id": "qzri9Dyir9OO"
   },
   "source": [
    "#### **Logistic Regression**"
   ]
  },
  {
   "cell_type": "code",
   "execution_count": null,
   "metadata": {
    "id": "QGTXjas3e72y"
   },
   "outputs": [],
   "source": [
    "def logistic_reg(x_train,y_train,x_test,y_test,c,p,m):\n",
    "    \n",
    "    #logistic regression model\n",
    "    #C is the regularization strength and penalty the norm used in the penalization.\n",
    "    log_reg = LogisticRegression(C = c,penalty=p,max_iter=m)\n",
    "    #fitting the model\n",
    "    log_reg.fit(x_train,y_train)\n",
    "    #predict on train data\n",
    "    y_pred_train = log_reg.predict(x_train)\n",
    "    #on test data\n",
    "    y_pred_test = log_reg.predict(x_test)\n",
    "    #calculating the metrics to evaluate the model\n",
    "    #accuracy\n",
    "    train_acc = accuracy_score(y_pred_train,y_train)\n",
    "    test_acc = accuracy_score(y_pred_test,y_test)\n",
    "    #f1score\n",
    "    train_f1 = f1_score(y_pred_train,y_train) \n",
    "    test_f1 = f1_score(y_pred_test,y_test)\n",
    "\n",
    "    return train_acc,test_acc,train_f1,test_f1"
   ]
  },
  {
   "cell_type": "markdown",
   "metadata": {
    "id": "7z5fxWtgsK0R"
   },
   "source": [
    "**Logistic Regression with count Vectorizer**"
   ]
  },
  {
   "cell_type": "code",
   "execution_count": null,
   "metadata": {
    "id": "v0j9BBOGmE2Y"
   },
   "outputs": [],
   "source": [
    "#train data and test data consists of both custom features and count vectorizer matrix\n",
    "train_data = sparse.hstack([yelp_train_cv,yelp_cf_train])\n",
    "test_data = sparse.hstack([yelp_test_cv,yelp_cf_test])"
   ]
  },
  {
   "cell_type": "code",
   "execution_count": null,
   "metadata": {
    "id": "vYdEFJcfmEy5"
   },
   "outputs": [],
   "source": [
    "#now normalizing the data before passing into the model\n",
    "X_scaled_train_data,X_scaled_test_data = normalize_data(train_data,test_data)"
   ]
  },
  {
   "cell_type": "markdown",
   "metadata": {
    "id": "AFxR0hwTmGLm"
   },
   "source": [
    "Using the **GridSearchCV** to find the best parameters and train the model using those parameters"
   ]
  },
  {
   "cell_type": "code",
   "execution_count": null,
   "metadata": {
    "id": "XFL_NtjdmFon"
   },
   "outputs": [],
   "source": [
    "parameters = {'C':[0.01,0.1,1,5,10],\"penalty\":[\"l1\",\"l2\"]}\n",
    "lr = LogisticRegression()\n",
    "lr_gscv = GridSearchCV(lr, parameters)\n",
    "lr_gscv.fit(X_scaled_train_data,y_train)"
   ]
  },
  {
   "cell_type": "markdown",
   "metadata": {
    "id": "LkeoImIfstQZ"
   },
   "source": [
    "Below, we can see the best parameters given by the GridSearchCV. {**C: 10, penalty:'l2'**}"
   ]
  },
  {
   "cell_type": "code",
   "execution_count": null,
   "metadata": {
    "colab": {
     "base_uri": "https://localhost:8080/"
    },
    "id": "hIWS9ntVnRfl",
    "outputId": "d9535108-4be9-4a17-f1a9-286902f90aab"
   },
   "outputs": [
    {
     "data": {
      "text/plain": [
       "{'C': 10, 'penalty': 'l2'}"
      ]
     },
     "execution_count": 78,
     "metadata": {},
     "output_type": "execute_result"
    }
   ],
   "source": [
    "lr_gscv.best_params_"
   ]
  },
  {
   "cell_type": "code",
   "execution_count": null,
   "metadata": {
    "id": "Rujwxf3qe7zY"
   },
   "outputs": [],
   "source": [
    "#logistic regression with count vectorizer using the best parameters as per GridSearchCV\n",
    "yelp_train_acc,yelp_test_acc,yelp_train_f1,yelp_test_f1 = logistic_reg(X_scaled_train_data,y_train,X_scaled_test_data,y_test,10,'l2',300)"
   ]
  },
  {
   "cell_type": "code",
   "execution_count": null,
   "metadata": {
    "colab": {
     "base_uri": "https://localhost:8080/"
    },
    "id": "p-_x7oADYEdH",
    "outputId": "9f0617b9-dc4f-4101-cc38-78c470fa19bc"
   },
   "outputs": [
    {
     "name": "stdout",
     "output_type": "stream",
     "text": [
      "Accuracy on train data:85.86%\n",
      "Accuracy on test data:86.02%\n",
      "F1-score on train data:0.861275665525782\n",
      "F1-score on test data:0.8626822458897735\n"
     ]
    }
   ],
   "source": [
    "print(f'Accuracy on train data:{round(yelp_train_acc*100,2)}%')\n",
    "print(f'Accuracy on test data:{round(yelp_test_acc*100,2)}%')\n",
    "print(f'F1-score on train data:{yelp_train_f1}')\n",
    "print(f'F1-score on test data:{yelp_test_f1}')"
   ]
  },
  {
   "cell_type": "markdown",
   "metadata": {
    "id": "wUpDFtZ7kaPy"
   },
   "source": [
    "**Logistic Regression with TF-IDF Vectorizer**"
   ]
  },
  {
   "cell_type": "code",
   "execution_count": null,
   "metadata": {
    "id": "q-7MGBqzdaHq"
   },
   "outputs": [],
   "source": [
    "#train data and test data consists of both custom features and tf-idf vectorizer matrix\n",
    "train_data_tfidf = sparse.hstack([yelp_train_tfidf,yelp_cf_train])\n",
    "test_data_tfidf = sparse.hstack([yelp_test_tfidf,yelp_cf_test])"
   ]
  },
  {
   "cell_type": "code",
   "execution_count": null,
   "metadata": {
    "id": "13_SErv-1Xcj"
   },
   "outputs": [],
   "source": [
    "#scaling the data\n",
    "X_scaled_train_data_tfidf,X_scaled_test_data_tfidf = normalize_data(train_data_tfidf,test_data_tfidf)"
   ]
  },
  {
   "cell_type": "code",
   "execution_count": null,
   "metadata": {
    "id": "OmBYiuSadaAL"
   },
   "outputs": [],
   "source": [
    "#logistic regression with tf-idf vectorizer(without feature scaling) and best parameters\n",
    "yelp_train_acc_tfidf,yelp_test_acc_tfidf,yelp_train_f1_tfidf,yelp_test_f1_tfidf = logistic_reg(train_data_tfidf,y_train,test_data_tfidf,y_test,10,'l2',300)"
   ]
  },
  {
   "cell_type": "code",
   "execution_count": null,
   "metadata": {
    "colab": {
     "base_uri": "https://localhost:8080/"
    },
    "id": "0MgRaFISdZ96",
    "outputId": "badc15b4-ae4b-4bed-fe73-bfc5d78059e2"
   },
   "outputs": [
    {
     "name": "stdout",
     "output_type": "stream",
     "text": [
      "Accuracy on train data:91.56%\n",
      "Accuracy on test data:91.7%\n",
      "F1-score on train data:0.9159846410921889\n",
      "F1-score on test data:0.9175467949388267\n"
     ]
    }
   ],
   "source": [
    "print(f'Accuracy on train data:{round(yelp_train_acc_tfidf*100,2)}%')\n",
    "print(f'Accuracy on test data:{round(yelp_test_acc_tfidf*100,2)}%')\n",
    "print(f'F1-score on train data:{yelp_train_f1_tfidf}')\n",
    "print(f'F1-score on test data:{yelp_test_f1_tfidf}')"
   ]
  },
  {
   "cell_type": "markdown",
   "metadata": {
    "id": "lOindoInwhDp"
   },
   "source": [
    "**Analysis:**\n",
    "\n",
    "We can observe that the logistic regression(using best parameters) with TF-IDF vectorizer is giving us a better accuracy and F1-score than the count vectorizer."
   ]
  },
  {
   "cell_type": "markdown",
   "metadata": {
    "id": "M3d_khrQIbpT"
   },
   "source": [
    "#### **Support Vector Machines (SVMs)**"
   ]
  },
  {
   "cell_type": "markdown",
   "metadata": {
    "id": "bGM8vg79T8E2"
   },
   "source": [
    "**Linear Support Vector Classification(LinearSVC)**\n"
   ]
  },
  {
   "cell_type": "code",
   "execution_count": null,
   "metadata": {
    "id": "HiIx46h7wdrj"
   },
   "outputs": [],
   "source": [
    "def linear_svc_model(x_train,y_train,x_test,y_test,c,t):\n",
    "    #linear svc model. \n",
    "    linear_svc = LinearSVC(penalty='l2',C=c,tol=t)\n",
    "    #fitting the model\n",
    "    linear_svc.fit(x_train,y_train)\n",
    "    #predict on train data\n",
    "    y_pred_train = linear_svc.predict(x_train)\n",
    "    #on test data\n",
    "    y_pred_test = linear_svc.predict(x_test)\n",
    "    #calculating the metrics to evaluate the model\n",
    "    #accuracy\n",
    "    train_acc = accuracy_score(y_pred_train,y_train)\n",
    "    test_acc = accuracy_score(y_pred_test,y_test)\n",
    "    #f1score\n",
    "    train_f1 = f1_score(y_pred_train,y_train) \n",
    "    test_f1 = f1_score(y_pred_test,y_test)\n",
    "\n",
    "    return train_acc,test_acc,train_f1,test_f1"
   ]
  },
  {
   "cell_type": "markdown",
   "metadata": {
    "id": "c2nQlxHUbuVy"
   },
   "source": [
    "**LinearSVC with count Vectorizer**"
   ]
  },
  {
   "cell_type": "markdown",
   "metadata": {
    "id": "5SSY0ao_ig1T"
   },
   "source": [
    "**GridSearchCV** to find the best parameters"
   ]
  },
  {
   "cell_type": "code",
   "execution_count": null,
   "metadata": {
    "colab": {
     "base_uri": "https://localhost:8080/"
    },
    "id": "Qg3pgEEQwdoL",
    "outputId": "e653224e-e148-4b08-c968-021b0de3e485"
   },
   "outputs": [
    {
     "data": {
      "text/plain": [
       "GridSearchCV(estimator=LinearSVC(),\n",
       "             param_grid={'C': [0.001, 0.01, 0.1, 1, 10], 'tol': [1, 5, 10]})"
      ]
     },
     "execution_count": 60,
     "metadata": {},
     "output_type": "execute_result"
    }
   ],
   "source": [
    "parameters = {'C':[0.001,0.01, 0.1, 1, 10],'tol':[1,5,10]}\n",
    "lsvc = LinearSVC()\n",
    "clf = GridSearchCV(lsvc, parameters)\n",
    "clf.fit(X_scaled_train_data,y_train)"
   ]
  },
  {
   "cell_type": "markdown",
   "metadata": {
    "id": "f5M8GHnoivAw"
   },
   "source": [
    "The best parameter values for **C** and **tol** are shown below. Here, C is the regularization paramter and tol is the tolerance for stopping criteria."
   ]
  },
  {
   "cell_type": "code",
   "execution_count": null,
   "metadata": {
    "colab": {
     "base_uri": "https://localhost:8080/"
    },
    "id": "Ly-fD20Nwdlc",
    "outputId": "4a069c75-69e7-4487-d78c-ad564118d8a5"
   },
   "outputs": [
    {
     "data": {
      "text/plain": [
       "{'C': 10, 'tol': 1}"
      ]
     },
     "execution_count": 61,
     "metadata": {},
     "output_type": "execute_result"
    }
   ],
   "source": [
    "clf.best_params_"
   ]
  },
  {
   "cell_type": "code",
   "execution_count": null,
   "metadata": {
    "id": "gERb0MyucCGr"
   },
   "outputs": [],
   "source": [
    "#LinearSVC  \n",
    "#using the same training and testing data, as used for the logistic regression model with count vectorizer\n",
    "#c and t values are as per the GridSearchCV results.  \n",
    "train_acc_cv_svc,test_acc_cv_svc,train_f1_cv_svc,test_f1_cv_svc = linear_svc_model(X_scaled_train_data,y_train,X_scaled_test_data,y_test,10,1)"
   ]
  },
  {
   "cell_type": "code",
   "execution_count": null,
   "metadata": {
    "colab": {
     "base_uri": "https://localhost:8080/"
    },
    "id": "jRGzfThzcCDS",
    "outputId": "5648bff2-131e-42bf-f05d-17359e6c54fc"
   },
   "outputs": [
    {
     "name": "stdout",
     "output_type": "stream",
     "text": [
      "Accuracy on train data:90.94%\n",
      "Accuracy on test data:91.06%\n",
      "F1-score on train data:0.9095136960774348\n",
      "F1-score on test data:0.910880176350181\n"
     ]
    }
   ],
   "source": [
    "print(f'Accuracy on train data:{round(train_acc_cv_svc*100,2)}%')\n",
    "print(f'Accuracy on test data:{round(test_acc_cv_svc*100,2)}%')\n",
    "print(f'F1-score on train data:{train_f1_cv_svc}')\n",
    "print(f'F1-score on test data:{test_f1_cv_svc}')"
   ]
  },
  {
   "cell_type": "markdown",
   "metadata": {
    "id": "hVBgFDzybx3I"
   },
   "source": [
    "**LinearSVC Regression with TF-IDF Vectorizer**"
   ]
  },
  {
   "cell_type": "code",
   "execution_count": null,
   "metadata": {
    "id": "_kRMyplowdjl"
   },
   "outputs": [],
   "source": [
    "#LinearSVC  \n",
    "#using the same training and testing data(without scaling), as used for the logistic regression model with tf-idf vectorizer  \n",
    "train_acc_tfidf_svc,test_acc_tfidf_svc,train_f1_tfidf_svc,test_f1_tfidf_svc = linear_svc_model(train_data_tfidf,y_train,test_data_tfidf,y_test,1,0.0001)"
   ]
  },
  {
   "cell_type": "code",
   "execution_count": null,
   "metadata": {
    "colab": {
     "base_uri": "https://localhost:8080/"
    },
    "id": "O6ht7p9Rt-V5",
    "outputId": "182c8196-b40e-4969-cf0f-90d1c9647275"
   },
   "outputs": [
    {
     "name": "stdout",
     "output_type": "stream",
     "text": [
      "Accuracy on train data:89.94%\n",
      "Accuracy on test data:90.02%\n",
      "F1-score on train data:0.9048616726909292\n",
      "F1-score on test data:0.9055014083804871\n"
     ]
    }
   ],
   "source": [
    "print(f'Accuracy on train data:{round(train_acc_tfidf_svc*100,2)}%')\n",
    "print(f'Accuracy on test data:{round(test_acc_tfidf_svc*100,2)}%')\n",
    "print(f'F1-score on train data:{train_f1_tfidf_svc}')\n",
    "print(f'F1-score on test data:{test_f1_tfidf_svc}')"
   ]
  },
  {
   "cell_type": "markdown",
   "metadata": {
    "id": "z_5P1LeRvdqm"
   },
   "source": [
    "**Analysis:**\n",
    "\n",
    "We can observe that the LinearSVC model with count vectorizer and LinearSVC model with TF-IDF vectorizer are almost giving us the same accuracy and F1-score. But, we can say that the LinearSVC model with count vectorizer is slightly better."
   ]
  },
  {
   "cell_type": "markdown",
   "metadata": {
    "id": "dubj-AHUttou"
   },
   "source": [
    "#### **Naive-Bayes classifier**"
   ]
  },
  {
   "cell_type": "markdown",
   "metadata": {
    "id": "qKjPOOd9zraO"
   },
   "source": [
    "**Multinomial Naive Bayes classifier**"
   ]
  },
  {
   "cell_type": "code",
   "execution_count": null,
   "metadata": {
    "id": "ynizymHqttVd"
   },
   "outputs": [],
   "source": [
    "def mn_bayes_classifier(x_train,y_train,x_test,y_test,a):\n",
    "    #Multinomial Naive Bayes classifier. \n",
    "    mnb_cls = MultinomialNB(alpha = a)\n",
    "    #fitting the model\n",
    "    mnb_cls.fit(x_train,y_train)\n",
    "    #predict on train data\n",
    "    y_pred_train = mnb_cls.predict(x_train)\n",
    "    #on test data\n",
    "    y_pred_test = mnb_cls.predict(x_test)\n",
    "    #calculating the metrics to evaluate the model\n",
    "    #accuracy\n",
    "    train_acc = accuracy_score(y_pred_train,y_train)\n",
    "    test_acc = accuracy_score(y_pred_test,y_test)\n",
    "    #f1score\n",
    "    train_f1 = f1_score(y_pred_train,y_train) \n",
    "    test_f1 = f1_score(y_pred_test,y_test)\n",
    "\n",
    "    return train_acc,test_acc,train_f1,test_f1"
   ]
  },
  {
   "cell_type": "markdown",
   "metadata": {
    "id": "f5pYthkU09UE"
   },
   "source": [
    "**Multinomial Naive Bayes classifier with Count Vectorizer**"
   ]
  },
  {
   "cell_type": "markdown",
   "metadata": {
    "id": "3ERWoH4R12PC"
   },
   "source": [
    "**GridSearchCV** for finding the best alpha value"
   ]
  },
  {
   "cell_type": "code",
   "execution_count": null,
   "metadata": {
    "colab": {
     "base_uri": "https://localhost:8080/"
    },
    "id": "fFOBSzCg08K9",
    "outputId": "03146997-73d8-48d3-af1c-5aff265457a5"
   },
   "outputs": [
    {
     "data": {
      "text/plain": [
       "GridSearchCV(estimator=MultinomialNB(),\n",
       "             param_grid={'alpha': [0.0001, 0.001, 0.01, 0.1, 0.2, 0.4, 0.6, 0.8,\n",
       "                                   1]})"
      ]
     },
     "execution_count": 102,
     "metadata": {},
     "output_type": "execute_result"
    }
   ],
   "source": [
    "parameters = {'alpha':[0.0001,0.001,0.01,0.1,0.2,0.4,0.6,0.8,1]}\n",
    "m_nb =  MultinomialNB()\n",
    "mnb_cv = GridSearchCV(m_nb, parameters)\n",
    "mnb_cv.fit(X_scaled_train_data,y_train)"
   ]
  },
  {
   "cell_type": "code",
   "execution_count": null,
   "metadata": {
    "colab": {
     "base_uri": "https://localhost:8080/"
    },
    "id": "fYNliBRhttR6",
    "outputId": "4dc13f38-14b7-4078-a549-9f4a701ba815"
   },
   "outputs": [
    {
     "data": {
      "text/plain": [
       "{'alpha': 0.001}"
      ]
     },
     "execution_count": 107,
     "metadata": {},
     "output_type": "execute_result"
    }
   ],
   "source": [
    "mnb_cv.best_params_"
   ]
  },
  {
   "cell_type": "code",
   "execution_count": null,
   "metadata": {
    "id": "EidCtjocttPS"
   },
   "outputs": [],
   "source": [
    "#Mutinomial Naive Bayes classifier with count vectorizer\n",
    "#Alpha value is used as per GridSearchCV  \n",
    "train_acc_cv_mnb,test_acc_cv_mnb,train_f1_cv_mnb,test_f1_cv_mnb = mn_bayes_classifier(X_scaled_train_data,y_train,X_scaled_test_data,y_test,0.001)"
   ]
  },
  {
   "cell_type": "code",
   "execution_count": null,
   "metadata": {
    "colab": {
     "base_uri": "https://localhost:8080/"
    },
    "id": "JBXLf_vsttMl",
    "outputId": "6358789e-f5b6-45ec-8e4d-5fdf8d328ba3"
   },
   "outputs": [
    {
     "name": "stdout",
     "output_type": "stream",
     "text": [
      "Accuracy on train data:88.72%\n",
      "Accuracy on test data:88.18%\n",
      "F1-score on train data:0.8904015487416473\n",
      "F1-score on test data:0.8854774958561775\n"
     ]
    }
   ],
   "source": [
    "print(f'Accuracy on train data:{round(train_acc_cv_mnb*100,2)}%')\n",
    "print(f'Accuracy on test data:{round(test_acc_cv_mnb*100,2)}%')\n",
    "print(f'F1-score on train data:{train_f1_cv_mnb}')\n",
    "print(f'F1-score on test data:{test_f1_cv_mnb}')"
   ]
  },
  {
   "cell_type": "markdown",
   "metadata": {
    "id": "lTHwlcVM6fPB"
   },
   "source": [
    "**Multinomial Naive Bayes classifier with tf-idf Vectorizer**"
   ]
  },
  {
   "cell_type": "markdown",
   "metadata": {
    "id": "4p_CGi5U8uza"
   },
   "source": [
    "**GridSearchCV** for finding the best alpha value"
   ]
  },
  {
   "cell_type": "code",
   "execution_count": null,
   "metadata": {
    "colab": {
     "base_uri": "https://localhost:8080/"
    },
    "id": "0e8o7LP07C1e",
    "outputId": "20688719-59f5-4267-bb1d-6d3eda04fde5"
   },
   "outputs": [
    {
     "data": {
      "text/plain": [
       "GridSearchCV(estimator=MultinomialNB(),\n",
       "             param_grid={'alpha': [0.0001, 0.001, 0.01, 0.1, 0.2, 0.4, 0.6, 0.8,\n",
       "                                   1]})"
      ]
     },
     "execution_count": 114,
     "metadata": {},
     "output_type": "execute_result"
    }
   ],
   "source": [
    "parameters = {'alpha':[0.0001,0.001,0.01,0.1,0.2,0.4,0.6,0.8,1]}\n",
    "m_nb =  MultinomialNB()\n",
    "mnb_tfidf = GridSearchCV(m_nb, parameters)\n",
    "mnb_tfidf.fit(train_data_tfidf,y_train)"
   ]
  },
  {
   "cell_type": "code",
   "execution_count": null,
   "metadata": {
    "colab": {
     "base_uri": "https://localhost:8080/"
    },
    "id": "BdNfoV-M7CyD",
    "outputId": "21f5d621-021f-49df-fdbe-504fa2d8a05c"
   },
   "outputs": [
    {
     "data": {
      "text/plain": [
       "{'alpha': 0.01}"
      ]
     },
     "execution_count": 115,
     "metadata": {},
     "output_type": "execute_result"
    }
   ],
   "source": [
    "mnb_tfidf.best_params_"
   ]
  },
  {
   "cell_type": "code",
   "execution_count": null,
   "metadata": {
    "id": "FFa5UGRB5jMD"
   },
   "outputs": [],
   "source": [
    "#Mutinomial Naive Bayes classifier with tf-idf vectorizer  \n",
    "#Alpha value is used as per GridSearchCV  \n",
    "train_acc_tfidf_mnb,test_acc_tfidf_mnb,train_f1_tfidf_mnb,test_f1_tfidf_mnb = mn_bayes_classifier(train_data_tfidf,y_train,test_data_tfidf,y_test,0.01)"
   ]
  },
  {
   "cell_type": "code",
   "execution_count": null,
   "metadata": {
    "colab": {
     "base_uri": "https://localhost:8080/"
    },
    "id": "-CUIFXt08nes",
    "outputId": "45fa6ef1-73ac-4f73-df17-386cd5ee927e"
   },
   "outputs": [
    {
     "name": "stdout",
     "output_type": "stream",
     "text": [
      "Accuracy on train data:76.82%\n",
      "Accuracy on test data:76.41%\n",
      "F1-score on train data:0.7463870474895427\n",
      "F1-score on test data:0.7413584165272088\n"
     ]
    }
   ],
   "source": [
    "print(f'Accuracy on train data:{round(train_acc_tfidf_mnb*100,2)}%')\n",
    "print(f'Accuracy on test data:{round(test_acc_tfidf_mnb*100,2)}%')\n",
    "print(f'F1-score on train data:{train_f1_tfidf_mnb}')\n",
    "print(f'F1-score on test data:{test_f1_tfidf_mnb}')"
   ]
  },
  {
   "cell_type": "markdown",
   "metadata": {
    "id": "U8Oiw8beBDY3"
   },
   "source": [
    "**Analysis:** We can observe that Multinomial Naive Bayes + Count Vectorizer is giving us the better accuracy and F1-score"
   ]
  },
  {
   "cell_type": "markdown",
   "metadata": {
    "id": "qatOUDyNG4Ax"
   },
   "source": [
    "#### **XGBoost Classifier**"
   ]
  },
  {
   "cell_type": "code",
   "execution_count": null,
   "metadata": {
    "id": "lYAbNAG28shG"
   },
   "outputs": [],
   "source": [
    "def xgb_classifier(x_train,y_train,x_test,y_test):\n",
    "    #XGBoost classifier\n",
    "    xgb_cls = xgb.XGBClassifier(objective=\"binary:logistic\", random_state=42)\n",
    "    #fitting the model\n",
    "    xgb_cls.fit(x_train,y_train)\n",
    "    #predict on train data\n",
    "    y_pred_train = xgb_cls.predict(x_train)\n",
    "    #on test data\n",
    "    y_pred_test = xgb_cls.predict(x_test)\n",
    "    #calculating the metrics to evaluate the model\n",
    "    #accuracy\n",
    "    train_acc = accuracy_score(y_pred_train,y_train)\n",
    "    test_acc = accuracy_score(y_pred_test,y_test)\n",
    "    #f1score\n",
    "    train_f1 = f1_score(y_pred_train,y_train) \n",
    "    test_f1 = f1_score(y_pred_test,y_test)\n",
    "\n",
    "    return train_acc,test_acc,train_f1,test_f1"
   ]
  },
  {
   "cell_type": "markdown",
   "metadata": {
    "id": "ab6PzwTZOhJr"
   },
   "source": [
    "**XGBoost Classifier with Count Vectorizer**"
   ]
  },
  {
   "cell_type": "code",
   "execution_count": null,
   "metadata": {
    "id": "eFphL9-KPXCZ"
   },
   "outputs": [],
   "source": [
    "train_acc_cv_xgb,test_acc_cv_xgb,train_f1_cv_xgb,test_f1_cv_xgb = xgb_classifier(X_scaled_train_data,y_train,X_scaled_test_data,y_test)"
   ]
  },
  {
   "cell_type": "code",
   "execution_count": null,
   "metadata": {
    "colab": {
     "base_uri": "https://localhost:8080/"
    },
    "id": "rJp5h3LuPW_B",
    "outputId": "8ada9148-5cd4-48c7-a4db-82c39b0f0e74"
   },
   "outputs": [
    {
     "name": "stdout",
     "output_type": "stream",
     "text": [
      "Accuracy on train data:85.08%\n",
      "Accuracy on test data:85.11%\n",
      "F1-score on train data:0.8505760282130427\n",
      "F1-score on test data:0.8507348478851685\n"
     ]
    }
   ],
   "source": [
    "print(f'Accuracy on train data:{round(train_acc_cv_xgb*100,2)}%')\n",
    "print(f'Accuracy on test data:{round(test_acc_cv_xgb*100,2)}%')\n",
    "print(f'F1-score on train data:{train_f1_cv_xgb}')\n",
    "print(f'F1-score on test data:{test_f1_cv_xgb}')"
   ]
  },
  {
   "cell_type": "markdown",
   "metadata": {
    "id": "_N8AwAiROoDq"
   },
   "source": [
    "**XGBoost Classifier with TF-IDF Vectorizer**"
   ]
  },
  {
   "cell_type": "code",
   "execution_count": null,
   "metadata": {
    "colab": {
     "background_save": true
    },
    "id": "_1g5whFOOnm5"
   },
   "outputs": [],
   "source": [
    "train_acc_tfidf_xgb,test_acc_tfidf_xgb,train_f1_tfidf_xgb,test_f1_tfidf_xgb = xgb_classifier(train_data_tfidf,y_train,test_data_tfidf,y_test)"
   ]
  },
  {
   "cell_type": "code",
   "execution_count": null,
   "metadata": {
    "colab": {
     "background_save": true
    },
    "id": "kDdSnmssOnjb",
    "outputId": "79c94a81-0f0e-46cc-b2a0-f3ac0ac4b6ab"
   },
   "outputs": [
    {
     "name": "stdout",
     "output_type": "stream",
     "text": [
      "Accuracy on train data:85.14%\n",
      "Accuracy on test data:85.14%\n",
      "F1-score on train data:0.8510208612330543\n",
      "F1-score on test data:0.8507533703409992\n"
     ]
    }
   ],
   "source": [
    "print(f'Accuracy on train data:{round(train_acc_tfidf_xgb*100,2)}%')\n",
    "print(f'Accuracy on test data:{round(test_acc_tfidf_xgb*100,2)}%')\n",
    "print(f'F1-score on train data:{train_f1_tfidf_xgb}')\n",
    "print(f'F1-score on test data:{test_f1_tfidf_xgb}')"
   ]
  },
  {
   "cell_type": "markdown",
   "metadata": {
    "id": "F79XL4qySnUS"
   },
   "source": [
    "**Analysis:**\n",
    "\n",
    "We can see that the XGBoost Classifier with count vectorizer and TF-IDF vectorizer are almost giving us the same results."
   ]
  },
  {
   "cell_type": "code",
   "execution_count": null,
   "metadata": {
    "id": "r34O31REOnhJ"
   },
   "outputs": [],
   "source": []
  }
 ],
 "metadata": {
  "accelerator": "GPU",
  "colab": {
   "provenance": []
  },
  "gpuClass": "standard",
  "kernelspec": {
   "display_name": "Python 3",
   "language": "python",
   "name": "python3"
  },
  "language_info": {
   "codemirror_mode": {
    "name": "ipython",
    "version": 3
   },
   "file_extension": ".py",
   "mimetype": "text/x-python",
   "name": "python",
   "nbconvert_exporter": "python",
   "pygments_lexer": "ipython3",
   "version": "3.8.8"
  }
 },
 "nbformat": 4,
 "nbformat_minor": 1
}
