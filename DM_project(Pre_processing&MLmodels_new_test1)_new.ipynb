{
 "cells": [
  {
   "cell_type": "markdown",
   "metadata": {
    "id": "bHyyflq7GEwN"
   },
   "source": [
    "# Yelp Reviews for Senti-Analysis Binary-N/P+"
   ]
  },
  {
   "cell_type": "code",
   "execution_count": 1,
   "metadata": {
    "id": "-kcCJPmRjf4-"
   },
   "outputs": [
    {
     "name": "stdout",
     "output_type": "stream",
     "text": [
      "mkdir: cannot create directory ‘/u/joshisri/.kaggle’: File exists\n",
      "cp: cannot stat 'kaggle.json': No such file or directory\n",
      "chmod: cannot access '/u/joshisri/.kaggle/kaggle.json': No such file or directory\n"
     ]
    }
   ],
   "source": [
    "! mkdir ~/.kaggle #creating folder\n",
    "! cp kaggle.json ~/.kaggle/ #copying kaggle.json\n",
    "! chmod 600 ~/.kaggle/kaggle.json #reading the file with full access"
   ]
  },
  {
   "cell_type": "code",
   "execution_count": 2,
   "metadata": {
    "colab": {
     "base_uri": "https://localhost:8080/"
    },
    "id": "EW2OCcsSNDfn",
    "outputId": "fac4e9d5-e93e-4baf-a83f-cad15b9dc205"
   },
   "outputs": [
    {
     "name": "stdout",
     "output_type": "stream",
     "text": [
      "/bin/bash: kaggle: command not found\n",
      "Requirement already satisfied: scipy in /nfs/jolteon/data/hdd/sripad/sripad_vm_new/lib/python3.8/site-packages (1.9.0)\n",
      "Requirement already satisfied: numpy<1.25.0,>=1.18.5 in /nfs/jolteon/data/hdd/sripad/sripad_vm_new/lib/python3.8/site-packages (from scipy) (1.23.2)\n"
     ]
    }
   ],
   "source": [
    "! kaggle datasets download -d yacharki/yelp-reviews-for-sentianalysis-binary-np-csv\n",
    "!pip3 install scipy"
   ]
  },
  {
   "cell_type": "markdown",
   "metadata": {
    "id": "g_LhN3KiHTk7"
   },
   "source": [
    "#### **Importing Libraries**"
   ]
  },
  {
   "cell_type": "code",
   "execution_count": 1,
   "metadata": {
    "id": "QRa9rTZ3jf-S"
   },
   "outputs": [],
   "source": [
    "CUDA_LAUNCH_BLOCKING=1\n",
    "import numpy as np\n",
    "import pandas as pd\n",
    "import re\n",
    "import nltk\n",
    "from nltk.corpus import stopwords\n",
    "from sklearn.feature_extraction.text import CountVectorizer,TfidfVectorizer\n",
    "from sklearn import preprocessing,tree\n",
    "from sklearn.linear_model import LogisticRegression\n",
    "from sklearn.metrics import accuracy_score,recall_score,confusion_matrix,f1_score\n",
    "from sklearn.model_selection import GridSearchCV\n",
    "from scipy import sparse\n",
    "from sklearn.svm import LinearSVC\n",
    "from sklearn.naive_bayes import MultinomialNB\n",
    "import xgboost as xgb"
   ]
  },
  {
   "cell_type": "markdown",
   "metadata": {
    "id": "fISpmFIZOXnS"
   },
   "source": [
    "downloading the datasets"
   ]
  },
  {
   "cell_type": "code",
   "execution_count": 2,
   "metadata": {
    "colab": {
     "base_uri": "https://localhost:8080/"
    },
    "id": "YUBuuHddjf2X",
    "outputId": "9d23165d-7c84-439e-c59a-cee9112e29b6"
   },
   "outputs": [
    {
     "name": "stdout",
     "output_type": "stream",
     "text": [
      "unzip:  cannot find or open /content/yelp-reviews-for-sentianalysis-binary-np-csv.zip, /content/yelp-reviews-for-sentianalysis-binary-np-csv.zip.zip or /content/yelp-reviews-for-sentianalysis-binary-np-csv.zip.ZIP.\n"
     ]
    }
   ],
   "source": [
    "!unzip /content/yelp-reviews-for-sentianalysis-binary-np-csv.zip"
   ]
  },
  {
   "cell_type": "code",
   "execution_count": 3,
   "metadata": {
    "id": "A8SSJzNkOISE"
   },
   "outputs": [],
   "source": [
    "yelp_train_data = pd.read_csv('train.csv')\n",
    "yelp_test_data = pd.read_csv('test.csv')\n",
    "\n",
    "# import csv\n",
    "# yelp_train_data = pd.read_csv('train.csv', delimiter=\",\", quoting=csv.QUOTE_NONE, encoding='utf-8')\n",
    "# yelp_test_data = pd.read_csv('test.csv', delimiter=\",\", quoting=csv.QUOTE_NONE, encoding='utf-8')"
   ]
  },
  {
   "cell_type": "code",
   "execution_count": 4,
   "metadata": {
    "colab": {
     "base_uri": "https://localhost:8080/"
    },
    "id": "tnpxtHj_PKE2",
    "outputId": "ed3d4c7e-c744-49d0-eb41-d1cfaa770aa3"
   },
   "outputs": [
    {
     "name": "stdout",
     "output_type": "stream",
     "text": [
      "(560000, 2)\n",
      "(38000, 2)\n"
     ]
    }
   ],
   "source": [
    "print(yelp_train_data.shape)\n",
    "print(yelp_test_data.shape)"
   ]
  },
  {
   "cell_type": "markdown",
   "metadata": {
    "id": "3p1yaw-ZO8NQ"
   },
   "source": [
    "#### **Data Description:**\n",
    "\n",
    "- In total there are 560,000 training samples and 2 columns in them corresponding to **class index** (1 and 2) and **review text**. Negative polarity is class 1, and positive polarity is class 2.\n",
    "\n",
    "- Also, we can see that there are 38000 testing samples."
   ]
  },
  {
   "cell_type": "code",
   "execution_count": 5,
   "metadata": {
    "colab": {
     "base_uri": "https://localhost:8080/",
     "height": 206
    },
    "id": "OzJ0OxGtjfz_",
    "outputId": "06af82ef-3d10-4672-de8b-43d2f44f5dcd"
   },
   "outputs": [
    {
     "data": {
      "text/html": [
       "<div>\n",
       "<style scoped>\n",
       "    .dataframe tbody tr th:only-of-type {\n",
       "        vertical-align: middle;\n",
       "    }\n",
       "\n",
       "    .dataframe tbody tr th {\n",
       "        vertical-align: top;\n",
       "    }\n",
       "\n",
       "    .dataframe thead th {\n",
       "        text-align: right;\n",
       "    }\n",
       "</style>\n",
       "<table border=\"1\" class=\"dataframe\">\n",
       "  <thead>\n",
       "    <tr style=\"text-align: right;\">\n",
       "      <th></th>\n",
       "      <th>class_index</th>\n",
       "      <th>review_text</th>\n",
       "    </tr>\n",
       "  </thead>\n",
       "  <tbody>\n",
       "    <tr>\n",
       "      <th>0</th>\n",
       "      <td>1</td>\n",
       "      <td>Unfortunately, the frustration of being Dr. Go...</td>\n",
       "    </tr>\n",
       "    <tr>\n",
       "      <th>1</th>\n",
       "      <td>2</td>\n",
       "      <td>Been going to Dr. Goldberg for over 10 years. ...</td>\n",
       "    </tr>\n",
       "    <tr>\n",
       "      <th>2</th>\n",
       "      <td>1</td>\n",
       "      <td>I don't know what Dr. Goldberg was like before...</td>\n",
       "    </tr>\n",
       "    <tr>\n",
       "      <th>3</th>\n",
       "      <td>1</td>\n",
       "      <td>I'm writing this review to give you a heads up...</td>\n",
       "    </tr>\n",
       "    <tr>\n",
       "      <th>4</th>\n",
       "      <td>2</td>\n",
       "      <td>All the food is great here. But the best thing...</td>\n",
       "    </tr>\n",
       "  </tbody>\n",
       "</table>\n",
       "</div>"
      ],
      "text/plain": [
       "   class_index                                        review_text\n",
       "0            1  Unfortunately, the frustration of being Dr. Go...\n",
       "1            2  Been going to Dr. Goldberg for over 10 years. ...\n",
       "2            1  I don't know what Dr. Goldberg was like before...\n",
       "3            1  I'm writing this review to give you a heads up...\n",
       "4            2  All the food is great here. But the best thing..."
      ]
     },
     "execution_count": 5,
     "metadata": {},
     "output_type": "execute_result"
    }
   ],
   "source": [
    "#sample of training data\n",
    "yelp_train_data.head()"
   ]
  },
  {
   "cell_type": "code",
   "execution_count": 6,
   "metadata": {
    "colab": {
     "base_uri": "https://localhost:8080/",
     "height": 206
    },
    "id": "3e7MZWBpQl8o",
    "outputId": "fac7fea0-65f0-4e29-ebb4-b55c13228f8c"
   },
   "outputs": [
    {
     "data": {
      "text/html": [
       "<div>\n",
       "<style scoped>\n",
       "    .dataframe tbody tr th:only-of-type {\n",
       "        vertical-align: middle;\n",
       "    }\n",
       "\n",
       "    .dataframe tbody tr th {\n",
       "        vertical-align: top;\n",
       "    }\n",
       "\n",
       "    .dataframe thead th {\n",
       "        text-align: right;\n",
       "    }\n",
       "</style>\n",
       "<table border=\"1\" class=\"dataframe\">\n",
       "  <thead>\n",
       "    <tr style=\"text-align: right;\">\n",
       "      <th></th>\n",
       "      <th>class_index</th>\n",
       "      <th>review_text</th>\n",
       "    </tr>\n",
       "  </thead>\n",
       "  <tbody>\n",
       "    <tr>\n",
       "      <th>0</th>\n",
       "      <td>2</td>\n",
       "      <td>Contrary to other reviews, I have zero complai...</td>\n",
       "    </tr>\n",
       "    <tr>\n",
       "      <th>1</th>\n",
       "      <td>1</td>\n",
       "      <td>Last summer I had an appointment to get new ti...</td>\n",
       "    </tr>\n",
       "    <tr>\n",
       "      <th>2</th>\n",
       "      <td>2</td>\n",
       "      <td>Friendly staff, same starbucks fair you get an...</td>\n",
       "    </tr>\n",
       "    <tr>\n",
       "      <th>3</th>\n",
       "      <td>1</td>\n",
       "      <td>The food is good. Unfortunately the service is...</td>\n",
       "    </tr>\n",
       "    <tr>\n",
       "      <th>4</th>\n",
       "      <td>2</td>\n",
       "      <td>Even when we didn't have a car Filene's Baseme...</td>\n",
       "    </tr>\n",
       "  </tbody>\n",
       "</table>\n",
       "</div>"
      ],
      "text/plain": [
       "   class_index                                        review_text\n",
       "0            2  Contrary to other reviews, I have zero complai...\n",
       "1            1  Last summer I had an appointment to get new ti...\n",
       "2            2  Friendly staff, same starbucks fair you get an...\n",
       "3            1  The food is good. Unfortunately the service is...\n",
       "4            2  Even when we didn't have a car Filene's Baseme..."
      ]
     },
     "execution_count": 6,
     "metadata": {},
     "output_type": "execute_result"
    }
   ],
   "source": [
    "#sample of testing data\n",
    "yelp_test_data.head()"
   ]
  },
  {
   "cell_type": "markdown",
   "metadata": {
    "id": "NPuy1BMaRRqI"
   },
   "source": [
    "Below, we can see an example of a negative review "
   ]
  },
  {
   "cell_type": "code",
   "execution_count": 7,
   "metadata": {
    "colab": {
     "base_uri": "https://localhost:8080/",
     "height": 107
    },
    "id": "wxA6jBdMjfxR",
    "outputId": "a909402d-d751-4eff-b89a-0b5df4dbc4c9"
   },
   "outputs": [
    {
     "data": {
      "text/plain": [
       "\"Unfortunately, the frustration of being Dr. Goldberg's patient is a repeat of the experience I've had with so many other doctors in NYC -- good doctor, terrible staff.  It seems that his staff simply never answers the phone.  It usually takes 2 hours of repeated calling to get an answer.  Who has time for that or wants to deal with it?  I have run into this problem with many other doctors and I just don't get it.  You have office workers, you have patients with medical needs, why isn't anyone answering the phone?  It's incomprehensible and not work the aggravation.  It's with regret that I feel that I have to give Dr. Goldberg 2 stars.\""
      ]
     },
     "execution_count": 7,
     "metadata": {},
     "output_type": "execute_result"
    }
   ],
   "source": [
    "yelp_train_data['review_text'][0]"
   ]
  },
  {
   "cell_type": "markdown",
   "metadata": {
    "id": "iBNptaeOSIWZ"
   },
   "source": [
    "We can see that both the postive and negative classes are equally distributed in training and testing data."
   ]
  },
  {
   "cell_type": "code",
   "execution_count": 8,
   "metadata": {
    "colab": {
     "base_uri": "https://localhost:8080/"
    },
    "id": "sXc8D6BEjful",
    "outputId": "81f48081-aa45-4766-83aa-ac23460a0cdc"
   },
   "outputs": [
    {
     "data": {
      "text/plain": [
       "1    280000\n",
       "2    280000\n",
       "Name: class_index, dtype: int64"
      ]
     },
     "execution_count": 8,
     "metadata": {},
     "output_type": "execute_result"
    }
   ],
   "source": [
    "yelp_train_data.class_index.value_counts()"
   ]
  },
  {
   "cell_type": "code",
   "execution_count": 9,
   "metadata": {
    "colab": {
     "base_uri": "https://localhost:8080/"
    },
    "id": "1yx-_ZjWQzRC",
    "outputId": "487d8a7e-bf10-4bf5-a346-e2eec5f0c0e0"
   },
   "outputs": [
    {
     "data": {
      "text/plain": [
       "2    19000\n",
       "1    19000\n",
       "Name: class_index, dtype: int64"
      ]
     },
     "execution_count": 9,
     "metadata": {},
     "output_type": "execute_result"
    }
   ],
   "source": [
    "yelp_test_data.class_index.value_counts()"
   ]
  },
  {
   "cell_type": "markdown",
   "metadata": {
    "id": "smfNzxiXVvUT"
   },
   "source": [
    "#### **Text cleaning and Data Preprocessing** "
   ]
  },
  {
   "cell_type": "code",
   "execution_count": 10,
   "metadata": {
    "id": "Vex8qBvyjfsT"
   },
   "outputs": [],
   "source": [
    "#cleaning the reviews\n",
    "def cleaning_text(review):\n",
    "\n",
    "    #removing the url's\n",
    "    review = re.sub('http\\S+\\s*', ' ', review)\n",
    "    #removing the  punctuations\n",
    "    review = re.sub('[%s]' % re.escape(\"\"\"!\"#$%&'()*+,-./:;<=>@[\\]^_`{|}~\"\"\"), ' ', review)\n",
    "    #removing non-ascii characters\n",
    "    review = re.sub(r'[^\\x00-\\x7f]',r' ', review)\n",
    "    #removing mentions (i.e, @)\n",
    "    review = re.sub('@\\S+', '  ', review)\n",
    "    #removing hashtags\n",
    "    review = re.sub('#\\S+', ' ', review)\n",
    "    #remove numbers\n",
    "    review = re.sub(\"\\d+\", ' ', review)\n",
    "    #removing extra whitespaces, wherever applicable\n",
    "    review = re.sub('\\s+', ' ',review)\n",
    "    #converting the text into lowercase\n",
    "    review = review.lower()\n",
    "\n",
    "    return review"
   ]
  },
  {
   "cell_type": "markdown",
   "metadata": {
    "id": "HC33BN8fxDti"
   },
   "source": [
    "Here, we added a new column **clean_review_text** by cleaning the review_text(by removing punctuations, Url's, numbers, etc)."
   ]
  },
  {
   "cell_type": "code",
   "execution_count": 11,
   "metadata": {
    "id": "U48t-do-vpqP"
   },
   "outputs": [],
   "source": [
    "yelp_train_data['clean_review_text'] = yelp_train_data['review_text'].apply(cleaning_text)\n",
    "yelp_test_data['clean_review_text'] = yelp_test_data['review_text'].apply(cleaning_text)"
   ]
  },
  {
   "cell_type": "code",
   "execution_count": 12,
   "metadata": {
    "colab": {
     "base_uri": "https://localhost:8080/",
     "height": 206
    },
    "id": "4yT1D3W-vpm-",
    "outputId": "5bbd13ba-3c99-4a4a-cb68-759e7d532395"
   },
   "outputs": [
    {
     "data": {
      "text/html": [
       "<div>\n",
       "<style scoped>\n",
       "    .dataframe tbody tr th:only-of-type {\n",
       "        vertical-align: middle;\n",
       "    }\n",
       "\n",
       "    .dataframe tbody tr th {\n",
       "        vertical-align: top;\n",
       "    }\n",
       "\n",
       "    .dataframe thead th {\n",
       "        text-align: right;\n",
       "    }\n",
       "</style>\n",
       "<table border=\"1\" class=\"dataframe\">\n",
       "  <thead>\n",
       "    <tr style=\"text-align: right;\">\n",
       "      <th></th>\n",
       "      <th>class_index</th>\n",
       "      <th>review_text</th>\n",
       "      <th>clean_review_text</th>\n",
       "    </tr>\n",
       "  </thead>\n",
       "  <tbody>\n",
       "    <tr>\n",
       "      <th>0</th>\n",
       "      <td>1</td>\n",
       "      <td>Unfortunately, the frustration of being Dr. Go...</td>\n",
       "      <td>unfortunately the frustration of being dr gold...</td>\n",
       "    </tr>\n",
       "    <tr>\n",
       "      <th>1</th>\n",
       "      <td>2</td>\n",
       "      <td>Been going to Dr. Goldberg for over 10 years. ...</td>\n",
       "      <td>been going to dr goldberg for over years i thi...</td>\n",
       "    </tr>\n",
       "    <tr>\n",
       "      <th>2</th>\n",
       "      <td>1</td>\n",
       "      <td>I don't know what Dr. Goldberg was like before...</td>\n",
       "      <td>i don t know what dr goldberg was like before ...</td>\n",
       "    </tr>\n",
       "    <tr>\n",
       "      <th>3</th>\n",
       "      <td>1</td>\n",
       "      <td>I'm writing this review to give you a heads up...</td>\n",
       "      <td>i m writing this review to give you a heads up...</td>\n",
       "    </tr>\n",
       "    <tr>\n",
       "      <th>4</th>\n",
       "      <td>2</td>\n",
       "      <td>All the food is great here. But the best thing...</td>\n",
       "      <td>all the food is great here but the best thing ...</td>\n",
       "    </tr>\n",
       "  </tbody>\n",
       "</table>\n",
       "</div>"
      ],
      "text/plain": [
       "   class_index                                        review_text  \\\n",
       "0            1  Unfortunately, the frustration of being Dr. Go...   \n",
       "1            2  Been going to Dr. Goldberg for over 10 years. ...   \n",
       "2            1  I don't know what Dr. Goldberg was like before...   \n",
       "3            1  I'm writing this review to give you a heads up...   \n",
       "4            2  All the food is great here. But the best thing...   \n",
       "\n",
       "                                   clean_review_text  \n",
       "0  unfortunately the frustration of being dr gold...  \n",
       "1  been going to dr goldberg for over years i thi...  \n",
       "2  i don t know what dr goldberg was like before ...  \n",
       "3  i m writing this review to give you a heads up...  \n",
       "4  all the food is great here but the best thing ...  "
      ]
     },
     "execution_count": 12,
     "metadata": {},
     "output_type": "execute_result"
    }
   ],
   "source": [
    "#train data after adding a new column with clean reviews\n",
    "yelp_train_data.head()"
   ]
  },
  {
   "cell_type": "code",
   "execution_count": 13,
   "metadata": {
    "colab": {
     "base_uri": "https://localhost:8080/",
     "height": 206
    },
    "id": "kBFQWp25RX5_",
    "outputId": "03c8bb89-1371-49ea-df5e-d20d6d0f7ff3"
   },
   "outputs": [
    {
     "data": {
      "text/html": [
       "<div>\n",
       "<style scoped>\n",
       "    .dataframe tbody tr th:only-of-type {\n",
       "        vertical-align: middle;\n",
       "    }\n",
       "\n",
       "    .dataframe tbody tr th {\n",
       "        vertical-align: top;\n",
       "    }\n",
       "\n",
       "    .dataframe thead th {\n",
       "        text-align: right;\n",
       "    }\n",
       "</style>\n",
       "<table border=\"1\" class=\"dataframe\">\n",
       "  <thead>\n",
       "    <tr style=\"text-align: right;\">\n",
       "      <th></th>\n",
       "      <th>class_index</th>\n",
       "      <th>review_text</th>\n",
       "      <th>clean_review_text</th>\n",
       "    </tr>\n",
       "  </thead>\n",
       "  <tbody>\n",
       "    <tr>\n",
       "      <th>0</th>\n",
       "      <td>2</td>\n",
       "      <td>Contrary to other reviews, I have zero complai...</td>\n",
       "      <td>contrary to other reviews i have zero complain...</td>\n",
       "    </tr>\n",
       "    <tr>\n",
       "      <th>1</th>\n",
       "      <td>1</td>\n",
       "      <td>Last summer I had an appointment to get new ti...</td>\n",
       "      <td>last summer i had an appointment to get new ti...</td>\n",
       "    </tr>\n",
       "    <tr>\n",
       "      <th>2</th>\n",
       "      <td>2</td>\n",
       "      <td>Friendly staff, same starbucks fair you get an...</td>\n",
       "      <td>friendly staff same starbucks fair you get any...</td>\n",
       "    </tr>\n",
       "    <tr>\n",
       "      <th>3</th>\n",
       "      <td>1</td>\n",
       "      <td>The food is good. Unfortunately the service is...</td>\n",
       "      <td>the food is good unfortunately the service is ...</td>\n",
       "    </tr>\n",
       "    <tr>\n",
       "      <th>4</th>\n",
       "      <td>2</td>\n",
       "      <td>Even when we didn't have a car Filene's Baseme...</td>\n",
       "      <td>even when we didn t have a car filene s baseme...</td>\n",
       "    </tr>\n",
       "  </tbody>\n",
       "</table>\n",
       "</div>"
      ],
      "text/plain": [
       "   class_index                                        review_text  \\\n",
       "0            2  Contrary to other reviews, I have zero complai...   \n",
       "1            1  Last summer I had an appointment to get new ti...   \n",
       "2            2  Friendly staff, same starbucks fair you get an...   \n",
       "3            1  The food is good. Unfortunately the service is...   \n",
       "4            2  Even when we didn't have a car Filene's Baseme...   \n",
       "\n",
       "                                   clean_review_text  \n",
       "0  contrary to other reviews i have zero complain...  \n",
       "1  last summer i had an appointment to get new ti...  \n",
       "2  friendly staff same starbucks fair you get any...  \n",
       "3  the food is good unfortunately the service is ...  \n",
       "4  even when we didn t have a car filene s baseme...  "
      ]
     },
     "execution_count": 13,
     "metadata": {},
     "output_type": "execute_result"
    }
   ],
   "source": [
    "#test data after adding a new column with clean reviews\n",
    "yelp_test_data.head()"
   ]
  },
  {
   "cell_type": "markdown",
   "metadata": {
    "id": "mOod4iMG1mCa"
   },
   "source": [
    "**Feature Engineering:** Adding custom features"
   ]
  },
  {
   "cell_type": "code",
   "execution_count": 14,
   "metadata": {
    "id": "T5qtN--3vphi"
   },
   "outputs": [],
   "source": [
    "def custom_features(data):\n",
    "    #number of words in each review\n",
    "    data['no_of_words'] = data['clean_review_text'].apply(lambda x: len(str(x).split()))\n",
    "    #average length of each word in each review\n",
    "    data['avg_length_word'] = data['clean_review_text'].apply(lambda x: np.average([len(each_word) for each_word in str(x).split()]))\n",
    "    #number of characters in each review\n",
    "    data['no_of_characters'] = data['clean_review_text'].apply(lambda x: len(str(x)))\n",
    "    #number of unique words in each review\n",
    "    data['no_of_unique_words'] = data['clean_review_text'].apply(lambda x: len(set(str(x).split())))\n",
    "    \n",
    "    return data"
   ]
  },
  {
   "cell_type": "code",
   "execution_count": 15,
   "metadata": {
    "colab": {
     "base_uri": "https://localhost:8080/"
    },
    "id": "QSvfmC63iB9M",
    "outputId": "96b53d77-854a-4462-f5f6-2126df4e7a3a"
   },
   "outputs": [
    {
     "name": "stderr",
     "output_type": "stream",
     "text": [
      "/nfs/jolteon/data/hdd/sripad/sripad_vm_new/lib/python3.8/site-packages/numpy/lib/function_base.py:518: RuntimeWarning: Mean of empty slice.\n",
      "  avg = a.mean(axis, **keepdims_kw)\n"
     ]
    }
   ],
   "source": [
    "yelp_train_data = custom_features(yelp_train_data)\n",
    "yelp_test_data = custom_features(yelp_test_data)"
   ]
  },
  {
   "cell_type": "code",
   "execution_count": 16,
   "metadata": {
    "colab": {
     "base_uri": "https://localhost:8080/"
    },
    "id": "CGMFaG_MiB5v",
    "outputId": "eaf4c80f-d34a-40f6-8ddf-02d3fa192542"
   },
   "outputs": [
    {
     "name": "stdout",
     "output_type": "stream",
     "text": [
      "(560000, 7)\n",
      "(38000, 7)\n"
     ]
    }
   ],
   "source": [
    "print(yelp_train_data.shape)\n",
    "print(yelp_test_data.shape)"
   ]
  },
  {
   "cell_type": "code",
   "execution_count": 17,
   "metadata": {
    "colab": {
     "base_uri": "https://localhost:8080/",
     "height": 250
    },
    "id": "ENr7HmaYiBcj",
    "outputId": "088611e2-b654-4a21-ab2c-dcb0aee5e60d"
   },
   "outputs": [
    {
     "data": {
      "text/html": [
       "<div>\n",
       "<style scoped>\n",
       "    .dataframe tbody tr th:only-of-type {\n",
       "        vertical-align: middle;\n",
       "    }\n",
       "\n",
       "    .dataframe tbody tr th {\n",
       "        vertical-align: top;\n",
       "    }\n",
       "\n",
       "    .dataframe thead th {\n",
       "        text-align: right;\n",
       "    }\n",
       "</style>\n",
       "<table border=\"1\" class=\"dataframe\">\n",
       "  <thead>\n",
       "    <tr style=\"text-align: right;\">\n",
       "      <th></th>\n",
       "      <th>class_index</th>\n",
       "      <th>review_text</th>\n",
       "      <th>clean_review_text</th>\n",
       "      <th>no_of_words</th>\n",
       "      <th>avg_length_word</th>\n",
       "      <th>no_of_characters</th>\n",
       "      <th>no_of_unique_words</th>\n",
       "    </tr>\n",
       "  </thead>\n",
       "  <tbody>\n",
       "    <tr>\n",
       "      <th>0</th>\n",
       "      <td>1</td>\n",
       "      <td>Unfortunately, the frustration of being Dr. Go...</td>\n",
       "      <td>unfortunately the frustration of being dr gold...</td>\n",
       "      <td>118</td>\n",
       "      <td>4.237288</td>\n",
       "      <td>618</td>\n",
       "      <td>80</td>\n",
       "    </tr>\n",
       "    <tr>\n",
       "      <th>1</th>\n",
       "      <td>2</td>\n",
       "      <td>Been going to Dr. Goldberg for over 10 years. ...</td>\n",
       "      <td>been going to dr goldberg for over years i thi...</td>\n",
       "      <td>98</td>\n",
       "      <td>3.908163</td>\n",
       "      <td>481</td>\n",
       "      <td>71</td>\n",
       "    </tr>\n",
       "    <tr>\n",
       "      <th>2</th>\n",
       "      <td>1</td>\n",
       "      <td>I don't know what Dr. Goldberg was like before...</td>\n",
       "      <td>i don t know what dr goldberg was like before ...</td>\n",
       "      <td>213</td>\n",
       "      <td>4.234742</td>\n",
       "      <td>1115</td>\n",
       "      <td>132</td>\n",
       "    </tr>\n",
       "    <tr>\n",
       "      <th>3</th>\n",
       "      <td>1</td>\n",
       "      <td>I'm writing this review to give you a heads up...</td>\n",
       "      <td>i m writing this review to give you a heads up...</td>\n",
       "      <td>203</td>\n",
       "      <td>4.029557</td>\n",
       "      <td>1021</td>\n",
       "      <td>108</td>\n",
       "    </tr>\n",
       "    <tr>\n",
       "      <th>4</th>\n",
       "      <td>2</td>\n",
       "      <td>All the food is great here. But the best thing...</td>\n",
       "      <td>all the food is great here but the best thing ...</td>\n",
       "      <td>76</td>\n",
       "      <td>4.105263</td>\n",
       "      <td>388</td>\n",
       "      <td>53</td>\n",
       "    </tr>\n",
       "  </tbody>\n",
       "</table>\n",
       "</div>"
      ],
      "text/plain": [
       "   class_index                                        review_text  \\\n",
       "0            1  Unfortunately, the frustration of being Dr. Go...   \n",
       "1            2  Been going to Dr. Goldberg for over 10 years. ...   \n",
       "2            1  I don't know what Dr. Goldberg was like before...   \n",
       "3            1  I'm writing this review to give you a heads up...   \n",
       "4            2  All the food is great here. But the best thing...   \n",
       "\n",
       "                                   clean_review_text  no_of_words  \\\n",
       "0  unfortunately the frustration of being dr gold...          118   \n",
       "1  been going to dr goldberg for over years i thi...           98   \n",
       "2  i don t know what dr goldberg was like before ...          213   \n",
       "3  i m writing this review to give you a heads up...          203   \n",
       "4  all the food is great here but the best thing ...           76   \n",
       "\n",
       "   avg_length_word  no_of_characters  no_of_unique_words  \n",
       "0         4.237288               618                  80  \n",
       "1         3.908163               481                  71  \n",
       "2         4.234742              1115                 132  \n",
       "3         4.029557              1021                 108  \n",
       "4         4.105263               388                  53  "
      ]
     },
     "execution_count": 17,
     "metadata": {},
     "output_type": "execute_result"
    }
   ],
   "source": [
    "#train data after adding custom features\n",
    "yelp_train_data.head()"
   ]
  },
  {
   "cell_type": "code",
   "execution_count": 18,
   "metadata": {
    "colab": {
     "base_uri": "https://localhost:8080/",
     "height": 250
    },
    "id": "pR-f9GmRSMNB",
    "outputId": "dccd1779-bdd9-479b-9f3b-1a76e2c4f735"
   },
   "outputs": [
    {
     "data": {
      "text/html": [
       "<div>\n",
       "<style scoped>\n",
       "    .dataframe tbody tr th:only-of-type {\n",
       "        vertical-align: middle;\n",
       "    }\n",
       "\n",
       "    .dataframe tbody tr th {\n",
       "        vertical-align: top;\n",
       "    }\n",
       "\n",
       "    .dataframe thead th {\n",
       "        text-align: right;\n",
       "    }\n",
       "</style>\n",
       "<table border=\"1\" class=\"dataframe\">\n",
       "  <thead>\n",
       "    <tr style=\"text-align: right;\">\n",
       "      <th></th>\n",
       "      <th>class_index</th>\n",
       "      <th>review_text</th>\n",
       "      <th>clean_review_text</th>\n",
       "      <th>no_of_words</th>\n",
       "      <th>avg_length_word</th>\n",
       "      <th>no_of_characters</th>\n",
       "      <th>no_of_unique_words</th>\n",
       "    </tr>\n",
       "  </thead>\n",
       "  <tbody>\n",
       "    <tr>\n",
       "      <th>0</th>\n",
       "      <td>2</td>\n",
       "      <td>Contrary to other reviews, I have zero complai...</td>\n",
       "      <td>contrary to other reviews i have zero complain...</td>\n",
       "      <td>125</td>\n",
       "      <td>4.296000</td>\n",
       "      <td>662</td>\n",
       "      <td>91</td>\n",
       "    </tr>\n",
       "    <tr>\n",
       "      <th>1</th>\n",
       "      <td>1</td>\n",
       "      <td>Last summer I had an appointment to get new ti...</td>\n",
       "      <td>last summer i had an appointment to get new ti...</td>\n",
       "      <td>72</td>\n",
       "      <td>3.861111</td>\n",
       "      <td>350</td>\n",
       "      <td>55</td>\n",
       "    </tr>\n",
       "    <tr>\n",
       "      <th>2</th>\n",
       "      <td>2</td>\n",
       "      <td>Friendly staff, same starbucks fair you get an...</td>\n",
       "      <td>friendly staff same starbucks fair you get any...</td>\n",
       "      <td>15</td>\n",
       "      <td>5.000000</td>\n",
       "      <td>90</td>\n",
       "      <td>14</td>\n",
       "    </tr>\n",
       "    <tr>\n",
       "      <th>3</th>\n",
       "      <td>1</td>\n",
       "      <td>The food is good. Unfortunately the service is...</td>\n",
       "      <td>the food is good unfortunately the service is ...</td>\n",
       "      <td>54</td>\n",
       "      <td>4.500000</td>\n",
       "      <td>297</td>\n",
       "      <td>42</td>\n",
       "    </tr>\n",
       "    <tr>\n",
       "      <th>4</th>\n",
       "      <td>2</td>\n",
       "      <td>Even when we didn't have a car Filene's Baseme...</td>\n",
       "      <td>even when we didn t have a car filene s baseme...</td>\n",
       "      <td>143</td>\n",
       "      <td>4.230769</td>\n",
       "      <td>748</td>\n",
       "      <td>86</td>\n",
       "    </tr>\n",
       "  </tbody>\n",
       "</table>\n",
       "</div>"
      ],
      "text/plain": [
       "   class_index                                        review_text  \\\n",
       "0            2  Contrary to other reviews, I have zero complai...   \n",
       "1            1  Last summer I had an appointment to get new ti...   \n",
       "2            2  Friendly staff, same starbucks fair you get an...   \n",
       "3            1  The food is good. Unfortunately the service is...   \n",
       "4            2  Even when we didn't have a car Filene's Baseme...   \n",
       "\n",
       "                                   clean_review_text  no_of_words  \\\n",
       "0  contrary to other reviews i have zero complain...          125   \n",
       "1  last summer i had an appointment to get new ti...           72   \n",
       "2  friendly staff same starbucks fair you get any...           15   \n",
       "3  the food is good unfortunately the service is ...           54   \n",
       "4  even when we didn t have a car filene s baseme...          143   \n",
       "\n",
       "   avg_length_word  no_of_characters  no_of_unique_words  \n",
       "0         4.296000               662                  91  \n",
       "1         3.861111               350                  55  \n",
       "2         5.000000                90                  14  \n",
       "3         4.500000               297                  42  \n",
       "4         4.230769               748                  86  "
      ]
     },
     "execution_count": 18,
     "metadata": {},
     "output_type": "execute_result"
    }
   ],
   "source": [
    "#test data after adding custom features\n",
    "yelp_test_data.head()"
   ]
  },
  {
   "cell_type": "code",
   "execution_count": 19,
   "metadata": {
    "colab": {
     "base_uri": "https://localhost:8080/"
    },
    "id": "yqcn19MKjYda",
    "outputId": "4deb558b-d8db-4a66-e4bd-a6977adc992b"
   },
   "outputs": [
    {
     "name": "stdout",
     "output_type": "stream",
     "text": [
      "class_index            0\n",
      "review_text            0\n",
      "clean_review_text      0\n",
      "no_of_words            0\n",
      "avg_length_word       29\n",
      "no_of_characters       0\n",
      "no_of_unique_words     0\n",
      "dtype: int64\n",
      "class_index           0\n",
      "review_text           0\n",
      "clean_review_text     0\n",
      "no_of_words           0\n",
      "avg_length_word       0\n",
      "no_of_characters      0\n",
      "no_of_unique_words    0\n",
      "dtype: int64\n"
     ]
    }
   ],
   "source": [
    "#let's see which column/columns have null values\n",
    "print(yelp_train_data.isnull().sum())\n",
    "print(yelp_test_data.isnull().sum())"
   ]
  },
  {
   "cell_type": "code",
   "execution_count": 20,
   "metadata": {
    "colab": {
     "base_uri": "https://localhost:8080/"
    },
    "id": "YV-Ve10ijYZ0",
    "outputId": "d8ead29a-b249-48f4-d8ea-b81252f37267"
   },
   "outputs": [
    {
     "data": {
      "text/plain": [
       "(559971, 7)"
      ]
     },
     "execution_count": 20,
     "metadata": {},
     "output_type": "execute_result"
    }
   ],
   "source": [
    "#From the above output, we can see that in the training data the column 'avg_length_word' has null values.\n",
    "#So,removing the rows that contain null values\n",
    "yelp_train_data = yelp_train_data.dropna()\n",
    "yelp_train_data.shape"
   ]
  },
  {
   "cell_type": "markdown",
   "metadata": {
    "id": "FMqv6Yh2qCR8"
   },
   "source": [
    "Partitioning the training and testing data and filtering the columns.\n"
   ]
  },
  {
   "cell_type": "code",
   "execution_count": 21,
   "metadata": {
    "colab": {
     "base_uri": "https://localhost:8080/"
    },
    "id": "o27Y34Xgf_Sr",
    "outputId": "06f01793-2bbf-421b-9f06-ce0b0b3b5797"
   },
   "outputs": [
    {
     "name": "stdout",
     "output_type": "stream",
     "text": [
      "(559971, 4)\n",
      "(38000, 4)\n"
     ]
    }
   ],
   "source": [
    "#creating a dataframe only for custom features\n",
    "yelp_cf_train = yelp_train_data[['no_of_words','avg_length_word','no_of_characters','no_of_unique_words']]\n",
    "yelp_cf_test = yelp_test_data[['no_of_words','avg_length_word','no_of_characters','no_of_unique_words']]\n",
    "print(yelp_cf_train.shape)\n",
    "print(yelp_cf_test.shape)"
   ]
  },
  {
   "cell_type": "code",
   "execution_count": 22,
   "metadata": {
    "colab": {
     "base_uri": "https://localhost:8080/"
    },
    "id": "64t0glL0hpzR",
    "outputId": "0ff8043b-b611-4abc-eaa2-d515f797c92a"
   },
   "outputs": [
    {
     "name": "stdout",
     "output_type": "stream",
     "text": [
      "(559971,)\n",
      "(38000,)\n"
     ]
    }
   ],
   "source": [
    "#target variables\n",
    "y_train = yelp_train_data['class_index']\n",
    "y_test = yelp_test_data['class_index']\n",
    "print(y_train.shape)\n",
    "print(y_test.shape)"
   ]
  },
  {
   "cell_type": "markdown",
   "metadata": {
    "id": "gWJ3T-Y3WTy7"
   },
   "source": [
    "#### **Count Vectorizer**\n",
    "\n",
    "- Convert a collection of text documents to a matrix of token counts"
   ]
  },
  {
   "cell_type": "code",
   "execution_count": 23,
   "metadata": {
    "id": "tlXgxPhhw586"
   },
   "outputs": [],
   "source": [
    "def count_vect(train_data,test_data):\n",
    "\n",
    "    #Initialising the countvectorizer\n",
    "    #df:When building the vocabulary it ignores the terms that have a document frequency strictly lower than the given threshold(df=5)\n",
    "    vectorizer = CountVectorizer(min_df=5)\n",
    "    #fit_transform learns the vocabulary dictionary and return document-term matrix.\n",
    "    train_cv = vectorizer.fit_transform(train_data)\n",
    "    #Transform documents to document-term matrix\n",
    "    test_cv = vectorizer.transform(test_data)\n",
    "\n",
    "    return train_cv,test_cv"
   ]
  },
  {
   "cell_type": "code",
   "execution_count": 24,
   "metadata": {
    "id": "JTKUIwdF8zKm"
   },
   "outputs": [],
   "source": [
    "yelp_train_cv,yelp_test_cv=count_vect(yelp_train_data['clean_review_text'],yelp_test_data['clean_review_text'])"
   ]
  },
  {
   "cell_type": "code",
   "execution_count": 25,
   "metadata": {
    "colab": {
     "base_uri": "https://localhost:8080/"
    },
    "id": "MCRF5cuAw55U",
    "outputId": "e40b24ee-d261-4a04-8fa8-433dcd564519"
   },
   "outputs": [
    {
     "name": "stdout",
     "output_type": "stream",
     "text": [
      "(559971, 61467)\n",
      "(38000, 61467)\n"
     ]
    }
   ],
   "source": [
    "print(yelp_train_cv.shape)\n",
    "print(yelp_test_cv.shape)"
   ]
  },
  {
   "cell_type": "markdown",
   "metadata": {
    "id": "srzAwoTq9wUV"
   },
   "source": [
    "#### **TF-IDF Vectorizer**\n",
    "\n",
    "- Convert a collection of raw documents to a matrix of TF-IDF features."
   ]
  },
  {
   "cell_type": "code",
   "execution_count": 26,
   "metadata": {
    "id": "qSnKTjS6-Es9"
   },
   "outputs": [],
   "source": [
    "def tf_idf_vect(train_data,test_data):\n",
    "\n",
    "    #Initialising the tf-idf vectorizer\n",
    "    #df:When building the vocabulary it ignores the terms that have a document frequency strictly lower than the given threshold(df=5)\n",
    "    vectorizer = TfidfVectorizer(min_df=5)\n",
    "    #fit_transform learns the vocabulary dictionary and return document-term matrix.\n",
    "    train_cv = vectorizer.fit_transform(train_data)\n",
    "    #Transform documents to document-term matrix\n",
    "    test_cv = vectorizer.transform(test_data)\n",
    "\n",
    "    return train_cv,test_cv"
   ]
  },
  {
   "cell_type": "code",
   "execution_count": 27,
   "metadata": {
    "id": "DWFpdUGN-Epc"
   },
   "outputs": [],
   "source": [
    "yelp_train_tfidf,yelp_test_tfidf = tf_idf_vect(yelp_train_data['clean_review_text'],yelp_test_data['clean_review_text'])"
   ]
  },
  {
   "cell_type": "code",
   "execution_count": 28,
   "metadata": {
    "id": "fA56Ph3Dmr2E"
   },
   "outputs": [],
   "source": [
    "import scipy"
   ]
  },
  {
   "cell_type": "code",
   "execution_count": 29,
   "metadata": {
    "colab": {
     "base_uri": "https://localhost:8080/"
    },
    "id": "XDFN4RwZVC3J",
    "outputId": "6602ae67-2c09-4d96-8fd8-119df7ca9000"
   },
   "outputs": [
    {
     "name": "stdout",
     "output_type": "stream",
     "text": [
      "(559971, 61467)\n",
      "(38000, 61467)\n"
     ]
    }
   ],
   "source": [
    "print(yelp_train_tfidf.shape)\n",
    "print(yelp_test_tfidf.shape)"
   ]
  },
  {
   "cell_type": "code",
   "execution_count": 30,
   "metadata": {
    "id": "evEzo85gmWom"
   },
   "outputs": [],
   "source": [
    "yelp_train_tfidf_array = scipy.sparse.csr_matrix.toarray(yelp_train_tfidf)\n",
    "yelp_test_tfidf_array = scipy.sparse.csr_matrix.toarray(yelp_test_tfidf)"
   ]
  },
  {
   "cell_type": "code",
   "execution_count": 31,
   "metadata": {},
   "outputs": [
    {
     "data": {
      "text/plain": [
       "(559971, 61467)"
      ]
     },
     "execution_count": 31,
     "metadata": {},
     "output_type": "execute_result"
    }
   ],
   "source": [
    "yelp_train_tfidf_array.shape"
   ]
  },
  {
   "cell_type": "code",
   "execution_count": 32,
   "metadata": {},
   "outputs": [
    {
     "data": {
      "text/plain": [
       "(38000, 61467)"
      ]
     },
     "execution_count": 32,
     "metadata": {},
     "output_type": "execute_result"
    }
   ],
   "source": [
    "yelp_test_tfidf_array.shape"
   ]
  },
  {
   "cell_type": "markdown",
   "metadata": {
    "id": "7ejNNWKg-Mv6"
   },
   "source": [
    "#### **Feature Scaling(using l2 Norm)**\n",
    "\n",
    "- Normalize samples individually to unit norm"
   ]
  },
  {
   "cell_type": "code",
   "execution_count": 33,
   "metadata": {
    "id": "5wJYhI8YYEix"
   },
   "outputs": [],
   "source": [
    "def normalize_data(train_data,test_data):\n",
    "    #usisng the l2 regularization\n",
    "    scaling_data = preprocessing.Normalizer(norm='l2')\n",
    "    #fit-transform on training data\n",
    "    train_scaled = scaling_data.fit_transform(train_data)\n",
    "    #transform on test data\n",
    "    test_scaled = scaling_data.transform(test_data)\n",
    "\n",
    "    return train_scaled,test_scaled"
   ]
  },
  {
   "cell_type": "markdown",
   "metadata": {
    "id": "dBdwQFrRef5_"
   },
   "source": [
    "### **Machine Learning models**"
   ]
  },
  {
   "cell_type": "markdown",
   "metadata": {
    "id": "qzri9Dyir9OO"
   },
   "source": [
    "#### **Logistic Regression**"
   ]
  },
  {
   "cell_type": "code",
   "execution_count": 34,
   "metadata": {
    "id": "QGTXjas3e72y"
   },
   "outputs": [],
   "source": [
    "def logistic_reg(x_train,y_train,x_test,y_test,c,p,m):\n",
    "    \n",
    "    #logistic regression model\n",
    "    #C is the regularization strength and penalty the norm used in the penalization.\n",
    "    log_reg = LogisticRegression(C = c,penalty=p,max_iter=m)\n",
    "    #fitting the model\n",
    "    log_reg.fit(x_train,y_train)\n",
    "    #predict on train data\n",
    "    y_pred_train = log_reg.predict(x_train)\n",
    "    #on test data\n",
    "    y_pred_test = log_reg.predict(x_test)\n",
    "    y_pred_test_proba = log_reg.predict_proba(x_test)\n",
    "    #calculating the metrics to evaluate the model\n",
    "    #accuracy\n",
    "    train_acc = accuracy_score(y_pred_train,y_train)\n",
    "    test_acc = accuracy_score(y_pred_test,y_test)\n",
    "    #f1score\n",
    "    train_f1 = f1_score(y_pred_train,y_train) \n",
    "    test_f1 = f1_score(y_pred_test,y_test)\n",
    "\n",
    "    return train_acc,test_acc,train_f1,test_f1,y_pred_test,y_pred_test_proba"
   ]
  },
  {
   "cell_type": "code",
   "execution_count": null,
   "metadata": {},
   "outputs": [],
   "source": []
  },
  {
   "cell_type": "markdown",
   "metadata": {
    "id": "7z5fxWtgsK0R"
   },
   "source": [
    "**Logistic Regression with count Vectorizer**"
   ]
  },
  {
   "cell_type": "code",
   "execution_count": 35,
   "metadata": {
    "id": "v0j9BBOGmE2Y"
   },
   "outputs": [],
   "source": [
    "#train data and test data consists of both custom features and count vectorizer matrix\n",
    "train_data = sparse.hstack([yelp_train_cv,yelp_cf_train])\n",
    "test_data = sparse.hstack([yelp_test_cv,yelp_cf_test])"
   ]
  },
  {
   "cell_type": "code",
   "execution_count": 36,
   "metadata": {
    "id": "vYdEFJcfmEy5"
   },
   "outputs": [],
   "source": [
    "#now normalizing the data before passing into the model\n",
    "X_scaled_train_data,X_scaled_test_data = normalize_data(train_data,test_data)"
   ]
  },
  {
   "cell_type": "markdown",
   "metadata": {
    "id": "AFxR0hwTmGLm"
   },
   "source": [
    "Using the **GridSearchCV** to find the best parameters and train the model using those parameters"
   ]
  },
  {
   "cell_type": "code",
   "execution_count": 37,
   "metadata": {
    "colab": {
     "base_uri": "https://localhost:8080/"
    },
    "id": "XFL_NtjdmFon",
    "outputId": "23b1418b-deb8-4a4d-d689-25906f83af1c"
   },
   "outputs": [
    {
     "name": "stderr",
     "output_type": "stream",
     "text": [
      "/nfs/jolteon/data/hdd/sripad/sripad_vm_new/lib/python3.8/site-packages/sklearn/linear_model/_logistic.py:444: ConvergenceWarning: lbfgs failed to converge (status=1):\n",
      "STOP: TOTAL NO. of ITERATIONS REACHED LIMIT.\n",
      "\n",
      "Increase the number of iterations (max_iter) or scale the data as shown in:\n",
      "    https://scikit-learn.org/stable/modules/preprocessing.html\n",
      "Please also refer to the documentation for alternative solver options:\n",
      "    https://scikit-learn.org/stable/modules/linear_model.html#logistic-regression\n",
      "  n_iter_i = _check_optimize_result(\n",
      "/nfs/jolteon/data/hdd/sripad/sripad_vm_new/lib/python3.8/site-packages/sklearn/linear_model/_logistic.py:444: ConvergenceWarning: lbfgs failed to converge (status=1):\n",
      "STOP: TOTAL NO. of ITERATIONS REACHED LIMIT.\n",
      "\n",
      "Increase the number of iterations (max_iter) or scale the data as shown in:\n",
      "    https://scikit-learn.org/stable/modules/preprocessing.html\n",
      "Please also refer to the documentation for alternative solver options:\n",
      "    https://scikit-learn.org/stable/modules/linear_model.html#logistic-regression\n",
      "  n_iter_i = _check_optimize_result(\n",
      "/nfs/jolteon/data/hdd/sripad/sripad_vm_new/lib/python3.8/site-packages/sklearn/linear_model/_logistic.py:444: ConvergenceWarning: lbfgs failed to converge (status=1):\n",
      "STOP: TOTAL NO. of ITERATIONS REACHED LIMIT.\n",
      "\n",
      "Increase the number of iterations (max_iter) or scale the data as shown in:\n",
      "    https://scikit-learn.org/stable/modules/preprocessing.html\n",
      "Please also refer to the documentation for alternative solver options:\n",
      "    https://scikit-learn.org/stable/modules/linear_model.html#logistic-regression\n",
      "  n_iter_i = _check_optimize_result(\n",
      "/nfs/jolteon/data/hdd/sripad/sripad_vm_new/lib/python3.8/site-packages/sklearn/linear_model/_logistic.py:444: ConvergenceWarning: lbfgs failed to converge (status=1):\n",
      "STOP: TOTAL NO. of ITERATIONS REACHED LIMIT.\n",
      "\n",
      "Increase the number of iterations (max_iter) or scale the data as shown in:\n",
      "    https://scikit-learn.org/stable/modules/preprocessing.html\n",
      "Please also refer to the documentation for alternative solver options:\n",
      "    https://scikit-learn.org/stable/modules/linear_model.html#logistic-regression\n",
      "  n_iter_i = _check_optimize_result(\n",
      "/nfs/jolteon/data/hdd/sripad/sripad_vm_new/lib/python3.8/site-packages/sklearn/linear_model/_logistic.py:444: ConvergenceWarning: lbfgs failed to converge (status=1):\n",
      "STOP: TOTAL NO. of ITERATIONS REACHED LIMIT.\n",
      "\n",
      "Increase the number of iterations (max_iter) or scale the data as shown in:\n",
      "    https://scikit-learn.org/stable/modules/preprocessing.html\n",
      "Please also refer to the documentation for alternative solver options:\n",
      "    https://scikit-learn.org/stable/modules/linear_model.html#logistic-regression\n",
      "  n_iter_i = _check_optimize_result(\n",
      "/nfs/jolteon/data/hdd/sripad/sripad_vm_new/lib/python3.8/site-packages/sklearn/linear_model/_logistic.py:444: ConvergenceWarning: lbfgs failed to converge (status=1):\n",
      "STOP: TOTAL NO. of ITERATIONS REACHED LIMIT.\n",
      "\n",
      "Increase the number of iterations (max_iter) or scale the data as shown in:\n",
      "    https://scikit-learn.org/stable/modules/preprocessing.html\n",
      "Please also refer to the documentation for alternative solver options:\n",
      "    https://scikit-learn.org/stable/modules/linear_model.html#logistic-regression\n",
      "  n_iter_i = _check_optimize_result(\n",
      "/nfs/jolteon/data/hdd/sripad/sripad_vm_new/lib/python3.8/site-packages/sklearn/linear_model/_logistic.py:444: ConvergenceWarning: lbfgs failed to converge (status=1):\n",
      "STOP: TOTAL NO. of ITERATIONS REACHED LIMIT.\n",
      "\n",
      "Increase the number of iterations (max_iter) or scale the data as shown in:\n",
      "    https://scikit-learn.org/stable/modules/preprocessing.html\n",
      "Please also refer to the documentation for alternative solver options:\n",
      "    https://scikit-learn.org/stable/modules/linear_model.html#logistic-regression\n",
      "  n_iter_i = _check_optimize_result(\n",
      "/nfs/jolteon/data/hdd/sripad/sripad_vm_new/lib/python3.8/site-packages/sklearn/linear_model/_logistic.py:444: ConvergenceWarning: lbfgs failed to converge (status=1):\n",
      "STOP: TOTAL NO. of ITERATIONS REACHED LIMIT.\n",
      "\n",
      "Increase the number of iterations (max_iter) or scale the data as shown in:\n",
      "    https://scikit-learn.org/stable/modules/preprocessing.html\n",
      "Please also refer to the documentation for alternative solver options:\n",
      "    https://scikit-learn.org/stable/modules/linear_model.html#logistic-regression\n",
      "  n_iter_i = _check_optimize_result(\n",
      "/nfs/jolteon/data/hdd/sripad/sripad_vm_new/lib/python3.8/site-packages/sklearn/linear_model/_logistic.py:444: ConvergenceWarning: lbfgs failed to converge (status=1):\n",
      "STOP: TOTAL NO. of ITERATIONS REACHED LIMIT.\n",
      "\n",
      "Increase the number of iterations (max_iter) or scale the data as shown in:\n",
      "    https://scikit-learn.org/stable/modules/preprocessing.html\n",
      "Please also refer to the documentation for alternative solver options:\n",
      "    https://scikit-learn.org/stable/modules/linear_model.html#logistic-regression\n",
      "  n_iter_i = _check_optimize_result(\n",
      "/nfs/jolteon/data/hdd/sripad/sripad_vm_new/lib/python3.8/site-packages/sklearn/linear_model/_logistic.py:444: ConvergenceWarning: lbfgs failed to converge (status=1):\n",
      "STOP: TOTAL NO. of ITERATIONS REACHED LIMIT.\n",
      "\n",
      "Increase the number of iterations (max_iter) or scale the data as shown in:\n",
      "    https://scikit-learn.org/stable/modules/preprocessing.html\n",
      "Please also refer to the documentation for alternative solver options:\n",
      "    https://scikit-learn.org/stable/modules/linear_model.html#logistic-regression\n",
      "  n_iter_i = _check_optimize_result(\n",
      "/nfs/jolteon/data/hdd/sripad/sripad_vm_new/lib/python3.8/site-packages/sklearn/linear_model/_logistic.py:444: ConvergenceWarning: lbfgs failed to converge (status=1):\n",
      "STOP: TOTAL NO. of ITERATIONS REACHED LIMIT.\n",
      "\n",
      "Increase the number of iterations (max_iter) or scale the data as shown in:\n",
      "    https://scikit-learn.org/stable/modules/preprocessing.html\n",
      "Please also refer to the documentation for alternative solver options:\n",
      "    https://scikit-learn.org/stable/modules/linear_model.html#logistic-regression\n",
      "  n_iter_i = _check_optimize_result(\n",
      "/nfs/jolteon/data/hdd/sripad/sripad_vm_new/lib/python3.8/site-packages/sklearn/linear_model/_logistic.py:444: ConvergenceWarning: lbfgs failed to converge (status=1):\n",
      "STOP: TOTAL NO. of ITERATIONS REACHED LIMIT.\n",
      "\n",
      "Increase the number of iterations (max_iter) or scale the data as shown in:\n",
      "    https://scikit-learn.org/stable/modules/preprocessing.html\n",
      "Please also refer to the documentation for alternative solver options:\n",
      "    https://scikit-learn.org/stable/modules/linear_model.html#logistic-regression\n",
      "  n_iter_i = _check_optimize_result(\n",
      "/nfs/jolteon/data/hdd/sripad/sripad_vm_new/lib/python3.8/site-packages/sklearn/model_selection/_validation.py:378: FitFailedWarning: \n",
      "25 fits failed out of a total of 50.\n",
      "The score on these train-test partitions for these parameters will be set to nan.\n",
      "If these failures are not expected, you can try to debug them by setting error_score='raise'.\n",
      "\n",
      "Below are more details about the failures:\n",
      "--------------------------------------------------------------------------------\n",
      "25 fits failed with the following error:\n",
      "Traceback (most recent call last):\n",
      "  File \"/nfs/jolteon/data/hdd/sripad/sripad_vm_new/lib/python3.8/site-packages/sklearn/model_selection/_validation.py\", line 686, in _fit_and_score\n",
      "    estimator.fit(X_train, y_train, **fit_params)\n",
      "  File \"/nfs/jolteon/data/hdd/sripad/sripad_vm_new/lib/python3.8/site-packages/sklearn/linear_model/_logistic.py\", line 1091, in fit\n",
      "    solver = _check_solver(self.solver, self.penalty, self.dual)\n",
      "  File \"/nfs/jolteon/data/hdd/sripad/sripad_vm_new/lib/python3.8/site-packages/sklearn/linear_model/_logistic.py\", line 61, in _check_solver\n",
      "    raise ValueError(\n",
      "ValueError: Solver lbfgs supports only 'l2' or 'none' penalties, got l1 penalty.\n",
      "\n",
      "  warnings.warn(some_fits_failed_message, FitFailedWarning)\n",
      "/nfs/jolteon/data/hdd/sripad/sripad_vm_new/lib/python3.8/site-packages/sklearn/model_selection/_search.py:953: UserWarning: One or more of the test scores are non-finite: [       nan 0.58334448        nan 0.63472929        nan 0.7583982\n",
      "        nan 0.82425518        nan 0.8450009 ]\n",
      "  warnings.warn(\n",
      "/nfs/jolteon/data/hdd/sripad/sripad_vm_new/lib/python3.8/site-packages/sklearn/linear_model/_logistic.py:444: ConvergenceWarning: lbfgs failed to converge (status=1):\n",
      "STOP: TOTAL NO. of ITERATIONS REACHED LIMIT.\n",
      "\n",
      "Increase the number of iterations (max_iter) or scale the data as shown in:\n",
      "    https://scikit-learn.org/stable/modules/preprocessing.html\n",
      "Please also refer to the documentation for alternative solver options:\n",
      "    https://scikit-learn.org/stable/modules/linear_model.html#logistic-regression\n",
      "  n_iter_i = _check_optimize_result(\n"
     ]
    },
    {
     "data": {
      "text/html": [
       "<style>#sk-container-id-1 {color: black;background-color: white;}#sk-container-id-1 pre{padding: 0;}#sk-container-id-1 div.sk-toggleable {background-color: white;}#sk-container-id-1 label.sk-toggleable__label {cursor: pointer;display: block;width: 100%;margin-bottom: 0;padding: 0.3em;box-sizing: border-box;text-align: center;}#sk-container-id-1 label.sk-toggleable__label-arrow:before {content: \"▸\";float: left;margin-right: 0.25em;color: #696969;}#sk-container-id-1 label.sk-toggleable__label-arrow:hover:before {color: black;}#sk-container-id-1 div.sk-estimator:hover label.sk-toggleable__label-arrow:before {color: black;}#sk-container-id-1 div.sk-toggleable__content {max-height: 0;max-width: 0;overflow: hidden;text-align: left;background-color: #f0f8ff;}#sk-container-id-1 div.sk-toggleable__content pre {margin: 0.2em;color: black;border-radius: 0.25em;background-color: #f0f8ff;}#sk-container-id-1 input.sk-toggleable__control:checked~div.sk-toggleable__content {max-height: 200px;max-width: 100%;overflow: auto;}#sk-container-id-1 input.sk-toggleable__control:checked~label.sk-toggleable__label-arrow:before {content: \"▾\";}#sk-container-id-1 div.sk-estimator input.sk-toggleable__control:checked~label.sk-toggleable__label {background-color: #d4ebff;}#sk-container-id-1 div.sk-label input.sk-toggleable__control:checked~label.sk-toggleable__label {background-color: #d4ebff;}#sk-container-id-1 input.sk-hidden--visually {border: 0;clip: rect(1px 1px 1px 1px);clip: rect(1px, 1px, 1px, 1px);height: 1px;margin: -1px;overflow: hidden;padding: 0;position: absolute;width: 1px;}#sk-container-id-1 div.sk-estimator {font-family: monospace;background-color: #f0f8ff;border: 1px dotted black;border-radius: 0.25em;box-sizing: border-box;margin-bottom: 0.5em;}#sk-container-id-1 div.sk-estimator:hover {background-color: #d4ebff;}#sk-container-id-1 div.sk-parallel-item::after {content: \"\";width: 100%;border-bottom: 1px solid gray;flex-grow: 1;}#sk-container-id-1 div.sk-label:hover label.sk-toggleable__label {background-color: #d4ebff;}#sk-container-id-1 div.sk-serial::before {content: \"\";position: absolute;border-left: 1px solid gray;box-sizing: border-box;top: 0;bottom: 0;left: 50%;z-index: 0;}#sk-container-id-1 div.sk-serial {display: flex;flex-direction: column;align-items: center;background-color: white;padding-right: 0.2em;padding-left: 0.2em;position: relative;}#sk-container-id-1 div.sk-item {position: relative;z-index: 1;}#sk-container-id-1 div.sk-parallel {display: flex;align-items: stretch;justify-content: center;background-color: white;position: relative;}#sk-container-id-1 div.sk-item::before, #sk-container-id-1 div.sk-parallel-item::before {content: \"\";position: absolute;border-left: 1px solid gray;box-sizing: border-box;top: 0;bottom: 0;left: 50%;z-index: -1;}#sk-container-id-1 div.sk-parallel-item {display: flex;flex-direction: column;z-index: 1;position: relative;background-color: white;}#sk-container-id-1 div.sk-parallel-item:first-child::after {align-self: flex-end;width: 50%;}#sk-container-id-1 div.sk-parallel-item:last-child::after {align-self: flex-start;width: 50%;}#sk-container-id-1 div.sk-parallel-item:only-child::after {width: 0;}#sk-container-id-1 div.sk-dashed-wrapped {border: 1px dashed gray;margin: 0 0.4em 0.5em 0.4em;box-sizing: border-box;padding-bottom: 0.4em;background-color: white;}#sk-container-id-1 div.sk-label label {font-family: monospace;font-weight: bold;display: inline-block;line-height: 1.2em;}#sk-container-id-1 div.sk-label-container {text-align: center;}#sk-container-id-1 div.sk-container {/* jupyter's `normalize.less` sets `[hidden] { display: none; }` but bootstrap.min.css set `[hidden] { display: none !important; }` so we also need the `!important` here to be able to override the default hidden behavior on the sphinx rendered scikit-learn.org. See: https://github.com/scikit-learn/scikit-learn/issues/21755 */display: inline-block !important;position: relative;}#sk-container-id-1 div.sk-text-repr-fallback {display: none;}</style><div id=\"sk-container-id-1\" class=\"sk-top-container\"><div class=\"sk-text-repr-fallback\"><pre>GridSearchCV(estimator=LogisticRegression(),\n",
       "             param_grid={&#x27;C&#x27;: [0.01, 0.1, 1, 5, 10], &#x27;penalty&#x27;: [&#x27;l1&#x27;, &#x27;l2&#x27;]})</pre><b>In a Jupyter environment, please rerun this cell to show the HTML representation or trust the notebook. <br />On GitHub, the HTML representation is unable to render, please try loading this page with nbviewer.org.</b></div><div class=\"sk-container\" hidden><div class=\"sk-item sk-dashed-wrapped\"><div class=\"sk-label-container\"><div class=\"sk-label sk-toggleable\"><input class=\"sk-toggleable__control sk-hidden--visually\" id=\"sk-estimator-id-1\" type=\"checkbox\" ><label for=\"sk-estimator-id-1\" class=\"sk-toggleable__label sk-toggleable__label-arrow\">GridSearchCV</label><div class=\"sk-toggleable__content\"><pre>GridSearchCV(estimator=LogisticRegression(),\n",
       "             param_grid={&#x27;C&#x27;: [0.01, 0.1, 1, 5, 10], &#x27;penalty&#x27;: [&#x27;l1&#x27;, &#x27;l2&#x27;]})</pre></div></div></div><div class=\"sk-parallel\"><div class=\"sk-parallel-item\"><div class=\"sk-item\"><div class=\"sk-label-container\"><div class=\"sk-label sk-toggleable\"><input class=\"sk-toggleable__control sk-hidden--visually\" id=\"sk-estimator-id-2\" type=\"checkbox\" ><label for=\"sk-estimator-id-2\" class=\"sk-toggleable__label sk-toggleable__label-arrow\">estimator: LogisticRegression</label><div class=\"sk-toggleable__content\"><pre>LogisticRegression()</pre></div></div></div><div class=\"sk-serial\"><div class=\"sk-item\"><div class=\"sk-estimator sk-toggleable\"><input class=\"sk-toggleable__control sk-hidden--visually\" id=\"sk-estimator-id-3\" type=\"checkbox\" ><label for=\"sk-estimator-id-3\" class=\"sk-toggleable__label sk-toggleable__label-arrow\">LogisticRegression</label><div class=\"sk-toggleable__content\"><pre>LogisticRegression()</pre></div></div></div></div></div></div></div></div></div></div>"
      ],
      "text/plain": [
       "GridSearchCV(estimator=LogisticRegression(),\n",
       "             param_grid={'C': [0.01, 0.1, 1, 5, 10], 'penalty': ['l1', 'l2']})"
      ]
     },
     "execution_count": 37,
     "metadata": {},
     "output_type": "execute_result"
    }
   ],
   "source": [
    "parameters = {'C':[0.01,0.1,1,5,10],\"penalty\":[\"l1\",\"l2\"]}\n",
    "lr = LogisticRegression()\n",
    "lr_gscv = GridSearchCV(lr, parameters)\n",
    "lr_gscv.fit(X_scaled_train_data,y_train)"
   ]
  },
  {
   "cell_type": "markdown",
   "metadata": {
    "id": "LkeoImIfstQZ"
   },
   "source": [
    "Below, we can see the best parameters given by the GridSearchCV. {**C: 10, penalty:'l2'**}"
   ]
  },
  {
   "cell_type": "code",
   "execution_count": 38,
   "metadata": {
    "colab": {
     "base_uri": "https://localhost:8080/"
    },
    "id": "hIWS9ntVnRfl",
    "outputId": "8481fc5e-4de0-4bb8-cf2d-8dea389a9e39"
   },
   "outputs": [
    {
     "data": {
      "text/plain": [
       "{'C': 10, 'penalty': 'l2'}"
      ]
     },
     "execution_count": 38,
     "metadata": {},
     "output_type": "execute_result"
    }
   ],
   "source": [
    "lr_gscv.best_params_"
   ]
  },
  {
   "cell_type": "code",
   "execution_count": 39,
   "metadata": {},
   "outputs": [],
   "source": [
    "y_train = y_train -1"
   ]
  },
  {
   "cell_type": "code",
   "execution_count": 40,
   "metadata": {},
   "outputs": [],
   "source": [
    "y_test = y_test-1"
   ]
  },
  {
   "cell_type": "code",
   "execution_count": 45,
   "metadata": {
    "colab": {
     "base_uri": "https://localhost:8080/"
    },
    "id": "Rujwxf3qe7zY",
    "outputId": "57636d9f-0ae5-43df-e63d-f8bfae34826a"
   },
   "outputs": [
    {
     "name": "stderr",
     "output_type": "stream",
     "text": [
      "/nfs/jolteon/data/hdd/sripad/sripad_vm_new/lib/python3.8/site-packages/sklearn/linear_model/_logistic.py:444: ConvergenceWarning: lbfgs failed to converge (status=1):\n",
      "STOP: TOTAL NO. of ITERATIONS REACHED LIMIT.\n",
      "\n",
      "Increase the number of iterations (max_iter) or scale the data as shown in:\n",
      "    https://scikit-learn.org/stable/modules/preprocessing.html\n",
      "Please also refer to the documentation for alternative solver options:\n",
      "    https://scikit-learn.org/stable/modules/linear_model.html#logistic-regression\n",
      "  n_iter_i = _check_optimize_result(\n"
     ]
    }
   ],
   "source": [
    "#logistic regression with count vectorizer using the best parameters as per GridSearchCV\n",
    "yelp_train_acc,yelp_test_acc,yelp_train_f1,yelp_test_f1,y_pred_test,y_pred_test_proba = logistic_reg(X_scaled_train_data,y_train,X_scaled_test_data,y_test,10,'l2',300)"
   ]
  },
  {
   "cell_type": "code",
   "execution_count": 46,
   "metadata": {
    "colab": {
     "base_uri": "https://localhost:8080/"
    },
    "id": "p-_x7oADYEdH",
    "outputId": "1f02a714-ed7e-4125-bfdc-5ec662668907"
   },
   "outputs": [
    {
     "name": "stdout",
     "output_type": "stream",
     "text": [
      "Accuracy on train data:85.98%\n",
      "Accuracy on test data:86.14%\n",
      "F1-score on train data:0.8570366902792527\n",
      "F1-score on test data:0.8588726960994427\n"
     ]
    }
   ],
   "source": [
    "print(f'Accuracy on train data:{round(yelp_train_acc*100,2)}%')\n",
    "print(f'Accuracy on test data:{round(yelp_test_acc*100,2)}%')\n",
    "print(f'F1-score on train data:{yelp_train_f1}')\n",
    "print(f'F1-score on test data:{yelp_test_f1}')"
   ]
  },
  {
   "cell_type": "code",
   "execution_count": 47,
   "metadata": {},
   "outputs": [
    {
     "data": {
      "text/plain": [
       "<matplotlib.legend.Legend at 0x7fd58f5d12b0>"
      ]
     },
     "execution_count": 47,
     "metadata": {},
     "output_type": "execute_result"
    },
    {
     "data": {
      "image/png": "[encoded data removed]",
      "text/plain": [
       "<Figure size 640x480 with 1 Axes>"
      ]
     },
     "metadata": {},
     "output_type": "display_data"
    }
   ],
   "source": [
    "import matplotlib.pyplot as plt\n",
    "from sklearn.metrics import roc_curve, auc\n",
    "\n",
    "# Compute the false positive rate, true positive rate, and thresholds\n",
    "# for the model\n",
    "fpr, tpr, thresholds = roc_curve(y_test, y_pred_test_proba[:,1])\n",
    "\n",
    "# Compute the area under the curve\n",
    "roc_auc = auc(fpr, tpr)\n",
    "\n",
    "# Plot the ROC curve\n",
    "plt.plot(fpr, tpr, label='ROC curve (area = %0.3f)' % roc_auc)\n",
    "\n",
    "plt.plot([0, 1], [0, 1], 'k--')  # random predictions curve\n",
    "\n",
    "plt.xlim([0.0, 1.0])\n",
    "plt.ylim([0.0, 1.0])\n",
    "plt.xlabel('False Positive Rate or (1 - Specificity)')\n",
    "plt.ylabel('True Positive Rate or (Sensitivity)')\n",
    "plt.title('Receiver Operating Characteristic')\n",
    "plt.legend(loc=\"lower right\")"
   ]
  },
  {
   "cell_type": "markdown",
   "metadata": {
    "id": "wUpDFtZ7kaPy"
   },
   "source": [
    "**Logistic Regression with TF-IDF Vectorizer**"
   ]
  },
  {
   "cell_type": "code",
   "execution_count": 48,
   "metadata": {
    "id": "q-7MGBqzdaHq"
   },
   "outputs": [],
   "source": [
    "#train data and test data consists of both custom features and tf-idf vectorizer matrix\n",
    "train_data_tfidf = sparse.hstack([yelp_train_tfidf,yelp_cf_train])\n",
    "test_data_tfidf = sparse.hstack([yelp_test_tfidf,yelp_cf_test])"
   ]
  },
  {
   "cell_type": "code",
   "execution_count": 49,
   "metadata": {
    "id": "13_SErv-1Xcj"
   },
   "outputs": [],
   "source": [
    "#scaling the data\n",
    "X_scaled_train_data_tfidf,X_scaled_test_data_tfidf = normalize_data(train_data_tfidf,test_data_tfidf)"
   ]
  },
  {
   "cell_type": "code",
   "execution_count": 50,
   "metadata": {
    "colab": {
     "base_uri": "https://localhost:8080/"
    },
    "id": "OmBYiuSadaAL",
    "outputId": "863b8e29-0363-4d76-8f15-54b2cd07eea8"
   },
   "outputs": [
    {
     "name": "stderr",
     "output_type": "stream",
     "text": [
      "/nfs/jolteon/data/hdd/sripad/sripad_vm_new/lib/python3.8/site-packages/sklearn/linear_model/_logistic.py:444: ConvergenceWarning: lbfgs failed to converge (status=1):\n",
      "STOP: TOTAL NO. of ITERATIONS REACHED LIMIT.\n",
      "\n",
      "Increase the number of iterations (max_iter) or scale the data as shown in:\n",
      "    https://scikit-learn.org/stable/modules/preprocessing.html\n",
      "Please also refer to the documentation for alternative solver options:\n",
      "    https://scikit-learn.org/stable/modules/linear_model.html#logistic-regression\n",
      "  n_iter_i = _check_optimize_result(\n"
     ]
    }
   ],
   "source": [
    "#logistic regression with tf-idf vectorizer(without feature scaling) and best parameters\n",
    "yelp_train_acc_tfidf,yelp_test_acc_tfidf,yelp_train_f1_tfidf,yelp_test_f1_tfidf,y_pred_test,y_pred_test_proba = logistic_reg(train_data_tfidf,y_train,test_data_tfidf,y_test,10,'l2',300)"
   ]
  },
  {
   "cell_type": "code",
   "execution_count": 51,
   "metadata": {
    "colab": {
     "base_uri": "https://localhost:8080/"
    },
    "id": "0MgRaFISdZ96",
    "outputId": "c3903402-61c7-4af6-b142-f12ff89e9b10"
   },
   "outputs": [
    {
     "name": "stdout",
     "output_type": "stream",
     "text": [
      "Accuracy on train data:91.51%\n",
      "Accuracy on test data:91.67%\n",
      "F1-score on train data:0.914759811549411\n",
      "F1-score on test data:0.9162478175757895\n"
     ]
    }
   ],
   "source": [
    "print(f'Accuracy on train data:{round(yelp_train_acc_tfidf*100,2)}%')\n",
    "print(f'Accuracy on test data:{round(yelp_test_acc_tfidf*100,2)}%')\n",
    "print(f'F1-score on train data:{yelp_train_f1_tfidf}')\n",
    "print(f'F1-score on test data:{yelp_test_f1_tfidf}')"
   ]
  },
  {
   "cell_type": "markdown",
   "metadata": {
    "id": "lOindoInwhDp"
   },
   "source": [
    "**Analysis:**\n",
    "\n",
    "We can observe that the logistic regression(using best parameters) with TF-IDF vectorizer is giving us a better accuracy and F1-score than the count vectorizer."
   ]
  },
  {
   "cell_type": "markdown",
   "metadata": {
    "id": "M3d_khrQIbpT"
   },
   "source": [
    "#### **Support Vector Machines (SVMs)**"
   ]
  },
  {
   "cell_type": "markdown",
   "metadata": {
    "id": "bGM8vg79T8E2"
   },
   "source": [
    "**Linear Support Vector Classification(LinearSVC)**\n"
   ]
  },
  {
   "cell_type": "code",
   "execution_count": 69,
   "metadata": {
    "id": "HiIx46h7wdrj"
   },
   "outputs": [],
   "source": [
    "def linear_svc_model(x_train,y_train,x_test,y_test,c,t):\n",
    "    #linear svc model. \n",
    "    linear_svc = LinearSVC(penalty='l2',C=c,tol=t)\n",
    "    #fitting the model\n",
    "    linear_svc.fit(x_train,y_train)\n",
    "    #predict on train data\n",
    "    y_pred_train = linear_svc.predict(x_train)\n",
    "    #on test data\n",
    "    y_pred_test = linear_svc.predict(x_test)\n",
    "\n",
    "    \n",
    "    #calculating the metrics to evaluate the model\n",
    "    #accuracy\n",
    "    train_acc = accuracy_score(y_pred_train,y_train)\n",
    "    test_acc = accuracy_score(y_pred_test,y_test)\n",
    "    #f1score\n",
    "    train_f1 = f1_score(y_pred_train,y_train) \n",
    "    test_f1 = f1_score(y_pred_test,y_test)\n",
    "\n",
    "    return train_acc,test_acc,train_f1,test_f1,y_pred_test"
   ]
  },
  {
   "cell_type": "markdown",
   "metadata": {
    "id": "c2nQlxHUbuVy"
   },
   "source": [
    "**LinearSVC with count Vectorizer**"
   ]
  },
  {
   "cell_type": "markdown",
   "metadata": {
    "id": "5SSY0ao_ig1T"
   },
   "source": [
    "**GridSearchCV** to find the best parameters"
   ]
  },
  {
   "cell_type": "code",
   "execution_count": 70,
   "metadata": {
    "colab": {
     "base_uri": "https://localhost:8080/"
    },
    "id": "Qg3pgEEQwdoL",
    "outputId": "04cc7072-9046-499a-c8c8-389c3a2b3bb4"
   },
   "outputs": [
    {
     "data": {
      "text/html": [
       "<style>#sk-container-id-4 {color: black;background-color: white;}#sk-container-id-4 pre{padding: 0;}#sk-container-id-4 div.sk-toggleable {background-color: white;}#sk-container-id-4 label.sk-toggleable__label {cursor: pointer;display: block;width: 100%;margin-bottom: 0;padding: 0.3em;box-sizing: border-box;text-align: center;}#sk-container-id-4 label.sk-toggleable__label-arrow:before {content: \"▸\";float: left;margin-right: 0.25em;color: #696969;}#sk-container-id-4 label.sk-toggleable__label-arrow:hover:before {color: black;}#sk-container-id-4 div.sk-estimator:hover label.sk-toggleable__label-arrow:before {color: black;}#sk-container-id-4 div.sk-toggleable__content {max-height: 0;max-width: 0;overflow: hidden;text-align: left;background-color: #f0f8ff;}#sk-container-id-4 div.sk-toggleable__content pre {margin: 0.2em;color: black;border-radius: 0.25em;background-color: #f0f8ff;}#sk-container-id-4 input.sk-toggleable__control:checked~div.sk-toggleable__content {max-height: 200px;max-width: 100%;overflow: auto;}#sk-container-id-4 input.sk-toggleable__control:checked~label.sk-toggleable__label-arrow:before {content: \"▾\";}#sk-container-id-4 div.sk-estimator input.sk-toggleable__control:checked~label.sk-toggleable__label {background-color: #d4ebff;}#sk-container-id-4 div.sk-label input.sk-toggleable__control:checked~label.sk-toggleable__label {background-color: #d4ebff;}#sk-container-id-4 input.sk-hidden--visually {border: 0;clip: rect(1px 1px 1px 1px);clip: rect(1px, 1px, 1px, 1px);height: 1px;margin: -1px;overflow: hidden;padding: 0;position: absolute;width: 1px;}#sk-container-id-4 div.sk-estimator {font-family: monospace;background-color: #f0f8ff;border: 1px dotted black;border-radius: 0.25em;box-sizing: border-box;margin-bottom: 0.5em;}#sk-container-id-4 div.sk-estimator:hover {background-color: #d4ebff;}#sk-container-id-4 div.sk-parallel-item::after {content: \"\";width: 100%;border-bottom: 1px solid gray;flex-grow: 1;}#sk-container-id-4 div.sk-label:hover label.sk-toggleable__label {background-color: #d4ebff;}#sk-container-id-4 div.sk-serial::before {content: \"\";position: absolute;border-left: 1px solid gray;box-sizing: border-box;top: 0;bottom: 0;left: 50%;z-index: 0;}#sk-container-id-4 div.sk-serial {display: flex;flex-direction: column;align-items: center;background-color: white;padding-right: 0.2em;padding-left: 0.2em;position: relative;}#sk-container-id-4 div.sk-item {position: relative;z-index: 1;}#sk-container-id-4 div.sk-parallel {display: flex;align-items: stretch;justify-content: center;background-color: white;position: relative;}#sk-container-id-4 div.sk-item::before, #sk-container-id-4 div.sk-parallel-item::before {content: \"\";position: absolute;border-left: 1px solid gray;box-sizing: border-box;top: 0;bottom: 0;left: 50%;z-index: -1;}#sk-container-id-4 div.sk-parallel-item {display: flex;flex-direction: column;z-index: 1;position: relative;background-color: white;}#sk-container-id-4 div.sk-parallel-item:first-child::after {align-self: flex-end;width: 50%;}#sk-container-id-4 div.sk-parallel-item:last-child::after {align-self: flex-start;width: 50%;}#sk-container-id-4 div.sk-parallel-item:only-child::after {width: 0;}#sk-container-id-4 div.sk-dashed-wrapped {border: 1px dashed gray;margin: 0 0.4em 0.5em 0.4em;box-sizing: border-box;padding-bottom: 0.4em;background-color: white;}#sk-container-id-4 div.sk-label label {font-family: monospace;font-weight: bold;display: inline-block;line-height: 1.2em;}#sk-container-id-4 div.sk-label-container {text-align: center;}#sk-container-id-4 div.sk-container {/* jupyter's `normalize.less` sets `[hidden] { display: none; }` but bootstrap.min.css set `[hidden] { display: none !important; }` so we also need the `!important` here to be able to override the default hidden behavior on the sphinx rendered scikit-learn.org. See: https://github.com/scikit-learn/scikit-learn/issues/21755 */display: inline-block !important;position: relative;}#sk-container-id-4 div.sk-text-repr-fallback {display: none;}</style><div id=\"sk-container-id-4\" class=\"sk-top-container\"><div class=\"sk-text-repr-fallback\"><pre>GridSearchCV(estimator=LinearSVC(),\n",
       "             param_grid={&#x27;C&#x27;: [0.001, 0.01, 0.1, 1, 10], &#x27;tol&#x27;: [1, 5, 10]})</pre><b>In a Jupyter environment, please rerun this cell to show the HTML representation or trust the notebook. <br />On GitHub, the HTML representation is unable to render, please try loading this page with nbviewer.org.</b></div><div class=\"sk-container\" hidden><div class=\"sk-item sk-dashed-wrapped\"><div class=\"sk-label-container\"><div class=\"sk-label sk-toggleable\"><input class=\"sk-toggleable__control sk-hidden--visually\" id=\"sk-estimator-id-10\" type=\"checkbox\" ><label for=\"sk-estimator-id-10\" class=\"sk-toggleable__label sk-toggleable__label-arrow\">GridSearchCV</label><div class=\"sk-toggleable__content\"><pre>GridSearchCV(estimator=LinearSVC(),\n",
       "             param_grid={&#x27;C&#x27;: [0.001, 0.01, 0.1, 1, 10], &#x27;tol&#x27;: [1, 5, 10]})</pre></div></div></div><div class=\"sk-parallel\"><div class=\"sk-parallel-item\"><div class=\"sk-item\"><div class=\"sk-label-container\"><div class=\"sk-label sk-toggleable\"><input class=\"sk-toggleable__control sk-hidden--visually\" id=\"sk-estimator-id-11\" type=\"checkbox\" ><label for=\"sk-estimator-id-11\" class=\"sk-toggleable__label sk-toggleable__label-arrow\">estimator: LinearSVC</label><div class=\"sk-toggleable__content\"><pre>LinearSVC()</pre></div></div></div><div class=\"sk-serial\"><div class=\"sk-item\"><div class=\"sk-estimator sk-toggleable\"><input class=\"sk-toggleable__control sk-hidden--visually\" id=\"sk-estimator-id-12\" type=\"checkbox\" ><label for=\"sk-estimator-id-12\" class=\"sk-toggleable__label sk-toggleable__label-arrow\">LinearSVC</label><div class=\"sk-toggleable__content\"><pre>LinearSVC()</pre></div></div></div></div></div></div></div></div></div></div>"
      ],
      "text/plain": [
       "GridSearchCV(estimator=LinearSVC(),\n",
       "             param_grid={'C': [0.001, 0.01, 0.1, 1, 10], 'tol': [1, 5, 10]})"
      ]
     },
     "execution_count": 70,
     "metadata": {},
     "output_type": "execute_result"
    }
   ],
   "source": [
    "parameters = {'C':[0.001,0.01, 0.1, 1, 10],'tol':[1,5,10]}\n",
    "lsvc = LinearSVC()\n",
    "clf = GridSearchCV(lsvc, parameters)\n",
    "clf.fit(X_scaled_train_data,y_train)"
   ]
  },
  {
   "cell_type": "markdown",
   "metadata": {
    "id": "f5M8GHnoivAw"
   },
   "source": [
    "The best parameter values for **C** and **tol** are shown below. Here, C is the regularization paramter and tol is the tolerance for stopping criteria."
   ]
  },
  {
   "cell_type": "code",
   "execution_count": 76,
   "metadata": {
    "colab": {
     "base_uri": "https://localhost:8080/"
    },
    "id": "Ly-fD20Nwdlc",
    "outputId": "f82bd969-bf0e-47c5-8fde-016d537201e8"
   },
   "outputs": [
    {
     "data": {
      "text/plain": [
       "{'C': 10, 'tol': 1}"
      ]
     },
     "execution_count": 76,
     "metadata": {},
     "output_type": "execute_result"
    }
   ],
   "source": [
    "clf.best_params_"
   ]
  },
  {
   "cell_type": "code",
   "execution_count": 71,
   "metadata": {
    "id": "gERb0MyucCGr"
   },
   "outputs": [],
   "source": [
    "#LinearSVC  \n",
    "#using the same training and testing data, as used for the logistic regression model with count vectorizer\n",
    "#c and t values are as per the GridSearchCV results.  \n",
    "train_acc_cv_svc,test_acc_cv_svc,train_f1_cv_svc,test_f1_cv_svc,y_pred_test = linear_svc_model(X_scaled_train_data,y_train,X_scaled_test_data,y_test,10,1)"
   ]
  },
  {
   "cell_type": "code",
   "execution_count": 72,
   "metadata": {
    "colab": {
     "base_uri": "https://localhost:8080/"
    },
    "id": "jRGzfThzcCDS",
    "outputId": "1eb3b0f7-f80c-4475-f658-37fbf56f8022"
   },
   "outputs": [
    {
     "name": "stdout",
     "output_type": "stream",
     "text": [
      "Accuracy on train data:90.72%\n",
      "Accuracy on test data:90.92%\n",
      "F1-score on train data:0.9091058517009537\n",
      "F1-score on test data:0.9109437077550178\n"
     ]
    }
   ],
   "source": [
    "print(f'Accuracy on train data:{round(train_acc_cv_svc*100,2)}%')\n",
    "print(f'Accuracy on test data:{round(test_acc_cv_svc*100,2)}%')\n",
    "print(f'F1-score on train data:{train_f1_cv_svc}')\n",
    "print(f'F1-score on test data:{test_f1_cv_svc}')"
   ]
  },
  {
   "cell_type": "markdown",
   "metadata": {
    "id": "hVBgFDzybx3I"
   },
   "source": [
    "**LinearSVC Regression with TF-IDF Vectorizer**"
   ]
  },
  {
   "cell_type": "code",
   "execution_count": 73,
   "metadata": {
    "colab": {
     "base_uri": "https://localhost:8080/"
    },
    "id": "_kRMyplowdjl",
    "outputId": "4179fc76-1e56-4ced-ec9b-283dafb04bbb"
   },
   "outputs": [
    {
     "name": "stderr",
     "output_type": "stream",
     "text": [
      "/nfs/jolteon/data/hdd/sripad/sripad_vm_new/lib/python3.8/site-packages/sklearn/svm/_base.py:1225: ConvergenceWarning: Liblinear failed to converge, increase the number of iterations.\n",
      "  warnings.warn(\n"
     ]
    }
   ],
   "source": [
    "#LinearSVC  \n",
    "#using the same training and testing data(without scaling), as used for the logistic regression model with tf-idf vectorizer  \n",
    "train_acc_tfidf_svc,test_acc_tfidf_svc,train_f1_tfidf_svc,test_f1_tfidf_svc,y_pred_test = linear_svc_model(train_data_tfidf,y_train,test_data_tfidf,y_test,1,0.0001)"
   ]
  },
  {
   "cell_type": "code",
   "execution_count": 74,
   "metadata": {
    "colab": {
     "base_uri": "https://localhost:8080/"
    },
    "id": "O6ht7p9Rt-V5",
    "outputId": "daaf13a4-1645-41d0-d67f-355a1b49af65"
   },
   "outputs": [
    {
     "name": "stdout",
     "output_type": "stream",
     "text": [
      "Accuracy on train data:73.78%\n",
      "Accuracy on test data:73.8%\n",
      "F1-score on train data:0.6508413961683601\n",
      "F1-score on test data:0.6520356456403984\n"
     ]
    }
   ],
   "source": [
    "print(f'Accuracy on train data:{round(train_acc_tfidf_svc*100,2)}%')\n",
    "print(f'Accuracy on test data:{round(test_acc_tfidf_svc*100,2)}%')\n",
    "print(f'F1-score on train data:{train_f1_tfidf_svc}')\n",
    "print(f'F1-score on test data:{test_f1_tfidf_svc}')"
   ]
  },
  {
   "cell_type": "code",
   "execution_count": 75,
   "metadata": {},
   "outputs": [
    {
     "data": {
      "text/plain": [
       "<matplotlib.legend.Legend at 0x7fbc6f214640>"
      ]
     },
     "execution_count": 75,
     "metadata": {},
     "output_type": "execute_result"
    },
    {
     "data": {
      "image/png": "[encoded data removed]",
      "text/plain": [
       "<Figure size 640x480 with 1 Axes>"
      ]
     },
     "metadata": {},
     "output_type": "display_data"
    }
   ],
   "source": [
    "import matplotlib.pyplot as plt\n",
    "from sklearn.metrics import roc_curve, auc\n",
    "\n",
    "# Compute the false positive rate, true positive rate, and thresholds\n",
    "# for the model\n",
    "fpr, tpr, thresholds = roc_curve(y_test, y_pred_test)\n",
    "\n",
    "# Compute the area under the curve\n",
    "roc_auc = auc(fpr, tpr)\n",
    "\n",
    "# Plot the ROC curve\n",
    "plt.plot(fpr, tpr, label='ROC curve (area = %0.3f)' % roc_auc)\n",
    "plt.plot([0, 1], [0, 1], 'k--')  # random predictions curve\n",
    "plt.xlim([0.0, 1.0])\n",
    "plt.ylim([0.0, 1.0])\n",
    "plt.xlabel('False Positive Rate or (1 - Specificity)')\n",
    "plt.ylabel('True Positive Rate or (Sensitivity)')\n",
    "plt.title('Receiver Operating Characteristic')\n",
    "plt.legend(loc=\"lower right\")"
   ]
  },
  {
   "cell_type": "markdown",
   "metadata": {
    "id": "z_5P1LeRvdqm"
   },
   "source": [
    "**Analysis:**\n",
    "\n",
    "We can observe that the LinearSVC model with count vectorizer and LinearSVC model with TF-IDF vectorizer are almost giving us the same accuracy and F1-score. But, we can say that the LinearSVC model with count vectorizer is slightly better."
   ]
  },
  {
   "cell_type": "markdown",
   "metadata": {
    "id": "dubj-AHUttou"
   },
   "source": [
    "#### **Naive-Bayes classifier**"
   ]
  },
  {
   "cell_type": "markdown",
   "metadata": {
    "id": "qKjPOOd9zraO"
   },
   "source": [
    "**Multinomial Naive Bayes classifier**"
   ]
  },
  {
   "cell_type": "code",
   "execution_count": 87,
   "metadata": {
    "id": "ynizymHqttVd"
   },
   "outputs": [],
   "source": [
    "def mn_bayes_classifier(x_train,y_train,x_test,y_test,a):\n",
    "    #Multinomial Naive Bayes classifier. \n",
    "    mnb_cls = MultinomialNB(alpha = a)\n",
    "    #fitting the model\n",
    "    mnb_cls.fit(x_train,y_train)\n",
    "    #predict on train data\n",
    "    y_pred_train = mnb_cls.predict(x_train)\n",
    "    #on test data\n",
    "    y_pred_test = mnb_cls.predict(x_test)\n",
    "    y_pred_test_proba = mnb_cls.predict_proba(x_test)\n",
    "    #calculating the metrics to evaluate the model\n",
    "    #accuracy\n",
    "    train_acc = accuracy_score(y_pred_train,y_train)\n",
    "    test_acc = accuracy_score(y_pred_test,y_test)\n",
    "    #f1score\n",
    "    train_f1 = f1_score(y_pred_train,y_train) \n",
    "    test_f1 = f1_score(y_pred_test,y_test)\n",
    "\n",
    "    return train_acc,test_acc,train_f1,test_f1,y_pred_test,y_pred_test_proba"
   ]
  },
  {
   "cell_type": "markdown",
   "metadata": {
    "id": "f5pYthkU09UE"
   },
   "source": [
    "**Multinomial Naive Bayes classifier with Count Vectorizer**"
   ]
  },
  {
   "cell_type": "markdown",
   "metadata": {
    "id": "3ERWoH4R12PC"
   },
   "source": [
    "**GridSearchCV** for finding the best alpha value"
   ]
  },
  {
   "cell_type": "code",
   "execution_count": 88,
   "metadata": {
    "colab": {
     "base_uri": "https://localhost:8080/"
    },
    "id": "fFOBSzCg08K9",
    "outputId": "a9917d27-7e95-4585-a8ee-c4da13ad5cd8"
   },
   "outputs": [
    {
     "data": {
      "text/html": [
       "<style>#sk-container-id-7 {color: black;background-color: white;}#sk-container-id-7 pre{padding: 0;}#sk-container-id-7 div.sk-toggleable {background-color: white;}#sk-container-id-7 label.sk-toggleable__label {cursor: pointer;display: block;width: 100%;margin-bottom: 0;padding: 0.3em;box-sizing: border-box;text-align: center;}#sk-container-id-7 label.sk-toggleable__label-arrow:before {content: \"▸\";float: left;margin-right: 0.25em;color: #696969;}#sk-container-id-7 label.sk-toggleable__label-arrow:hover:before {color: black;}#sk-container-id-7 div.sk-estimator:hover label.sk-toggleable__label-arrow:before {color: black;}#sk-container-id-7 div.sk-toggleable__content {max-height: 0;max-width: 0;overflow: hidden;text-align: left;background-color: #f0f8ff;}#sk-container-id-7 div.sk-toggleable__content pre {margin: 0.2em;color: black;border-radius: 0.25em;background-color: #f0f8ff;}#sk-container-id-7 input.sk-toggleable__control:checked~div.sk-toggleable__content {max-height: 200px;max-width: 100%;overflow: auto;}#sk-container-id-7 input.sk-toggleable__control:checked~label.sk-toggleable__label-arrow:before {content: \"▾\";}#sk-container-id-7 div.sk-estimator input.sk-toggleable__control:checked~label.sk-toggleable__label {background-color: #d4ebff;}#sk-container-id-7 div.sk-label input.sk-toggleable__control:checked~label.sk-toggleable__label {background-color: #d4ebff;}#sk-container-id-7 input.sk-hidden--visually {border: 0;clip: rect(1px 1px 1px 1px);clip: rect(1px, 1px, 1px, 1px);height: 1px;margin: -1px;overflow: hidden;padding: 0;position: absolute;width: 1px;}#sk-container-id-7 div.sk-estimator {font-family: monospace;background-color: #f0f8ff;border: 1px dotted black;border-radius: 0.25em;box-sizing: border-box;margin-bottom: 0.5em;}#sk-container-id-7 div.sk-estimator:hover {background-color: #d4ebff;}#sk-container-id-7 div.sk-parallel-item::after {content: \"\";width: 100%;border-bottom: 1px solid gray;flex-grow: 1;}#sk-container-id-7 div.sk-label:hover label.sk-toggleable__label {background-color: #d4ebff;}#sk-container-id-7 div.sk-serial::before {content: \"\";position: absolute;border-left: 1px solid gray;box-sizing: border-box;top: 0;bottom: 0;left: 50%;z-index: 0;}#sk-container-id-7 div.sk-serial {display: flex;flex-direction: column;align-items: center;background-color: white;padding-right: 0.2em;padding-left: 0.2em;position: relative;}#sk-container-id-7 div.sk-item {position: relative;z-index: 1;}#sk-container-id-7 div.sk-parallel {display: flex;align-items: stretch;justify-content: center;background-color: white;position: relative;}#sk-container-id-7 div.sk-item::before, #sk-container-id-7 div.sk-parallel-item::before {content: \"\";position: absolute;border-left: 1px solid gray;box-sizing: border-box;top: 0;bottom: 0;left: 50%;z-index: -1;}#sk-container-id-7 div.sk-parallel-item {display: flex;flex-direction: column;z-index: 1;position: relative;background-color: white;}#sk-container-id-7 div.sk-parallel-item:first-child::after {align-self: flex-end;width: 50%;}#sk-container-id-7 div.sk-parallel-item:last-child::after {align-self: flex-start;width: 50%;}#sk-container-id-7 div.sk-parallel-item:only-child::after {width: 0;}#sk-container-id-7 div.sk-dashed-wrapped {border: 1px dashed gray;margin: 0 0.4em 0.5em 0.4em;box-sizing: border-box;padding-bottom: 0.4em;background-color: white;}#sk-container-id-7 div.sk-label label {font-family: monospace;font-weight: bold;display: inline-block;line-height: 1.2em;}#sk-container-id-7 div.sk-label-container {text-align: center;}#sk-container-id-7 div.sk-container {/* jupyter's `normalize.less` sets `[hidden] { display: none; }` but bootstrap.min.css set `[hidden] { display: none !important; }` so we also need the `!important` here to be able to override the default hidden behavior on the sphinx rendered scikit-learn.org. See: https://github.com/scikit-learn/scikit-learn/issues/21755 */display: inline-block !important;position: relative;}#sk-container-id-7 div.sk-text-repr-fallback {display: none;}</style><div id=\"sk-container-id-7\" class=\"sk-top-container\"><div class=\"sk-text-repr-fallback\"><pre>GridSearchCV(estimator=MultinomialNB(),\n",
       "             param_grid={&#x27;alpha&#x27;: [0.0001, 0.001, 0.01, 0.1, 0.2, 0.4, 0.6, 0.8,\n",
       "                                   1]})</pre><b>In a Jupyter environment, please rerun this cell to show the HTML representation or trust the notebook. <br />On GitHub, the HTML representation is unable to render, please try loading this page with nbviewer.org.</b></div><div class=\"sk-container\" hidden><div class=\"sk-item sk-dashed-wrapped\"><div class=\"sk-label-container\"><div class=\"sk-label sk-toggleable\"><input class=\"sk-toggleable__control sk-hidden--visually\" id=\"sk-estimator-id-19\" type=\"checkbox\" ><label for=\"sk-estimator-id-19\" class=\"sk-toggleable__label sk-toggleable__label-arrow\">GridSearchCV</label><div class=\"sk-toggleable__content\"><pre>GridSearchCV(estimator=MultinomialNB(),\n",
       "             param_grid={&#x27;alpha&#x27;: [0.0001, 0.001, 0.01, 0.1, 0.2, 0.4, 0.6, 0.8,\n",
       "                                   1]})</pre></div></div></div><div class=\"sk-parallel\"><div class=\"sk-parallel-item\"><div class=\"sk-item\"><div class=\"sk-label-container\"><div class=\"sk-label sk-toggleable\"><input class=\"sk-toggleable__control sk-hidden--visually\" id=\"sk-estimator-id-20\" type=\"checkbox\" ><label for=\"sk-estimator-id-20\" class=\"sk-toggleable__label sk-toggleable__label-arrow\">estimator: MultinomialNB</label><div class=\"sk-toggleable__content\"><pre>MultinomialNB()</pre></div></div></div><div class=\"sk-serial\"><div class=\"sk-item\"><div class=\"sk-estimator sk-toggleable\"><input class=\"sk-toggleable__control sk-hidden--visually\" id=\"sk-estimator-id-21\" type=\"checkbox\" ><label for=\"sk-estimator-id-21\" class=\"sk-toggleable__label sk-toggleable__label-arrow\">MultinomialNB</label><div class=\"sk-toggleable__content\"><pre>MultinomialNB()</pre></div></div></div></div></div></div></div></div></div></div>"
      ],
      "text/plain": [
       "GridSearchCV(estimator=MultinomialNB(),\n",
       "             param_grid={'alpha': [0.0001, 0.001, 0.01, 0.1, 0.2, 0.4, 0.6, 0.8,\n",
       "                                   1]})"
      ]
     },
     "execution_count": 88,
     "metadata": {},
     "output_type": "execute_result"
    }
   ],
   "source": [
    "parameters = {'alpha':[0.0001,0.001,0.01,0.1,0.2,0.4,0.6,0.8,1]}\n",
    "m_nb =  MultinomialNB()\n",
    "mnb_cv = GridSearchCV(m_nb, parameters)\n",
    "mnb_cv.fit(X_scaled_train_data,y_train)"
   ]
  },
  {
   "cell_type": "code",
   "execution_count": 89,
   "metadata": {
    "colab": {
     "base_uri": "https://localhost:8080/"
    },
    "id": "fYNliBRhttR6",
    "outputId": "b9409cd6-ee5f-4ccf-90c2-836af273b40b"
   },
   "outputs": [
    {
     "data": {
      "text/plain": [
       "{'alpha': 0.001}"
      ]
     },
     "execution_count": 89,
     "metadata": {},
     "output_type": "execute_result"
    }
   ],
   "source": [
    "mnb_cv.best_params_"
   ]
  },
  {
   "cell_type": "code",
   "execution_count": 90,
   "metadata": {
    "id": "EidCtjocttPS"
   },
   "outputs": [],
   "source": [
    "#Mutinomial Naive Bayes classifier with count vectorizer\n",
    "#Alpha value is used as per GridSearchCV  \n",
    "train_acc_cv_mnb,test_acc_cv_mnb,train_f1_cv_mnb,test_f1_cv_mnb,y_pred_test,y_pred_test_proba = mn_bayes_classifier(X_scaled_train_data,y_train,X_scaled_test_data,y_test,0.001)"
   ]
  },
  {
   "cell_type": "code",
   "execution_count": 91,
   "metadata": {
    "colab": {
     "base_uri": "https://localhost:8080/"
    },
    "id": "JBXLf_vsttMl",
    "outputId": "954119f0-0a07-45f8-adbe-d8986ca2555d"
   },
   "outputs": [
    {
     "name": "stdout",
     "output_type": "stream",
     "text": [
      "Accuracy on train data:88.72%\n",
      "Accuracy on test data:88.18%\n",
      "F1-score on train data:0.8904015487416473\n",
      "F1-score on test data:0.8854774958561775\n"
     ]
    }
   ],
   "source": [
    "print(f'Accuracy on train data:{round(train_acc_cv_mnb*100,2)}%')\n",
    "print(f'Accuracy on test data:{round(test_acc_cv_mnb*100,2)}%')\n",
    "print(f'F1-score on train data:{train_f1_cv_mnb}')\n",
    "print(f'F1-score on test data:{test_f1_cv_mnb}')"
   ]
  },
  {
   "cell_type": "markdown",
   "metadata": {
    "id": "lTHwlcVM6fPB"
   },
   "source": [
    "**Multinomial Naive Bayes classifier with tf-idf Vectorizer**"
   ]
  },
  {
   "cell_type": "markdown",
   "metadata": {
    "id": "4p_CGi5U8uza"
   },
   "source": [
    "**GridSearchCV** for finding the best alpha value"
   ]
  },
  {
   "cell_type": "code",
   "execution_count": 92,
   "metadata": {
    "colab": {
     "base_uri": "https://localhost:8080/"
    },
    "id": "0e8o7LP07C1e",
    "outputId": "f97d863d-e3c3-4973-ec90-644ef33a5f8d"
   },
   "outputs": [
    {
     "data": {
      "text/html": [
       "<style>#sk-container-id-8 {color: black;background-color: white;}#sk-container-id-8 pre{padding: 0;}#sk-container-id-8 div.sk-toggleable {background-color: white;}#sk-container-id-8 label.sk-toggleable__label {cursor: pointer;display: block;width: 100%;margin-bottom: 0;padding: 0.3em;box-sizing: border-box;text-align: center;}#sk-container-id-8 label.sk-toggleable__label-arrow:before {content: \"▸\";float: left;margin-right: 0.25em;color: #696969;}#sk-container-id-8 label.sk-toggleable__label-arrow:hover:before {color: black;}#sk-container-id-8 div.sk-estimator:hover label.sk-toggleable__label-arrow:before {color: black;}#sk-container-id-8 div.sk-toggleable__content {max-height: 0;max-width: 0;overflow: hidden;text-align: left;background-color: #f0f8ff;}#sk-container-id-8 div.sk-toggleable__content pre {margin: 0.2em;color: black;border-radius: 0.25em;background-color: #f0f8ff;}#sk-container-id-8 input.sk-toggleable__control:checked~div.sk-toggleable__content {max-height: 200px;max-width: 100%;overflow: auto;}#sk-container-id-8 input.sk-toggleable__control:checked~label.sk-toggleable__label-arrow:before {content: \"▾\";}#sk-container-id-8 div.sk-estimator input.sk-toggleable__control:checked~label.sk-toggleable__label {background-color: #d4ebff;}#sk-container-id-8 div.sk-label input.sk-toggleable__control:checked~label.sk-toggleable__label {background-color: #d4ebff;}#sk-container-id-8 input.sk-hidden--visually {border: 0;clip: rect(1px 1px 1px 1px);clip: rect(1px, 1px, 1px, 1px);height: 1px;margin: -1px;overflow: hidden;padding: 0;position: absolute;width: 1px;}#sk-container-id-8 div.sk-estimator {font-family: monospace;background-color: #f0f8ff;border: 1px dotted black;border-radius: 0.25em;box-sizing: border-box;margin-bottom: 0.5em;}#sk-container-id-8 div.sk-estimator:hover {background-color: #d4ebff;}#sk-container-id-8 div.sk-parallel-item::after {content: \"\";width: 100%;border-bottom: 1px solid gray;flex-grow: 1;}#sk-container-id-8 div.sk-label:hover label.sk-toggleable__label {background-color: #d4ebff;}#sk-container-id-8 div.sk-serial::before {content: \"\";position: absolute;border-left: 1px solid gray;box-sizing: border-box;top: 0;bottom: 0;left: 50%;z-index: 0;}#sk-container-id-8 div.sk-serial {display: flex;flex-direction: column;align-items: center;background-color: white;padding-right: 0.2em;padding-left: 0.2em;position: relative;}#sk-container-id-8 div.sk-item {position: relative;z-index: 1;}#sk-container-id-8 div.sk-parallel {display: flex;align-items: stretch;justify-content: center;background-color: white;position: relative;}#sk-container-id-8 div.sk-item::before, #sk-container-id-8 div.sk-parallel-item::before {content: \"\";position: absolute;border-left: 1px solid gray;box-sizing: border-box;top: 0;bottom: 0;left: 50%;z-index: -1;}#sk-container-id-8 div.sk-parallel-item {display: flex;flex-direction: column;z-index: 1;position: relative;background-color: white;}#sk-container-id-8 div.sk-parallel-item:first-child::after {align-self: flex-end;width: 50%;}#sk-container-id-8 div.sk-parallel-item:last-child::after {align-self: flex-start;width: 50%;}#sk-container-id-8 div.sk-parallel-item:only-child::after {width: 0;}#sk-container-id-8 div.sk-dashed-wrapped {border: 1px dashed gray;margin: 0 0.4em 0.5em 0.4em;box-sizing: border-box;padding-bottom: 0.4em;background-color: white;}#sk-container-id-8 div.sk-label label {font-family: monospace;font-weight: bold;display: inline-block;line-height: 1.2em;}#sk-container-id-8 div.sk-label-container {text-align: center;}#sk-container-id-8 div.sk-container {/* jupyter's `normalize.less` sets `[hidden] { display: none; }` but bootstrap.min.css set `[hidden] { display: none !important; }` so we also need the `!important` here to be able to override the default hidden behavior on the sphinx rendered scikit-learn.org. See: https://github.com/scikit-learn/scikit-learn/issues/21755 */display: inline-block !important;position: relative;}#sk-container-id-8 div.sk-text-repr-fallback {display: none;}</style><div id=\"sk-container-id-8\" class=\"sk-top-container\"><div class=\"sk-text-repr-fallback\"><pre>GridSearchCV(estimator=MultinomialNB(),\n",
       "             param_grid={&#x27;alpha&#x27;: [0.0001, 0.001, 0.01, 0.1, 0.2, 0.4, 0.6, 0.8,\n",
       "                                   1]})</pre><b>In a Jupyter environment, please rerun this cell to show the HTML representation or trust the notebook. <br />On GitHub, the HTML representation is unable to render, please try loading this page with nbviewer.org.</b></div><div class=\"sk-container\" hidden><div class=\"sk-item sk-dashed-wrapped\"><div class=\"sk-label-container\"><div class=\"sk-label sk-toggleable\"><input class=\"sk-toggleable__control sk-hidden--visually\" id=\"sk-estimator-id-22\" type=\"checkbox\" ><label for=\"sk-estimator-id-22\" class=\"sk-toggleable__label sk-toggleable__label-arrow\">GridSearchCV</label><div class=\"sk-toggleable__content\"><pre>GridSearchCV(estimator=MultinomialNB(),\n",
       "             param_grid={&#x27;alpha&#x27;: [0.0001, 0.001, 0.01, 0.1, 0.2, 0.4, 0.6, 0.8,\n",
       "                                   1]})</pre></div></div></div><div class=\"sk-parallel\"><div class=\"sk-parallel-item\"><div class=\"sk-item\"><div class=\"sk-label-container\"><div class=\"sk-label sk-toggleable\"><input class=\"sk-toggleable__control sk-hidden--visually\" id=\"sk-estimator-id-23\" type=\"checkbox\" ><label for=\"sk-estimator-id-23\" class=\"sk-toggleable__label sk-toggleable__label-arrow\">estimator: MultinomialNB</label><div class=\"sk-toggleable__content\"><pre>MultinomialNB()</pre></div></div></div><div class=\"sk-serial\"><div class=\"sk-item\"><div class=\"sk-estimator sk-toggleable\"><input class=\"sk-toggleable__control sk-hidden--visually\" id=\"sk-estimator-id-24\" type=\"checkbox\" ><label for=\"sk-estimator-id-24\" class=\"sk-toggleable__label sk-toggleable__label-arrow\">MultinomialNB</label><div class=\"sk-toggleable__content\"><pre>MultinomialNB()</pre></div></div></div></div></div></div></div></div></div></div>"
      ],
      "text/plain": [
       "GridSearchCV(estimator=MultinomialNB(),\n",
       "             param_grid={'alpha': [0.0001, 0.001, 0.01, 0.1, 0.2, 0.4, 0.6, 0.8,\n",
       "                                   1]})"
      ]
     },
     "execution_count": 92,
     "metadata": {},
     "output_type": "execute_result"
    }
   ],
   "source": [
    "parameters = {'alpha':[0.0001,0.001,0.01,0.1,0.2,0.4,0.6,0.8,1]}\n",
    "m_nb =  MultinomialNB()\n",
    "mnb_tfidf = GridSearchCV(m_nb, parameters)\n",
    "mnb_tfidf.fit(train_data_tfidf,y_train)"
   ]
  },
  {
   "cell_type": "code",
   "execution_count": 93,
   "metadata": {
    "colab": {
     "base_uri": "https://localhost:8080/"
    },
    "id": "BdNfoV-M7CyD",
    "outputId": "8d5a86a7-bd71-4e22-a259-53cd2832227e"
   },
   "outputs": [
    {
     "data": {
      "text/plain": [
       "{'alpha': 0.01}"
      ]
     },
     "execution_count": 93,
     "metadata": {},
     "output_type": "execute_result"
    }
   ],
   "source": [
    "mnb_tfidf.best_params_"
   ]
  },
  {
   "cell_type": "code",
   "execution_count": 94,
   "metadata": {
    "id": "FFa5UGRB5jMD"
   },
   "outputs": [],
   "source": [
    "#Mutinomial Naive Bayes classifier with tf-idf vectorizer  \n",
    "#Alpha value is used as per GridSearchCV  \n",
    "train_acc_tfidf_mnb,test_acc_tfidf_mnb,train_f1_tfidf_mnb,test_f1_tfidf_mnb,y_pred_test,y_pred_test_proba = mn_bayes_classifier(train_data_tfidf,y_train,test_data_tfidf,y_test,0.01)"
   ]
  },
  {
   "cell_type": "code",
   "execution_count": 95,
   "metadata": {
    "colab": {
     "base_uri": "https://localhost:8080/"
    },
    "id": "-CUIFXt08nes",
    "outputId": "c11236f5-c380-48ef-d8c4-984c6027f22c"
   },
   "outputs": [
    {
     "name": "stdout",
     "output_type": "stream",
     "text": [
      "Accuracy on train data:76.82%\n",
      "Accuracy on test data:76.41%\n",
      "F1-score on train data:0.7463870474895427\n",
      "F1-score on test data:0.7413584165272088\n"
     ]
    }
   ],
   "source": [
    "print(f'Accuracy on train data:{round(train_acc_tfidf_mnb*100,2)}%')\n",
    "print(f'Accuracy on test data:{round(test_acc_tfidf_mnb*100,2)}%')\n",
    "print(f'F1-score on train data:{train_f1_tfidf_mnb}')\n",
    "print(f'F1-score on test data:{test_f1_tfidf_mnb}')"
   ]
  },
  {
   "cell_type": "code",
   "execution_count": 96,
   "metadata": {},
   "outputs": [
    {
     "data": {
      "text/plain": [
       "<matplotlib.legend.Legend at 0x7fbc6f2038b0>"
      ]
     },
     "execution_count": 96,
     "metadata": {},
     "output_type": "execute_result"
    },
    {
     "data": {
      "image/png": "[encoded data removed]",
      "text/plain": [
       "<Figure size 640x480 with 1 Axes>"
      ]
     },
     "metadata": {},
     "output_type": "display_data"
    }
   ],
   "source": [
    "import matplotlib.pyplot as plt\n",
    "from sklearn.metrics import roc_curve, auc\n",
    "\n",
    "# Compute the false positive rate, true positive rate, and thresholds\n",
    "# for the model\n",
    "fpr, tpr, thresholds = roc_curve(y_test, y_pred_test_proba[:,1])\n",
    "\n",
    "# Compute the area under the curve\n",
    "roc_auc = auc(fpr, tpr)\n",
    "\n",
    "# Plot the ROC curve\n",
    "plt.plot(fpr, tpr, label='ROC curve (area = %0.3f)' % roc_auc)\n",
    "plt.plot([0, 1], [0, 1], 'k--')  # random predictions curve\n",
    "plt.xlim([0.0, 1.0])\n",
    "plt.ylim([0.0, 1.0])\n",
    "plt.xlabel('False Positive Rate or (1 - Specificity)')\n",
    "plt.ylabel('True Positive Rate or (Sensitivity)')\n",
    "plt.title('Receiver Operating Characteristic')\n",
    "plt.legend(loc=\"lower right\")"
   ]
  },
  {
   "cell_type": "markdown",
   "metadata": {
    "id": "U8Oiw8beBDY3"
   },
   "source": [
    "**Analysis:** We can observe that Multinomial Naive Bayes + Count Vectorizer is giving us the better accuracy and F1-score"
   ]
  },
  {
   "cell_type": "markdown",
   "metadata": {
    "id": "qatOUDyNG4Ax"
   },
   "source": [
    "#### **XGBoost Classifier**"
   ]
  },
  {
   "cell_type": "code",
   "execution_count": 119,
   "metadata": {
    "id": "lYAbNAG28shG"
   },
   "outputs": [],
   "source": [
    "def xgb_classifier(x_train,y_train,x_test,y_test):\n",
    "    #XGBoost classifier\n",
    "    xgb_cls = xgb.XGBClassifier(objective=\"binary:logistic\", random_state=42)\n",
    "    #fitting the model\n",
    "    xgb_cls.fit(x_train,y_train)\n",
    "    #predict on train data\n",
    "    y_pred_train = xgb_cls.predict(x_train)\n",
    "    #on test data\n",
    "    y_pred_test = xgb_cls.predict(x_test)\n",
    "    y_pred_test_proba = xgb_cls.predict_proba(x_test)\n",
    "\n",
    "    \n",
    "    #calculating the metrics to evaluate the model\n",
    "    #accuracy\n",
    "    train_acc = accuracy_score(y_pred_train,y_train)\n",
    "    test_acc = accuracy_score(y_pred_test,y_test)\n",
    "    #f1score\n",
    "    train_f1 = f1_score(y_pred_train,y_train) \n",
    "    test_f1 = f1_score(y_pred_test,y_test)\n",
    "\n",
    "    return train_acc,test_acc,train_f1,test_f1,y_pred_test,y_pred_test_proba"
   ]
  },
  {
   "cell_type": "markdown",
   "metadata": {
    "id": "ab6PzwTZOhJr"
   },
   "source": [
    "**XGBoost Classifier with Count Vectorizer**"
   ]
  },
  {
   "cell_type": "code",
   "execution_count": 120,
   "metadata": {
    "colab": {
     "base_uri": "https://localhost:8080/",
     "height": 318
    },
    "id": "eFphL9-KPXCZ",
    "outputId": "a2480f4d-0d34-48a6-ec4e-96a10cb27753"
   },
   "outputs": [],
   "source": [
    "train_acc_cv_xgb,test_acc_cv_xgb,train_f1_cv_xgb,test_f1_cv_xgb,y_pred_test,y_pred_test_proba = xgb_classifier(X_scaled_train_data,y_train,X_scaled_test_data,y_test)"
   ]
  },
  {
   "cell_type": "code",
   "execution_count": 121,
   "metadata": {
    "id": "rJp5h3LuPW_B"
   },
   "outputs": [
    {
     "name": "stdout",
     "output_type": "stream",
     "text": [
      "Accuracy on train data:91.54%\n",
      "Accuracy on test data:90.65%\n",
      "F1-score on train data:0.91548267695597\n",
      "F1-score on test data:0.9065516425133479\n"
     ]
    }
   ],
   "source": [
    "print(f'Accuracy on train data:{round(train_acc_cv_xgb*100,2)}%')\n",
    "print(f'Accuracy on test data:{round(test_acc_cv_xgb*100,2)}%')\n",
    "print(f'F1-score on train data:{train_f1_cv_xgb}')\n",
    "print(f'F1-score on test data:{test_f1_cv_xgb}')"
   ]
  },
  {
   "cell_type": "markdown",
   "metadata": {
    "id": "_N8AwAiROoDq"
   },
   "source": [
    "**XGBoost Classifier with TF-IDF Vectorizer**"
   ]
  },
  {
   "cell_type": "code",
   "execution_count": 122,
   "metadata": {
    "id": "_1g5whFOOnm5"
   },
   "outputs": [],
   "source": [
    "train_acc_tfidf_xgb,test_acc_tfidf_xgb,train_f1_tfidf_xgb,test_f1_tfidf_xgb,y_pred_test,y_pred_test_proba = xgb_classifier(train_data_tfidf,y_train,test_data_tfidf,y_test)"
   ]
  },
  {
   "cell_type": "code",
   "execution_count": 123,
   "metadata": {
    "id": "kDdSnmssOnjb"
   },
   "outputs": [
    {
     "name": "stdout",
     "output_type": "stream",
     "text": [
      "Accuracy on train data:91.63%\n",
      "Accuracy on test data:90.6%\n",
      "F1-score on train data:0.9163389409522721\n",
      "F1-score on test data:0.9060098936954004\n"
     ]
    }
   ],
   "source": [
    "print(f'Accuracy on train data:{round(train_acc_tfidf_xgb*100,2)}%')\n",
    "print(f'Accuracy on test data:{round(test_acc_tfidf_xgb*100,2)}%')\n",
    "print(f'F1-score on train data:{train_f1_tfidf_xgb}')\n",
    "print(f'F1-score on test data:{test_f1_tfidf_xgb}')"
   ]
  },
  {
   "cell_type": "code",
   "execution_count": 125,
   "metadata": {},
   "outputs": [
    {
     "data": {
      "text/plain": [
       "<matplotlib.legend.Legend at 0x7fbc6eaee310>"
      ]
     },
     "execution_count": 125,
     "metadata": {},
     "output_type": "execute_result"
    },
    {
     "data": {
      "image/png": "[encoded data removed]",
      "text/plain": [
       "<Figure size 640x480 with 1 Axes>"
      ]
     },
     "metadata": {},
     "output_type": "display_data"
    }
   ],
   "source": [
    "import matplotlib.pyplot as plt\n",
    "from sklearn.metrics import roc_curve, auc\n",
    "\n",
    "# Compute the false positive rate, true positive rate, and thresholds\n",
    "# for the model\n",
    "fpr, tpr, thresholds = roc_curve(y_test, y_pred_test_proba[:,1])\n",
    "\n",
    "# Compute the area under the curve\n",
    "roc_auc = auc(fpr, tpr)\n",
    "\n",
    "# Plot the ROC curve\n",
    "plt.plot(fpr, tpr, label='ROC curve (area = %0.3f)' % roc_auc)\n",
    "plt.plot([0, 1], [0, 1], 'k--')  # random predictions curve\n",
    "plt.xlim([0.0, 1.0])\n",
    "plt.ylim([0.0, 1.0])\n",
    "plt.xlabel('False Positive Rate or (1 - Specificity)')\n",
    "plt.ylabel('True Positive Rate or (Sensitivity)')\n",
    "plt.title('Receiver Operating Characteristic')\n",
    "plt.legend(loc=\"lower right\")"
   ]
  },
  {
   "cell_type": "markdown",
   "metadata": {
    "id": "F79XL4qySnUS"
   },
   "source": [
    "**Analysis:**\n",
    "\n",
    "We can see that the XGBoost Classifier with count vectorizer and TF-IDF vectorizer are almost giving us the same results."
   ]
  },
  {
   "cell_type": "markdown",
   "metadata": {},
   "source": [
    "## RandomForrest Classifier"
   ]
  },
  {
   "cell_type": "code",
   "execution_count": 100,
   "metadata": {},
   "outputs": [],
   "source": [
    "#Import Random Forest Model\n",
    "from sklearn.ensemble import RandomForestClassifier\n",
    "from sklearn import metrics"
   ]
  },
  {
   "cell_type": "code",
   "execution_count": 101,
   "metadata": {},
   "outputs": [],
   "source": [
    "def RandomForrest_classifier(x_train,y_train,x_test,y_test):\n",
    "    \n",
    "    #Create a Gaussian Classifier\n",
    "    clf=RandomForestClassifier(n_estimators=20)\n",
    "    #fitting the model\n",
    "    clf.fit(x_train,y_train)\n",
    "    #predict on train data\n",
    "    y_pred_train=clf.predict(x_train)\n",
    "    #on test data\n",
    "    y_pred_test = clf.predict(x_test)\n",
    "    y_pred_test_proba = clf.predict_proba(x_test)\n",
    "    #calculating the metrics to evaluate the model\n",
    "    #accuracy\n",
    "    train_acc = metrics.accuracy_score(y_pred_train,y_train)\n",
    "    test_acc = metrics.accuracy_score(y_pred_test,y_test)\n",
    "    #f1score\n",
    "    train_f1 = f1_score(y_pred_train,y_train) \n",
    "    test_f1 = f1_score(y_pred_test,y_test)\n",
    "\n",
    "    return train_acc,test_acc,train_f1,test_f1,clf,y_pred_test,y_pred_test_proba"
   ]
  },
  {
   "cell_type": "markdown",
   "metadata": {},
   "source": [
    "RandomForrest Classifier with Count Vectorizer"
   ]
  },
  {
   "cell_type": "code",
   "execution_count": 102,
   "metadata": {},
   "outputs": [],
   "source": [
    "train_acc_cv_rf,test_acc_cv_rf,train_f1_cv_rf,test_f1_cv_rf,m_clf,y_pred_test,y_pred_test_proba = RandomForrest_classifier(X_scaled_train_data,y_train,X_scaled_test_data,y_test)"
   ]
  },
  {
   "cell_type": "code",
   "execution_count": 103,
   "metadata": {},
   "outputs": [
    {
     "name": "stdout",
     "output_type": "stream",
     "text": [
      "Accuracy on train data:99.95%\n",
      "Accuracy on test data:86.42%\n",
      "F1-score on train data:0.999500128538376\n",
      "F1-score on test data:0.8689423956110942\n"
     ]
    }
   ],
   "source": [
    "print(f'Accuracy on train data:{round(train_acc_cv_rf*100,2)}%')\n",
    "print(f'Accuracy on test data:{round(test_acc_cv_rf*100,2)}%')\n",
    "print(f'F1-score on train data:{train_f1_cv_rf}')\n",
    "print(f'F1-score on test data:{test_f1_cv_rf}')"
   ]
  },
  {
   "cell_type": "markdown",
   "metadata": {},
   "source": [
    "RandomForrest Classifier with TF-IDF Vectorizer"
   ]
  },
  {
   "cell_type": "code",
   "execution_count": 104,
   "metadata": {},
   "outputs": [],
   "source": [
    "train_acc_tfidf_rf,test_acc_tfidf_rf,train_f1_tfidf_rf,test_f1_tfidf_rf,c_clf,y_pred_test,y_pred_test_proba = RandomForrest_classifier(train_data_tfidf,y_train,test_data_tfidf,y_test)"
   ]
  },
  {
   "cell_type": "code",
   "execution_count": 105,
   "metadata": {},
   "outputs": [
    {
     "name": "stdout",
     "output_type": "stream",
     "text": [
      "Accuracy on train data:99.95%\n",
      "Accuracy on test data:85.92%\n",
      "F1-score on train data:0.9994929947585657\n",
      "F1-score on test data:0.8646858009862181\n"
     ]
    }
   ],
   "source": [
    "print(f'Accuracy on train data:{round(train_acc_tfidf_rf*100,2)}%')\n",
    "print(f'Accuracy on test data:{round(test_acc_tfidf_rf*100,2)}%')\n",
    "print(f'F1-score on train data:{train_f1_tfidf_rf}')\n",
    "print(f'F1-score on test data:{test_f1_tfidf_rf}')"
   ]
  },
  {
   "cell_type": "code",
   "execution_count": 106,
   "metadata": {},
   "outputs": [
    {
     "data": {
      "text/plain": [
       "<matplotlib.legend.Legend at 0x7fbc6bf02ac0>"
      ]
     },
     "execution_count": 106,
     "metadata": {},
     "output_type": "execute_result"
    },
    {
     "data": {
      "image/png": "[encoded data removed]",
      "text/plain": [
       "<Figure size 640x480 with 1 Axes>"
      ]
     },
     "metadata": {},
     "output_type": "display_data"
    }
   ],
   "source": [
    "import matplotlib.pyplot as plt\n",
    "from sklearn.metrics import roc_curve, auc\n",
    "\n",
    "# Compute the false positive rate, true positive rate, and thresholds\n",
    "# for the model\n",
    "fpr, tpr, thresholds = roc_curve(y_test-1, y_pred_test_proba[:,1])\n",
    "\n",
    "# Compute the area under the curve\n",
    "roc_auc = auc(fpr, tpr)\n",
    "\n",
    "# Plot the ROC curve\n",
    "plt.plot(fpr, tpr, label='ROC curve (area = %0.3f)' % roc_auc)\n",
    "plt.plot([0, 1], [0, 1], 'k--')  # random predictions curve\n",
    "plt.xlim([0.0, 1.0])\n",
    "plt.ylim([0.0, 1.0])\n",
    "plt.xlabel('False Positive Rate or (1 - Specificity)')\n",
    "plt.ylabel('True Positive Rate or (Sensitivity)')\n",
    "plt.title('Receiver Operating Characteristic')\n",
    "plt.legend(loc=\"lower right\")"
   ]
  },
  {
   "cell_type": "markdown",
   "metadata": {},
   "source": [
    "# Finding Important Features"
   ]
  },
  {
   "cell_type": "markdown",
   "metadata": {},
   "source": [
    "Important features - count vectorized data"
   ]
  },
  {
   "cell_type": "code",
   "execution_count": 107,
   "metadata": {},
   "outputs": [],
   "source": [
    "top10k = np.argsort(m_clf.feature_importances_)[::-1][:10000]"
   ]
  },
  {
   "cell_type": "code",
   "execution_count": 108,
   "metadata": {},
   "outputs": [],
   "source": [
    "filtered_10k_scaled_train = X_scaled_train_data[:,top10k]"
   ]
  },
  {
   "cell_type": "code",
   "execution_count": 109,
   "metadata": {},
   "outputs": [
    {
     "data": {
      "text/plain": [
       "(559971, 10000)"
      ]
     },
     "execution_count": 109,
     "metadata": {},
     "output_type": "execute_result"
    }
   ],
   "source": [
    "filtered_10k_scaled_train.shape"
   ]
  },
  {
   "cell_type": "markdown",
   "metadata": {},
   "source": [
    "Important features - TFIDF"
   ]
  },
  {
   "cell_type": "code",
   "execution_count": 52,
   "metadata": {},
   "outputs": [],
   "source": [
    "# top10k_tfidf = np.argsort(c_clf.feature_importances_)[::-1][:10000]\n",
    "top10k_tfidf = np.load(\"top10k_tfidf.npy\")"
   ]
  },
  {
   "cell_type": "code",
   "execution_count": 53,
   "metadata": {},
   "outputs": [],
   "source": [
    "filtered_10k_train_data_tfidf = train_data_tfidf.tocsr()[:,top10k_tfidf]\n",
    "filtered_10k_test_data_tfidf = test_data_tfidf.tocsr()[:,top10k_tfidf]"
   ]
  },
  {
   "cell_type": "code",
   "execution_count": 54,
   "metadata": {},
   "outputs": [],
   "source": [
    "filtered_10k_train_data_tfidf_numpy = scipy.sparse.csr_matrix.toarray(filtered_10k_train_data_tfidf)\n",
    "filtered_10k_test_data_tfidf_numpy = scipy.sparse.csr_matrix.toarray(filtered_10k_test_data_tfidf)"
   ]
  },
  {
   "cell_type": "code",
   "execution_count": 55,
   "metadata": {
    "colab": {
     "base_uri": "https://localhost:8080/"
    },
    "id": "CbICOjc6Wuhz",
    "outputId": "53967613-99c6-4e6c-8bc3-4e28c8f9b5da"
   },
   "outputs": [
    {
     "name": "stdout",
     "output_type": "stream",
     "text": [
      "(559971, 10000)\n",
      "(38000, 10000)\n"
     ]
    }
   ],
   "source": [
    "print(filtered_10k_train_data_tfidf_numpy.shape)\n",
    "print(filtered_10k_test_data_tfidf_numpy.shape)"
   ]
  },
  {
   "cell_type": "code",
   "execution_count": 56,
   "metadata": {},
   "outputs": [],
   "source": [
    "# np.save(\"top10k_tfidf.npy\", top10k_tfidf)"
   ]
  },
  {
   "cell_type": "code",
   "execution_count": 57,
   "metadata": {},
   "outputs": [],
   "source": [
    "device = \"cpu\""
   ]
  },
  {
   "cell_type": "code",
   "execution_count": 35,
   "metadata": {
    "id": "r34O31REOnhJ"
   },
   "outputs": [],
   "source": [
    "import os\n",
    "import numpy as np\n",
    "import pandas as pd\n",
    "import matplotlib.pyplot as plt\n",
    "\n",
    "import torch \n",
    "import torch.nn as nn\n",
    "import torch.nn.functional as f\n",
    "from torch import optim\n",
    "import torchvision\n",
    "from torch.utils.data import DataLoader\n",
    "from sklearn.metrics import accuracy_score\n",
    "device = torch.device(\"cuda\" if torch.cuda.is_available() else \"cpu\")\n",
    "import tqdm as tqdm\n",
    "from sklearn.decomposition import PCA\n",
    "from sklearn.manifold import TSNE\n",
    "from sklearn.preprocessing import StandardScaler"
   ]
  },
  {
   "cell_type": "code",
   "execution_count": 59,
   "metadata": {
    "id": "QPepO_w2kmVQ"
   },
   "outputs": [],
   "source": [
    "yelp_train_tfidf_tensor = torch.from_numpy(filtered_10k_train_data_tfidf_numpy)\n",
    "yelp_test_tfidf_tensor = torch.from_numpy(filtered_10k_test_data_tfidf_numpy)"
   ]
  },
  {
   "cell_type": "code",
   "execution_count": 60,
   "metadata": {},
   "outputs": [
    {
     "name": "stdout",
     "output_type": "stream",
     "text": [
      "torch.Size([559971, 10000])\n",
      "torch.Size([38000, 10000])\n"
     ]
    }
   ],
   "source": [
    "print(yelp_train_tfidf_tensor.shape)\n",
    "print(yelp_test_tfidf_tensor.shape)"
   ]
  },
  {
   "cell_type": "code",
   "execution_count": 61,
   "metadata": {},
   "outputs": [],
   "source": [
    "train_loader = DataLoader(list(zip(yelp_train_tfidf_tensor,y_train)), batch_size=10000, shuffle=True)\n",
    "test_loader = DataLoader(list(zip(yelp_test_tfidf_tensor,y_test)), batch_size=10000, shuffle=True)"
   ]
  },
  {
   "cell_type": "code",
   "execution_count": 62,
   "metadata": {},
   "outputs": [],
   "source": [
    "import torch.nn as nn\n",
    "class YELP_Review(nn.Module):\n",
    "    def __init__(self):\n",
    "        super().__init__()\n",
    "        \n",
    "        self.input_layer = nn.Linear(10000,1000)\n",
    "        self.hidden_layer1 = nn.Linear(1000,256)\n",
    "        self.output_layer = nn.Linear(256,2)\n",
    "      # self.output_layer=nn.Linear(10000,2)\n",
    "\n",
    "    def forward(self, x):   \n",
    "      out = {}\n",
    "      x=f.relu(self.input_layer(x))\n",
    "      out[\"output_after_input_layer\"]=x\n",
    "      x=f.relu(self.hidden_layer1(x))\n",
    "      out[\"output_after_hidden_layer1\"]=x\n",
    "      # x=f.relu(self.hidden_layer5(x))\n",
    "      # out[\"output_after_hidden_layer5\"]=x\n",
    "      x=self.output_layer(x)\n",
    "      out['output'] = x\n",
    "      return out\n",
    "\n",
    "    \n"
   ]
  },
  {
   "cell_type": "code",
   "execution_count": 63,
   "metadata": {},
   "outputs": [
    {
     "name": "stdout",
     "output_type": "stream",
     "text": [
      "YELP_Review(\n",
      "  (input_layer): Linear(in_features=10000, out_features=1000, bias=True)\n",
      "  (hidden_layer1): Linear(in_features=1000, out_features=256, bias=True)\n",
      "  (output_layer): Linear(in_features=256, out_features=2, bias=True)\n",
      ")\n"
     ]
    }
   ],
   "source": [
    "net = YELP_Review().to(device)\n",
    "print(net)\n",
    "optimizer = torch.optim.Adam(net.parameters(), lr=0.001)\n",
    "criterion = nn.CrossEntropyLoss()"
   ]
  },
  {
   "cell_type": "code",
   "execution_count": 64,
   "metadata": {},
   "outputs": [
    {
     "name": "stderr",
     "output_type": "stream",
     "text": [
      "100%|███████████████████████████████████████████| 56/56 [00:47<00:00,  1.18it/s]\n"
     ]
    },
    {
     "name": "stdout",
     "output_type": "stream",
     "text": [
      "Train loss after epoch 0 = 0.8717319071292877\n"
     ]
    },
    {
     "name": "stderr",
     "output_type": "stream",
     "text": [
      "100%|███████████████████████████████████████████| 56/56 [00:44<00:00,  1.26it/s]\n"
     ]
    },
    {
     "name": "stdout",
     "output_type": "stream",
     "text": [
      "Train loss after epoch 1 = 0.5916771250111716\n"
     ]
    },
    {
     "name": "stderr",
     "output_type": "stream",
     "text": [
      "100%|███████████████████████████████████████████| 56/56 [00:44<00:00,  1.27it/s]\n"
     ]
    },
    {
     "name": "stdout",
     "output_type": "stream",
     "text": [
      "Train loss after epoch 2 = 0.4074534246964114\n"
     ]
    },
    {
     "name": "stderr",
     "output_type": "stream",
     "text": [
      "100%|███████████████████████████████████████████| 56/56 [00:44<00:00,  1.25it/s]\n"
     ]
    },
    {
     "name": "stdout",
     "output_type": "stream",
     "text": [
      "Train loss after epoch 3 = 0.292131992323058\n"
     ]
    },
    {
     "name": "stderr",
     "output_type": "stream",
     "text": [
      "100%|███████████████████████████████████████████| 56/56 [00:45<00:00,  1.24it/s]\n"
     ]
    },
    {
     "name": "stdout",
     "output_type": "stream",
     "text": [
      "Train loss after epoch 4 = 0.2873730643519333\n"
     ]
    },
    {
     "name": "stderr",
     "output_type": "stream",
     "text": [
      "100%|███████████████████████████████████████████| 56/56 [00:44<00:00,  1.25it/s]\n"
     ]
    },
    {
     "name": "stdout",
     "output_type": "stream",
     "text": [
      "Train loss after epoch 5 = 0.27178365444498404\n"
     ]
    },
    {
     "name": "stderr",
     "output_type": "stream",
     "text": [
      "100%|███████████████████████████████████████████| 56/56 [00:44<00:00,  1.25it/s]\n"
     ]
    },
    {
     "name": "stdout",
     "output_type": "stream",
     "text": [
      "Train loss after epoch 6 = 0.19387939332851342\n"
     ]
    },
    {
     "name": "stderr",
     "output_type": "stream",
     "text": [
      "100%|███████████████████████████████████████████| 56/56 [00:45<00:00,  1.24it/s]\n"
     ]
    },
    {
     "name": "stdout",
     "output_type": "stream",
     "text": [
      "Train loss after epoch 7 = 0.18287955330950872\n"
     ]
    },
    {
     "name": "stderr",
     "output_type": "stream",
     "text": [
      "100%|███████████████████████████████████████████| 56/56 [00:48<00:00,  1.16it/s]\n"
     ]
    },
    {
     "name": "stdout",
     "output_type": "stream",
     "text": [
      "Train loss after epoch 8 = 0.22772459180227347\n"
     ]
    },
    {
     "name": "stderr",
     "output_type": "stream",
     "text": [
      "100%|███████████████████████████████████████████| 56/56 [00:47<00:00,  1.18it/s]\n"
     ]
    },
    {
     "name": "stdout",
     "output_type": "stream",
     "text": [
      "Train loss after epoch 9 = 0.19176627695560455\n"
     ]
    },
    {
     "name": "stderr",
     "output_type": "stream",
     "text": [
      "100%|███████████████████████████████████████████| 56/56 [00:48<00:00,  1.15it/s]\n"
     ]
    },
    {
     "name": "stdout",
     "output_type": "stream",
     "text": [
      "Train loss after epoch 10 = 0.19850411425743783\n"
     ]
    },
    {
     "name": "stderr",
     "output_type": "stream",
     "text": [
      "100%|███████████████████████████████████████████| 56/56 [00:48<00:00,  1.17it/s]\n"
     ]
    },
    {
     "name": "stdout",
     "output_type": "stream",
     "text": [
      "Train loss after epoch 11 = 0.16426065058580466\n"
     ]
    },
    {
     "name": "stderr",
     "output_type": "stream",
     "text": [
      "100%|███████████████████████████████████████████| 56/56 [00:49<00:00,  1.14it/s]\n"
     ]
    },
    {
     "name": "stdout",
     "output_type": "stream",
     "text": [
      "Train loss after epoch 12 = 0.2944339524422373\n"
     ]
    },
    {
     "name": "stderr",
     "output_type": "stream",
     "text": [
      "100%|███████████████████████████████████████████| 56/56 [00:48<00:00,  1.16it/s]\n"
     ]
    },
    {
     "name": "stdout",
     "output_type": "stream",
     "text": [
      "Train loss after epoch 13 = 0.22731250072164194\n"
     ]
    },
    {
     "name": "stderr",
     "output_type": "stream",
     "text": [
      "100%|███████████████████████████████████████████| 56/56 [00:48<00:00,  1.14it/s]\n"
     ]
    },
    {
     "name": "stdout",
     "output_type": "stream",
     "text": [
      "Train loss after epoch 14 = 0.16017537697085313\n"
     ]
    },
    {
     "name": "stderr",
     "output_type": "stream",
     "text": [
      "100%|███████████████████████████████████████████| 56/56 [00:49<00:00,  1.13it/s]\n"
     ]
    },
    {
     "name": "stdout",
     "output_type": "stream",
     "text": [
      "Train loss after epoch 15 = 0.1560669277927705\n"
     ]
    },
    {
     "name": "stderr",
     "output_type": "stream",
     "text": [
      "100%|███████████████████████████████████████████| 56/56 [00:49<00:00,  1.13it/s]\n"
     ]
    },
    {
     "name": "stdout",
     "output_type": "stream",
     "text": [
      "Train loss after epoch 16 = 0.15251957412276948\n"
     ]
    },
    {
     "name": "stderr",
     "output_type": "stream",
     "text": [
      "100%|███████████████████████████████████████████| 56/56 [00:48<00:00,  1.15it/s]\n"
     ]
    },
    {
     "name": "stdout",
     "output_type": "stream",
     "text": [
      "Train loss after epoch 17 = 0.15043221520526068\n"
     ]
    },
    {
     "name": "stderr",
     "output_type": "stream",
     "text": [
      "100%|███████████████████████████████████████████| 56/56 [01:39<00:00,  1.79s/it]\n"
     ]
    },
    {
     "name": "stdout",
     "output_type": "stream",
     "text": [
      "Train loss after epoch 18 = 0.26718150371951715\n"
     ]
    },
    {
     "name": "stderr",
     "output_type": "stream",
     "text": [
      "100%|███████████████████████████████████████████| 56/56 [02:01<00:00,  2.17s/it]\n"
     ]
    },
    {
     "name": "stdout",
     "output_type": "stream",
     "text": [
      "Train loss after epoch 19 = 0.15765559912792274\n"
     ]
    },
    {
     "name": "stderr",
     "output_type": "stream",
     "text": [
      "100%|███████████████████████████████████████████| 56/56 [02:04<00:00,  2.22s/it]\n"
     ]
    },
    {
     "name": "stdout",
     "output_type": "stream",
     "text": [
      "Train loss after epoch 20 = 0.14981613654111112\n"
     ]
    },
    {
     "name": "stderr",
     "output_type": "stream",
     "text": [
      "100%|███████████████████████████████████████████| 56/56 [01:54<00:00,  2.05s/it]\n"
     ]
    },
    {
     "name": "stdout",
     "output_type": "stream",
     "text": [
      "Train loss after epoch 21 = 0.14853504965347902\n"
     ]
    },
    {
     "name": "stderr",
     "output_type": "stream",
     "text": [
      "100%|███████████████████████████████████████████| 56/56 [01:53<00:00,  2.03s/it]\n"
     ]
    },
    {
     "name": "stdout",
     "output_type": "stream",
     "text": [
      "Train loss after epoch 22 = 0.14579833538404532\n"
     ]
    },
    {
     "name": "stderr",
     "output_type": "stream",
     "text": [
      "100%|███████████████████████████████████████████| 56/56 [01:51<00:00,  1.99s/it]\n"
     ]
    },
    {
     "name": "stdout",
     "output_type": "stream",
     "text": [
      "Train loss after epoch 23 = 0.145531226215618\n"
     ]
    },
    {
     "name": "stderr",
     "output_type": "stream",
     "text": [
      "100%|███████████████████████████████████████████| 56/56 [01:50<00:00,  1.97s/it]\n"
     ]
    },
    {
     "name": "stdout",
     "output_type": "stream",
     "text": [
      "Train loss after epoch 24 = 0.14601296851677553\n"
     ]
    },
    {
     "name": "stderr",
     "output_type": "stream",
     "text": [
      "100%|███████████████████████████████████████████| 56/56 [01:52<00:00,  2.00s/it]\n"
     ]
    },
    {
     "name": "stdout",
     "output_type": "stream",
     "text": [
      "Train loss after epoch 25 = 0.14533927664160728\n"
     ]
    },
    {
     "name": "stderr",
     "output_type": "stream",
     "text": [
      "100%|███████████████████████████████████████████| 56/56 [01:52<00:00,  2.01s/it]\n"
     ]
    },
    {
     "name": "stdout",
     "output_type": "stream",
     "text": [
      "Train loss after epoch 26 = 0.4941167799489839\n"
     ]
    },
    {
     "name": "stderr",
     "output_type": "stream",
     "text": [
      "100%|███████████████████████████████████████████| 56/56 [01:50<00:00,  1.97s/it]\n"
     ]
    },
    {
     "name": "stdout",
     "output_type": "stream",
     "text": [
      "Train loss after epoch 27 = 0.1989708673208952\n"
     ]
    },
    {
     "name": "stderr",
     "output_type": "stream",
     "text": [
      "100%|███████████████████████████████████████████| 56/56 [01:54<00:00,  2.05s/it]\n"
     ]
    },
    {
     "name": "stdout",
     "output_type": "stream",
     "text": [
      "Train loss after epoch 28 = 0.1551496314683131\n"
     ]
    },
    {
     "name": "stderr",
     "output_type": "stream",
     "text": [
      "100%|███████████████████████████████████████████| 56/56 [01:52<00:00,  2.00s/it]"
     ]
    },
    {
     "name": "stdout",
     "output_type": "stream",
     "text": [
      "Train loss after epoch 29 = 0.14922007811920984\n"
     ]
    },
    {
     "name": "stderr",
     "output_type": "stream",
     "text": [
      "\n"
     ]
    }
   ],
   "source": [
    "train_loss_list = []\n",
    "epochs = 30\n",
    "for epoch in range(epochs):\n",
    "    train_loss = 0\n",
    "    for data in tqdm.tqdm(train_loader):\n",
    "        features,labels = data[0].to(device).to(torch.float32),data[1].to(device)\n",
    "        out = net(features)\n",
    "        loss = criterion(out['output'],labels)\n",
    "        optimizer.zero_grad()\n",
    "        loss.backward()\n",
    "        optimizer.step()\n",
    "        train_loss+=loss.item()\n",
    "    print(f\"Train loss after epoch {epoch} = {train_loss/len(train_loader)}\")\n",
    "    train_loss_list.append(train_loss/len(train_loader))\n",
    "\n",
    "    \n",
    "    \n",
    "    \n",
    "    \n",
    "    "
   ]
  },
  {
   "cell_type": "code",
   "execution_count": 65,
   "metadata": {},
   "outputs": [
    {
     "data": {
      "text/plain": [
       "<matplotlib.legend.Legend at 0x7f8f98b10a60>"
      ]
     },
     "execution_count": 65,
     "metadata": {},
     "output_type": "execute_result"
    },
    {
     "data": {
      "image/png": "[encoded data removed]",
      "text/plain": [
       "<Figure size 800x800 with 1 Axes>"
      ]
     },
     "metadata": {},
     "output_type": "display_data"
    }
   ],
   "source": [
    "from scipy.ndimage import label\n",
    "#plotting graphs\n",
    "plt.rcParams['figure.figsize'] = [8,8]\n",
    "plt.plot(train_loss_list,label=\"Train loss\")\n",
    "plt.legend()"
   ]
  },
  {
   "cell_type": "code",
   "execution_count": 66,
   "metadata": {},
   "outputs": [
    {
     "name": "stderr",
     "output_type": "stream",
     "text": [
      " 25%|███████████▎                                 | 1/4 [00:01<00:05,  1.73s/it]"
     ]
    },
    {
     "name": "stdout",
     "output_type": "stream",
     "text": [
      "Test accuracy at epoch 0 is = 0.9331\n"
     ]
    },
    {
     "name": "stderr",
     "output_type": "stream",
     "text": [
      " 50%|██████████████████████▌                      | 2/4 [00:03<00:03,  1.75s/it]"
     ]
    },
    {
     "name": "stdout",
     "output_type": "stream",
     "text": [
      "Test accuracy at epoch 0 is = 0.9337\n"
     ]
    },
    {
     "name": "stderr",
     "output_type": "stream",
     "text": [
      " 75%|█████████████████████████████████▊           | 3/4 [00:05<00:01,  1.77s/it]"
     ]
    },
    {
     "name": "stdout",
     "output_type": "stream",
     "text": [
      "Test accuracy at epoch 0 is = 0.9325\n"
     ]
    },
    {
     "name": "stderr",
     "output_type": "stream",
     "text": [
      "100%|█████████████████████████████████████████████| 4/4 [00:06<00:00,  1.71s/it]\n"
     ]
    },
    {
     "name": "stdout",
     "output_type": "stream",
     "text": [
      "Test accuracy at epoch 0 is = 0.9322631578947368\n",
      "Test loss after epoch 0 = 0.17735249176621437\n"
     ]
    },
    {
     "name": "stderr",
     "output_type": "stream",
     "text": [
      " 25%|███████████▎                                 | 1/4 [00:01<00:03,  1.18s/it]"
     ]
    },
    {
     "name": "stdout",
     "output_type": "stream",
     "text": [
      "Test accuracy at epoch 1 is = 0.9325625\n"
     ]
    },
    {
     "name": "stderr",
     "output_type": "stream",
     "text": [
      " 50%|██████████████████████▌                      | 2/4 [00:02<00:02,  1.26s/it]"
     ]
    },
    {
     "name": "stdout",
     "output_type": "stream",
     "text": [
      "Test accuracy at epoch 1 is = 0.9325517241379311\n"
     ]
    },
    {
     "name": "stderr",
     "output_type": "stream",
     "text": [
      " 75%|█████████████████████████████████▊           | 3/4 [00:03<00:01,  1.22s/it]"
     ]
    },
    {
     "name": "stdout",
     "output_type": "stream",
     "text": [
      "Test accuracy at epoch 1 is = 0.9325\n"
     ]
    },
    {
     "name": "stderr",
     "output_type": "stream",
     "text": [
      "100%|█████████████████████████████████████████████| 4/4 [00:04<00:00,  1.18s/it]\n"
     ]
    },
    {
     "name": "stdout",
     "output_type": "stream",
     "text": [
      "Test accuracy at epoch 1 is = 0.9322631578947368\n",
      "Test loss after epoch 1 = 0.3554249070584774\n"
     ]
    },
    {
     "name": "stderr",
     "output_type": "stream",
     "text": [
      " 25%|███████████▎                                 | 1/4 [00:01<00:03,  1.25s/it]"
     ]
    },
    {
     "name": "stdout",
     "output_type": "stream",
     "text": [
      "Test accuracy at epoch 2 is = 0.9320813953488372\n"
     ]
    },
    {
     "name": "stderr",
     "output_type": "stream",
     "text": [
      " 50%|██████████████████████▌                      | 2/4 [00:02<00:02,  1.21s/it]"
     ]
    },
    {
     "name": "stdout",
     "output_type": "stream",
     "text": [
      "Test accuracy at epoch 2 is = 0.9320833333333334\n"
     ]
    },
    {
     "name": "stderr",
     "output_type": "stream",
     "text": [
      " 75%|█████████████████████████████████▊           | 3/4 [00:03<00:01,  1.20s/it]"
     ]
    },
    {
     "name": "stdout",
     "output_type": "stream",
     "text": [
      "Test accuracy at epoch 2 is = 0.9320754716981132\n"
     ]
    },
    {
     "name": "stderr",
     "output_type": "stream",
     "text": [
      "100%|█████████████████████████████████████████████| 4/4 [00:04<00:00,  1.19s/it]\n"
     ]
    },
    {
     "name": "stdout",
     "output_type": "stream",
     "text": [
      "Test accuracy at epoch 2 is = 0.9322631578947368\n",
      "Test loss after epoch 2 = 0.5327249355614185\n"
     ]
    },
    {
     "name": "stderr",
     "output_type": "stream",
     "text": [
      " 25%|███████████▎                                 | 1/4 [00:01<00:03,  1.31s/it]"
     ]
    },
    {
     "name": "stdout",
     "output_type": "stream",
     "text": [
      "Test accuracy at epoch 3 is = 0.9322096774193548\n"
     ]
    },
    {
     "name": "stderr",
     "output_type": "stream",
     "text": [
      " 50%|██████████████████████▌                      | 2/4 [00:02<00:02,  1.22s/it]"
     ]
    },
    {
     "name": "stdout",
     "output_type": "stream",
     "text": [
      "Test accuracy at epoch 3 is = 0.9322910447761193\n"
     ]
    },
    {
     "name": "stderr",
     "output_type": "stream",
     "text": [
      " 75%|█████████████████████████████████▊           | 3/4 [00:03<00:01,  1.24s/it]"
     ]
    },
    {
     "name": "stdout",
     "output_type": "stream",
     "text": [
      "Test accuracy at epoch 3 is = 0.9322777777777778\n"
     ]
    },
    {
     "name": "stderr",
     "output_type": "stream",
     "text": [
      "100%|█████████████████████████████████████████████| 4/4 [00:04<00:00,  1.21s/it]\n"
     ]
    },
    {
     "name": "stdout",
     "output_type": "stream",
     "text": [
      "Test accuracy at epoch 3 is = 0.9322631578947368\n",
      "Test loss after epoch 3 = 0.7104205042123795\n"
     ]
    },
    {
     "name": "stderr",
     "output_type": "stream",
     "text": [
      " 25%|███████████▎                                 | 1/4 [00:01<00:03,  1.21s/it]"
     ]
    },
    {
     "name": "stdout",
     "output_type": "stream",
     "text": [
      "Test accuracy at epoch 4 is = 0.9321604938271605\n"
     ]
    },
    {
     "name": "stderr",
     "output_type": "stream",
     "text": [
      " 50%|██████████████████████▌                      | 2/4 [00:02<00:02,  1.26s/it]"
     ]
    },
    {
     "name": "stdout",
     "output_type": "stream",
     "text": [
      "Test accuracy at epoch 4 is = 0.932203488372093\n"
     ]
    },
    {
     "name": "stderr",
     "output_type": "stream",
     "text": [
      " 75%|█████████████████████████████████▊           | 3/4 [00:04<00:01,  1.47s/it]"
     ]
    },
    {
     "name": "stdout",
     "output_type": "stream",
     "text": [
      "Test accuracy at epoch 4 is = 0.9322417582417583\n"
     ]
    },
    {
     "name": "stderr",
     "output_type": "stream",
     "text": [
      "100%|█████████████████████████████████████████████| 4/4 [00:05<00:00,  1.34s/it]\n"
     ]
    },
    {
     "name": "stdout",
     "output_type": "stream",
     "text": [
      "Test accuracy at epoch 4 is = 0.9322631578947368\n",
      "Test loss after epoch 4 = 0.8880115337669849\n"
     ]
    },
    {
     "name": "stderr",
     "output_type": "stream",
     "text": [
      " 25%|███████████▎                                 | 1/4 [00:01<00:03,  1.23s/it]"
     ]
    },
    {
     "name": "stdout",
     "output_type": "stream",
     "text": [
      "Test accuracy at epoch 5 is = 0.932015\n"
     ]
    },
    {
     "name": "stderr",
     "output_type": "stream",
     "text": [
      " 50%|██████████████████████▌                      | 2/4 [00:02<00:02,  1.30s/it]"
     ]
    },
    {
     "name": "stdout",
     "output_type": "stream",
     "text": [
      "Test accuracy at epoch 5 is = 0.9321714285714285\n"
     ]
    },
    {
     "name": "stderr",
     "output_type": "stream",
     "text": [
      " 75%|█████████████████████████████████▊           | 3/4 [00:03<00:01,  1.29s/it]"
     ]
    },
    {
     "name": "stdout",
     "output_type": "stream",
     "text": [
      "Test accuracy at epoch 5 is = 0.9321909090909091\n"
     ]
    },
    {
     "name": "stderr",
     "output_type": "stream",
     "text": [
      "100%|█████████████████████████████████████████████| 4/4 [00:04<00:00,  1.24s/it]\n"
     ]
    },
    {
     "name": "stdout",
     "output_type": "stream",
     "text": [
      "Test accuracy at epoch 5 is = 0.9322631578947368\n",
      "Test loss after epoch 5 = 1.0658043175935745\n"
     ]
    },
    {
     "name": "stderr",
     "output_type": "stream",
     "text": [
      " 25%|███████████▎                                 | 1/4 [00:01<00:04,  1.40s/it]"
     ]
    },
    {
     "name": "stdout",
     "output_type": "stream",
     "text": [
      "Test accuracy at epoch 6 is = 0.9321386554621849\n"
     ]
    },
    {
     "name": "stderr",
     "output_type": "stream",
     "text": [
      " 50%|██████████████████████▌                      | 2/4 [00:02<00:02,  1.33s/it]"
     ]
    },
    {
     "name": "stdout",
     "output_type": "stream",
     "text": [
      "Test accuracy at epoch 6 is = 0.9320887096774193\n"
     ]
    },
    {
     "name": "stderr",
     "output_type": "stream",
     "text": [
      " 75%|█████████████████████████████████▊           | 3/4 [00:04<00:01,  1.33s/it]"
     ]
    },
    {
     "name": "stdout",
     "output_type": "stream",
     "text": [
      "Test accuracy at epoch 6 is = 0.9322674418604651\n"
     ]
    },
    {
     "name": "stderr",
     "output_type": "stream",
     "text": [
      "100%|█████████████████████████████████████████████| 4/4 [00:05<00:00,  1.31s/it]\n"
     ]
    },
    {
     "name": "stdout",
     "output_type": "stream",
     "text": [
      "Test accuracy at epoch 6 is = 0.9322631578947368\n",
      "Test loss after epoch 6 = 1.2434770166873932\n"
     ]
    },
    {
     "name": "stderr",
     "output_type": "stream",
     "text": [
      " 25%|███████████▎                                 | 1/4 [00:01<00:04,  1.51s/it]"
     ]
    },
    {
     "name": "stdout",
     "output_type": "stream",
     "text": [
      "Test accuracy at epoch 7 is = 0.9322028985507247\n"
     ]
    },
    {
     "name": "stderr",
     "output_type": "stream",
     "text": [
      " 50%|██████████████████████▌                      | 2/4 [00:03<00:03,  1.51s/it]"
     ]
    },
    {
     "name": "stdout",
     "output_type": "stream",
     "text": [
      "Test accuracy at epoch 7 is = 0.9322902097902098\n"
     ]
    },
    {
     "name": "stderr",
     "output_type": "stream",
     "text": [
      " 75%|█████████████████████████████████▊           | 3/4 [00:04<00:01,  1.47s/it]"
     ]
    },
    {
     "name": "stdout",
     "output_type": "stream",
     "text": [
      "Test accuracy at epoch 7 is = 0.9322635135135136\n"
     ]
    },
    {
     "name": "stderr",
     "output_type": "stream",
     "text": [
      "100%|█████████████████████████████████████████████| 4/4 [00:05<00:00,  1.44s/it]\n"
     ]
    },
    {
     "name": "stdout",
     "output_type": "stream",
     "text": [
      "Test accuracy at epoch 7 is = 0.9322631578947368\n",
      "Test loss after epoch 7 = 1.421049788594246\n"
     ]
    },
    {
     "name": "stderr",
     "output_type": "stream",
     "text": [
      " 25%|███████████▎                                 | 1/4 [00:01<00:04,  1.42s/it]"
     ]
    },
    {
     "name": "stdout",
     "output_type": "stream",
     "text": [
      "Test accuracy at epoch 8 is = 0.9322452229299363\n"
     ]
    },
    {
     "name": "stderr",
     "output_type": "stream",
     "text": [
      " 50%|██████████████████████▌                      | 2/4 [00:02<00:02,  1.37s/it]"
     ]
    },
    {
     "name": "stdout",
     "output_type": "stream",
     "text": [
      "Test accuracy at epoch 8 is = 0.9323425925925926\n"
     ]
    },
    {
     "name": "stderr",
     "output_type": "stream",
     "text": [
      " 75%|█████████████████████████████████▊           | 3/4 [00:04<00:01,  1.43s/it]"
     ]
    },
    {
     "name": "stdout",
     "output_type": "stream",
     "text": [
      "Test accuracy at epoch 8 is = 0.9323622754491018\n"
     ]
    },
    {
     "name": "stderr",
     "output_type": "stream",
     "text": [
      "100%|█████████████████████████████████████████████| 4/4 [00:05<00:00,  1.39s/it]\n"
     ]
    },
    {
     "name": "stdout",
     "output_type": "stream",
     "text": [
      "Test accuracy at epoch 8 is = 0.9322631578947368\n",
      "Test loss after epoch 8 = 1.598977155983448\n"
     ]
    },
    {
     "name": "stderr",
     "output_type": "stream",
     "text": [
      " 25%|███████████▎                                 | 1/4 [00:01<00:04,  1.43s/it]"
     ]
    },
    {
     "name": "stdout",
     "output_type": "stream",
     "text": [
      "Test accuracy at epoch 9 is = 0.9322414772727273\n"
     ]
    },
    {
     "name": "stderr",
     "output_type": "stream",
     "text": [
      " 50%|██████████████████████▌                      | 2/4 [00:02<00:02,  1.37s/it]"
     ]
    },
    {
     "name": "stdout",
     "output_type": "stream",
     "text": [
      "Test accuracy at epoch 9 is = 0.9322513812154696\n"
     ]
    },
    {
     "name": "stderr",
     "output_type": "stream",
     "text": [
      " 75%|█████████████████████████████████▊           | 3/4 [00:04<00:01,  1.36s/it]"
     ]
    },
    {
     "name": "stdout",
     "output_type": "stream",
     "text": [
      "Test accuracy at epoch 9 is = 0.932252688172043\n"
     ]
    },
    {
     "name": "stderr",
     "output_type": "stream",
     "text": [
      "100%|█████████████████████████████████████████████| 4/4 [00:05<00:00,  1.36s/it]\n"
     ]
    },
    {
     "name": "stdout",
     "output_type": "stream",
     "text": [
      "Test accuracy at epoch 9 is = 0.9322631578947368\n",
      "Test loss after epoch 9 = 1.7764397598803043\n"
     ]
    },
    {
     "name": "stderr",
     "output_type": "stream",
     "text": [
      " 25%|███████████▎                                 | 1/4 [00:01<00:04,  1.45s/it]"
     ]
    },
    {
     "name": "stdout",
     "output_type": "stream",
     "text": [
      "Test accuracy at epoch 10 is = 0.9322794871794872\n"
     ]
    },
    {
     "name": "stderr",
     "output_type": "stream",
     "text": [
      " 50%|██████████████████████▌                      | 2/4 [00:02<00:02,  1.44s/it]"
     ]
    },
    {
     "name": "stdout",
     "output_type": "stream",
     "text": [
      "Test accuracy at epoch 10 is = 0.932235\n"
     ]
    },
    {
     "name": "stderr",
     "output_type": "stream",
     "text": [
      " 75%|█████████████████████████████████▊           | 3/4 [00:04<00:01,  1.46s/it]"
     ]
    },
    {
     "name": "stdout",
     "output_type": "stream",
     "text": [
      "Test accuracy at epoch 10 is = 0.9322463414634147\n"
     ]
    },
    {
     "name": "stderr",
     "output_type": "stream",
     "text": [
      "100%|█████████████████████████████████████████████| 4/4 [00:05<00:00,  1.45s/it]\n"
     ]
    },
    {
     "name": "stdout",
     "output_type": "stream",
     "text": [
      "Test accuracy at epoch 10 is = 0.9322631578947368\n",
      "Test loss after epoch 10 = 1.954166952520609\n"
     ]
    },
    {
     "name": "stderr",
     "output_type": "stream",
     "text": [
      " 25%|███████████▎                                 | 1/4 [00:01<00:04,  1.51s/it]"
     ]
    },
    {
     "name": "stdout",
     "output_type": "stream",
     "text": [
      "Test accuracy at epoch 11 is = 0.9322079439252337\n"
     ]
    },
    {
     "name": "stderr",
     "output_type": "stream",
     "text": [
      " 50%|██████████████████████▌                      | 2/4 [00:02<00:02,  1.47s/it]"
     ]
    },
    {
     "name": "stdout",
     "output_type": "stream",
     "text": [
      "Test accuracy at epoch 11 is = 0.9323013698630137\n"
     ]
    },
    {
     "name": "stderr",
     "output_type": "stream",
     "text": [
      " 75%|█████████████████████████████████▊           | 3/4 [00:04<00:01,  1.48s/it]"
     ]
    },
    {
     "name": "stdout",
     "output_type": "stream",
     "text": [
      "Test accuracy at epoch 11 is = 0.932265625\n"
     ]
    },
    {
     "name": "stderr",
     "output_type": "stream",
     "text": [
      "100%|█████████████████████████████████████████████| 4/4 [00:05<00:00,  1.46s/it]\n"
     ]
    },
    {
     "name": "stdout",
     "output_type": "stream",
     "text": [
      "Test accuracy at epoch 11 is = 0.9322631578947368\n",
      "Test loss after epoch 11 = 2.1316191405057907\n"
     ]
    },
    {
     "name": "stderr",
     "output_type": "stream",
     "text": [
      " 25%|███████████▎                                 | 1/4 [00:01<00:04,  1.60s/it]"
     ]
    },
    {
     "name": "stdout",
     "output_type": "stream",
     "text": [
      "Test accuracy at epoch 12 is = 0.9322317596566524\n"
     ]
    },
    {
     "name": "stderr",
     "output_type": "stream",
     "text": [
      " 50%|██████████████████████▌                      | 2/4 [00:03<00:03,  1.56s/it]"
     ]
    },
    {
     "name": "stdout",
     "output_type": "stream",
     "text": [
      "Test accuracy at epoch 12 is = 0.932281512605042\n"
     ]
    },
    {
     "name": "stderr",
     "output_type": "stream",
     "text": [
      " 75%|█████████████████████████████████▊           | 3/4 [00:04<00:01,  1.52s/it]"
     ]
    },
    {
     "name": "stdout",
     "output_type": "stream",
     "text": [
      "Test accuracy at epoch 12 is = 0.9323189300411523\n"
     ]
    },
    {
     "name": "stderr",
     "output_type": "stream",
     "text": [
      "100%|█████████████████████████████████████████████| 4/4 [00:06<00:00,  1.51s/it]\n"
     ]
    },
    {
     "name": "stdout",
     "output_type": "stream",
     "text": [
      "Test accuracy at epoch 12 is = 0.9322631578947368\n",
      "Test loss after epoch 12 = 2.30974929779768\n"
     ]
    },
    {
     "name": "stderr",
     "output_type": "stream",
     "text": [
      " 25%|███████████▎                                 | 1/4 [00:01<00:04,  1.55s/it]"
     ]
    },
    {
     "name": "stdout",
     "output_type": "stream",
     "text": [
      "Test accuracy at epoch 13 is = 0.9322738095238096\n"
     ]
    },
    {
     "name": "stderr",
     "output_type": "stream",
     "text": [
      " 50%|██████████████████████▌                      | 2/4 [00:03<00:03,  1.57s/it]"
     ]
    },
    {
     "name": "stdout",
     "output_type": "stream",
     "text": [
      "Test accuracy at epoch 13 is = 0.9322101167315175\n"
     ]
    },
    {
     "name": "stderr",
     "output_type": "stream",
     "text": [
      " 75%|█████████████████████████████████▊           | 3/4 [00:04<00:01,  1.57s/it]"
     ]
    },
    {
     "name": "stdout",
     "output_type": "stream",
     "text": [
      "Test accuracy at epoch 13 is = 0.9322041984732824\n"
     ]
    },
    {
     "name": "stderr",
     "output_type": "stream",
     "text": [
      "100%|█████████████████████████████████████████████| 4/4 [00:06<00:00,  1.52s/it]\n"
     ]
    },
    {
     "name": "stdout",
     "output_type": "stream",
     "text": [
      "Test accuracy at epoch 13 is = 0.9322631578947368\n",
      "Test loss after epoch 13 = 2.4871474243700504\n"
     ]
    },
    {
     "name": "stderr",
     "output_type": "stream",
     "text": [
      " 25%|███████████▎                                 | 1/4 [00:01<00:04,  1.58s/it]"
     ]
    },
    {
     "name": "stdout",
     "output_type": "stream",
     "text": [
      "Test accuracy at epoch 14 is = 0.9323136531365314\n"
     ]
    },
    {
     "name": "stderr",
     "output_type": "stream",
     "text": [
      " 50%|██████████████████████▌                      | 2/4 [00:03<00:03,  1.62s/it]"
     ]
    },
    {
     "name": "stdout",
     "output_type": "stream",
     "text": [
      "Test accuracy at epoch 14 is = 0.9322572463768116\n"
     ]
    },
    {
     "name": "stderr",
     "output_type": "stream",
     "text": [
      " 75%|█████████████████████████████████▊           | 3/4 [00:04<00:01,  1.66s/it]"
     ]
    },
    {
     "name": "stdout",
     "output_type": "stream",
     "text": [
      "Test accuracy at epoch 14 is = 0.9323256227758007\n"
     ]
    },
    {
     "name": "stderr",
     "output_type": "stream",
     "text": [
      "100%|█████████████████████████████████████████████| 4/4 [00:06<00:00,  1.62s/it]\n"
     ]
    },
    {
     "name": "stdout",
     "output_type": "stream",
     "text": [
      "Test accuracy at epoch 14 is = 0.9322631578947368\n",
      "Test loss after epoch 14 = 2.66545969247818\n"
     ]
    },
    {
     "name": "stderr",
     "output_type": "stream",
     "text": [
      " 25%|███████████▎                                 | 1/4 [00:01<00:05,  1.71s/it]"
     ]
    },
    {
     "name": "stdout",
     "output_type": "stream",
     "text": [
      "Test accuracy at epoch 15 is = 0.9323\n"
     ]
    },
    {
     "name": "stderr",
     "output_type": "stream",
     "text": [
      " 50%|██████████████████████▌                      | 2/4 [00:03<00:03,  1.72s/it]"
     ]
    },
    {
     "name": "stdout",
     "output_type": "stream",
     "text": [
      "Test accuracy at epoch 15 is = 0.932322033898305\n"
     ]
    },
    {
     "name": "stderr",
     "output_type": "stream",
     "text": [
      " 75%|█████████████████████████████████▊           | 3/4 [00:05<00:01,  1.75s/it]"
     ]
    },
    {
     "name": "stdout",
     "output_type": "stream",
     "text": [
      "Test accuracy at epoch 15 is = 0.932325\n"
     ]
    },
    {
     "name": "stderr",
     "output_type": "stream",
     "text": [
      "100%|█████████████████████████████████████████████| 4/4 [00:06<00:00,  1.68s/it]\n"
     ]
    },
    {
     "name": "stdout",
     "output_type": "stream",
     "text": [
      "Test accuracy at epoch 15 is = 0.9322631578947368\n",
      "Test loss after epoch 15 = 2.8435465209186077\n"
     ]
    },
    {
     "name": "stderr",
     "output_type": "stream",
     "text": [
      " 25%|███████████▎                                 | 1/4 [00:01<00:05,  1.71s/it]"
     ]
    },
    {
     "name": "stdout",
     "output_type": "stream",
     "text": [
      "Test accuracy at epoch 16 is = 0.9322734627831715\n"
     ]
    },
    {
     "name": "stderr",
     "output_type": "stream",
     "text": [
      " 50%|██████████████████████▌                      | 2/4 [00:03<00:03,  1.67s/it]"
     ]
    },
    {
     "name": "stdout",
     "output_type": "stream",
     "text": [
      "Test accuracy at epoch 16 is = 0.9322929936305733\n"
     ]
    },
    {
     "name": "stderr",
     "output_type": "stream",
     "text": [
      " 75%|█████████████████████████████████▊           | 3/4 [00:05<00:01,  1.67s/it]"
     ]
    },
    {
     "name": "stdout",
     "output_type": "stream",
     "text": [
      "Test accuracy at epoch 16 is = 0.9322978056426332\n"
     ]
    },
    {
     "name": "stderr",
     "output_type": "stream",
     "text": [
      "100%|█████████████████████████████████████████████| 4/4 [00:06<00:00,  1.65s/it]\n"
     ]
    },
    {
     "name": "stdout",
     "output_type": "stream",
     "text": [
      "Test accuracy at epoch 16 is = 0.9322631578947368\n",
      "Test loss after epoch 16 = 3.021417308598757\n"
     ]
    },
    {
     "name": "stderr",
     "output_type": "stream",
     "text": [
      " 25%|███████████▎                                 | 1/4 [00:01<00:04,  1.62s/it]"
     ]
    },
    {
     "name": "stdout",
     "output_type": "stream",
     "text": [
      "Test accuracy at epoch 17 is = 0.9322560975609756\n"
     ]
    },
    {
     "name": "stderr",
     "output_type": "stream",
     "text": [
      " 50%|██████████████████████▌                      | 2/4 [00:03<00:03,  1.66s/it]"
     ]
    },
    {
     "name": "stdout",
     "output_type": "stream",
     "text": [
      "Test accuracy at epoch 17 is = 0.9322612612612613\n"
     ]
    },
    {
     "name": "stderr",
     "output_type": "stream",
     "text": [
      " 75%|█████████████████████████████████▊           | 3/4 [00:05<00:01,  1.71s/it]"
     ]
    },
    {
     "name": "stdout",
     "output_type": "stream",
     "text": [
      "Test accuracy at epoch 17 is = 0.932241124260355\n"
     ]
    },
    {
     "name": "stderr",
     "output_type": "stream",
     "text": [
      "100%|█████████████████████████████████████████████| 4/4 [00:06<00:00,  1.68s/it]\n"
     ]
    },
    {
     "name": "stdout",
     "output_type": "stream",
     "text": [
      "Test accuracy at epoch 17 is = 0.9322631578947368\n",
      "Test loss after epoch 17 = 3.198977831751108\n"
     ]
    },
    {
     "name": "stderr",
     "output_type": "stream",
     "text": [
      " 25%|███████████▎                                 | 1/4 [00:01<00:04,  1.60s/it]"
     ]
    },
    {
     "name": "stdout",
     "output_type": "stream",
     "text": [
      "Test accuracy at epoch 18 is = 0.932256484149856\n"
     ]
    },
    {
     "name": "stderr",
     "output_type": "stream",
     "text": [
      " 50%|██████████████████████▌                      | 2/4 [00:03<00:03,  1.66s/it]"
     ]
    },
    {
     "name": "stdout",
     "output_type": "stream",
     "text": [
      "Test accuracy at epoch 18 is = 0.9322627840909091\n"
     ]
    },
    {
     "name": "stderr",
     "output_type": "stream",
     "text": [
      " 75%|█████████████████████████████████▊           | 3/4 [00:05<00:01,  1.70s/it]"
     ]
    },
    {
     "name": "stdout",
     "output_type": "stream",
     "text": [
      "Test accuracy at epoch 18 is = 0.9322633053221289\n"
     ]
    },
    {
     "name": "stderr",
     "output_type": "stream",
     "text": [
      "100%|█████████████████████████████████████████████| 4/4 [00:06<00:00,  1.69s/it]\n"
     ]
    },
    {
     "name": "stdout",
     "output_type": "stream",
     "text": [
      "Test accuracy at epoch 18 is = 0.9322631578947368\n",
      "Test loss after epoch 18 = 3.376774452626705\n"
     ]
    },
    {
     "name": "stderr",
     "output_type": "stream",
     "text": [
      " 25%|███████████▎                                 | 1/4 [00:01<00:05,  1.80s/it]"
     ]
    },
    {
     "name": "stdout",
     "output_type": "stream",
     "text": [
      "Test accuracy at epoch 19 is = 0.9322144808743169\n"
     ]
    },
    {
     "name": "stderr",
     "output_type": "stream",
     "text": [
      " 50%|██████████████████████▌                      | 2/4 [00:03<00:03,  1.85s/it]"
     ]
    },
    {
     "name": "stdout",
     "output_type": "stream",
     "text": [
      "Test accuracy at epoch 19 is = 0.9322061994609164\n"
     ]
    },
    {
     "name": "stderr",
     "output_type": "stream",
     "text": [
      " 75%|█████████████████████████████████▊           | 3/4 [00:05<00:01,  1.89s/it]"
     ]
    },
    {
     "name": "stdout",
     "output_type": "stream",
     "text": [
      "Test accuracy at epoch 19 is = 0.9322632978723404\n"
     ]
    },
    {
     "name": "stderr",
     "output_type": "stream",
     "text": [
      "100%|█████████████████████████████████████████████| 4/4 [00:07<00:00,  1.84s/it]\n"
     ]
    },
    {
     "name": "stdout",
     "output_type": "stream",
     "text": [
      "Test accuracy at epoch 19 is = 0.9322631578947368\n",
      "Test loss after epoch 19 = 3.5545181669294834\n"
     ]
    },
    {
     "name": "stderr",
     "output_type": "stream",
     "text": [
      " 25%|███████████▎                                 | 1/4 [00:01<00:05,  1.87s/it]"
     ]
    },
    {
     "name": "stdout",
     "output_type": "stream",
     "text": [
      "Test accuracy at epoch 20 is = 0.9322831168831169\n"
     ]
    },
    {
     "name": "stderr",
     "output_type": "stream",
     "text": [
      " 50%|██████████████████████▌                      | 2/4 [00:03<00:03,  1.81s/it]"
     ]
    },
    {
     "name": "stdout",
     "output_type": "stream",
     "text": [
      "Test accuracy at epoch 20 is = 0.9322961538461538\n"
     ]
    },
    {
     "name": "stderr",
     "output_type": "stream",
     "text": [
      " 75%|█████████████████████████████████▊           | 3/4 [00:05<00:01,  1.86s/it]"
     ]
    },
    {
     "name": "stdout",
     "output_type": "stream",
     "text": [
      "Test accuracy at epoch 20 is = 0.9322683544303797\n"
     ]
    },
    {
     "name": "stderr",
     "output_type": "stream",
     "text": [
      "100%|█████████████████████████████████████████████| 4/4 [00:07<00:00,  1.81s/it]\n"
     ]
    },
    {
     "name": "stdout",
     "output_type": "stream",
     "text": [
      "Test accuracy at epoch 20 is = 0.9322631578947368\n",
      "Test loss after epoch 20 = 3.7317770794034004\n"
     ]
    },
    {
     "name": "stderr",
     "output_type": "stream",
     "text": [
      " 25%|███████████▎                                 | 1/4 [00:01<00:05,  1.78s/it]"
     ]
    },
    {
     "name": "stdout",
     "output_type": "stream",
     "text": [
      "Test accuracy at epoch 21 is = 0.9322834158415841\n"
     ]
    },
    {
     "name": "stderr",
     "output_type": "stream",
     "text": [
      " 50%|██████████████████████▌                      | 2/4 [00:03<00:03,  1.81s/it]"
     ]
    },
    {
     "name": "stdout",
     "output_type": "stream",
     "text": [
      "Test accuracy at epoch 21 is = 0.9322286063569682\n"
     ]
    },
    {
     "name": "stderr",
     "output_type": "stream",
     "text": [
      " 75%|█████████████████████████████████▊           | 3/4 [00:05<00:01,  1.83s/it]"
     ]
    },
    {
     "name": "stdout",
     "output_type": "stream",
     "text": [
      "Test accuracy at epoch 21 is = 0.9322536231884058\n"
     ]
    },
    {
     "name": "stderr",
     "output_type": "stream",
     "text": [
      "100%|█████████████████████████████████████████████| 4/4 [00:07<00:00,  1.80s/it]\n"
     ]
    },
    {
     "name": "stdout",
     "output_type": "stream",
     "text": [
      "Test accuracy at epoch 21 is = 0.9322631578947368\n",
      "Test loss after epoch 21 = 3.9093772768974304\n"
     ]
    },
    {
     "name": "stderr",
     "output_type": "stream",
     "text": [
      " 25%|███████████▎                                 | 1/4 [00:02<00:07,  2.48s/it]"
     ]
    },
    {
     "name": "stdout",
     "output_type": "stream",
     "text": [
      "Test accuracy at epoch 22 is = 0.9322541371158393\n"
     ]
    },
    {
     "name": "stderr",
     "output_type": "stream",
     "text": [
      " 50%|██████████████████████▌                      | 2/4 [00:04<00:04,  2.13s/it]"
     ]
    },
    {
     "name": "stdout",
     "output_type": "stream",
     "text": [
      "Test accuracy at epoch 22 is = 0.9322546728971962\n"
     ]
    },
    {
     "name": "stderr",
     "output_type": "stream",
     "text": [
      " 75%|█████████████████████████████████▊           | 3/4 [00:06<00:02,  2.01s/it]"
     ]
    },
    {
     "name": "stdout",
     "output_type": "stream",
     "text": [
      "Test accuracy at epoch 22 is = 0.9322482678983833\n"
     ]
    },
    {
     "name": "stderr",
     "output_type": "stream",
     "text": [
      "100%|█████████████████████████████████████████████| 4/4 [00:07<00:00,  2.00s/it]\n"
     ]
    },
    {
     "name": "stdout",
     "output_type": "stream",
     "text": [
      "Test accuracy at epoch 22 is = 0.9322631578947368\n",
      "Test loss after epoch 22 = 4.086717415601015\n"
     ]
    },
    {
     "name": "stderr",
     "output_type": "stream",
     "text": [
      " 25%|███████████▎                                 | 1/4 [00:01<00:05,  1.75s/it]"
     ]
    },
    {
     "name": "stdout",
     "output_type": "stream",
     "text": [
      "Test accuracy at epoch 23 is = 0.9322533936651584\n"
     ]
    },
    {
     "name": "stderr",
     "output_type": "stream",
     "text": [
      " 50%|██████████████████████▌                      | 2/4 [00:03<00:03,  1.83s/it]"
     ]
    },
    {
     "name": "stdout",
     "output_type": "stream",
     "text": [
      "Test accuracy at epoch 23 is = 0.9322326621923938\n"
     ]
    },
    {
     "name": "stderr",
     "output_type": "stream",
     "text": [
      " 75%|█████████████████████████████████▊           | 3/4 [00:05<00:01,  1.90s/it]"
     ]
    },
    {
     "name": "stdout",
     "output_type": "stream",
     "text": [
      "Test accuracy at epoch 23 is = 0.9322809734513274\n"
     ]
    },
    {
     "name": "stderr",
     "output_type": "stream",
     "text": [
      "100%|█████████████████████████████████████████████| 4/4 [00:07<00:00,  1.87s/it]\n"
     ]
    },
    {
     "name": "stdout",
     "output_type": "stream",
     "text": [
      "Test accuracy at epoch 23 is = 0.9322631578947368\n",
      "Test loss after epoch 23 = 4.264329828321934\n"
     ]
    },
    {
     "name": "stderr",
     "output_type": "stream",
     "text": [
      " 25%|███████████▎                                 | 1/4 [00:02<00:06,  2.03s/it]"
     ]
    },
    {
     "name": "stdout",
     "output_type": "stream",
     "text": [
      "Test accuracy at epoch 24 is = 0.9322462039045553\n"
     ]
    },
    {
     "name": "stderr",
     "output_type": "stream",
     "text": [
      " 50%|██████████████████████▌                      | 2/4 [00:04<00:04,  2.03s/it]"
     ]
    },
    {
     "name": "stdout",
     "output_type": "stream",
     "text": [
      "Test accuracy at epoch 24 is = 0.9322832618025751\n"
     ]
    },
    {
     "name": "stderr",
     "output_type": "stream",
     "text": [
      " 75%|█████████████████████████████████▊           | 3/4 [00:05<00:01,  1.97s/it]"
     ]
    },
    {
     "name": "stdout",
     "output_type": "stream",
     "text": [
      "Test accuracy at epoch 24 is = 0.9322834394904459\n"
     ]
    },
    {
     "name": "stderr",
     "output_type": "stream",
     "text": [
      "100%|█████████████████████████████████████████████| 4/4 [00:07<00:00,  1.97s/it]\n"
     ]
    },
    {
     "name": "stdout",
     "output_type": "stream",
     "text": [
      "Test accuracy at epoch 24 is = 0.9322631578947368\n",
      "Test loss after epoch 24 = 4.44198452681303\n"
     ]
    },
    {
     "name": "stderr",
     "output_type": "stream",
     "text": [
      " 25%|███████████▎                                 | 1/4 [00:02<00:06,  2.03s/it]"
     ]
    },
    {
     "name": "stdout",
     "output_type": "stream",
     "text": [
      "Test accuracy at epoch 25 is = 0.93225\n"
     ]
    },
    {
     "name": "stderr",
     "output_type": "stream",
     "text": [
      " 50%|██████████████████████▌                      | 2/4 [00:03<00:03,  1.94s/it]"
     ]
    },
    {
     "name": "stdout",
     "output_type": "stream",
     "text": [
      "Test accuracy at epoch 25 is = 0.9322731958762887\n"
     ]
    },
    {
     "name": "stderr",
     "output_type": "stream",
     "text": [
      " 75%|█████████████████████████████████▊           | 3/4 [00:05<00:01,  1.92s/it]"
     ]
    },
    {
     "name": "stdout",
     "output_type": "stream",
     "text": [
      "Test accuracy at epoch 25 is = 0.932284693877551\n"
     ]
    },
    {
     "name": "stderr",
     "output_type": "stream",
     "text": [
      "100%|█████████████████████████████████████████████| 4/4 [00:07<00:00,  1.91s/it]\n"
     ]
    },
    {
     "name": "stdout",
     "output_type": "stream",
     "text": [
      "Test accuracy at epoch 25 is = 0.9322631578947368\n",
      "Test loss after epoch 25 = 4.619792211800814\n"
     ]
    },
    {
     "name": "stderr",
     "output_type": "stream",
     "text": [
      " 25%|███████████▎                                 | 1/4 [00:01<00:05,  1.91s/it]"
     ]
    },
    {
     "name": "stdout",
     "output_type": "stream",
     "text": [
      "Test accuracy at epoch 26 is = 0.9322394789579158\n"
     ]
    },
    {
     "name": "stderr",
     "output_type": "stream",
     "text": [
      " 50%|██████████████████████▌                      | 2/4 [00:03<00:03,  1.94s/it]"
     ]
    },
    {
     "name": "stdout",
     "output_type": "stream",
     "text": [
      "Test accuracy at epoch 26 is = 0.932233134920635\n"
     ]
    },
    {
     "name": "stderr",
     "output_type": "stream",
     "text": [
      " 75%|█████████████████████████████████▊           | 3/4 [00:05<00:01,  1.99s/it]"
     ]
    },
    {
     "name": "stdout",
     "output_type": "stream",
     "text": [
      "Test accuracy at epoch 26 is = 0.9322671905697446\n"
     ]
    },
    {
     "name": "stderr",
     "output_type": "stream",
     "text": [
      "100%|█████████████████████████████████████████████| 4/4 [00:07<00:00,  1.96s/it]\n"
     ]
    },
    {
     "name": "stdout",
     "output_type": "stream",
     "text": [
      "Test accuracy at epoch 26 is = 0.9322631578947368\n",
      "Test loss after epoch 26 = 4.797356557101011\n"
     ]
    },
    {
     "name": "stderr",
     "output_type": "stream",
     "text": [
      " 25%|███████████▎                                 | 1/4 [00:01<00:05,  1.89s/it]"
     ]
    },
    {
     "name": "stdout",
     "output_type": "stream",
     "text": [
      "Test accuracy at epoch 27 is = 0.9322287644787645\n"
     ]
    },
    {
     "name": "stderr",
     "output_type": "stream",
     "text": [
      " 50%|██████████████████████▌                      | 2/4 [00:03<00:03,  1.96s/it]"
     ]
    },
    {
     "name": "stdout",
     "output_type": "stream",
     "text": [
      "Test accuracy at epoch 27 is = 0.9322428298279158\n"
     ]
    },
    {
     "name": "stderr",
     "output_type": "stream",
     "text": [
      " 75%|█████████████████████████████████▊           | 3/4 [00:05<00:01,  1.97s/it]"
     ]
    },
    {
     "name": "stdout",
     "output_type": "stream",
     "text": [
      "Test accuracy at epoch 27 is = 0.9322670454545454\n"
     ]
    },
    {
     "name": "stderr",
     "output_type": "stream",
     "text": [
      "100%|█████████████████████████████████████████████| 4/4 [00:07<00:00,  1.94s/it]\n"
     ]
    },
    {
     "name": "stdout",
     "output_type": "stream",
     "text": [
      "Test accuracy at epoch 27 is = 0.9322631578947368\n",
      "Test loss after epoch 27 = 4.9748807698488235\n"
     ]
    },
    {
     "name": "stderr",
     "output_type": "stream",
     "text": [
      " 25%|███████████▎                                 | 1/4 [00:01<00:05,  1.92s/it]"
     ]
    },
    {
     "name": "stdout",
     "output_type": "stream",
     "text": [
      "Test accuracy at epoch 28 is = 0.9322756052141526\n"
     ]
    },
    {
     "name": "stderr",
     "output_type": "stream",
     "text": [
      " 50%|██████████████████████▌                      | 2/4 [00:03<00:03,  1.98s/it]"
     ]
    },
    {
     "name": "stdout",
     "output_type": "stream",
     "text": [
      "Test accuracy at epoch 28 is = 0.9322813653136531\n"
     ]
    },
    {
     "name": "stderr",
     "output_type": "stream",
     "text": [
      " 75%|█████████████████████████████████▊           | 3/4 [00:06<00:02,  2.02s/it]"
     ]
    },
    {
     "name": "stdout",
     "output_type": "stream",
     "text": [
      "Test accuracy at epoch 28 is = 0.9322842778793419\n"
     ]
    },
    {
     "name": "stderr",
     "output_type": "stream",
     "text": [
      "100%|█████████████████████████████████████████████| 4/4 [00:07<00:00,  2.00s/it]\n"
     ]
    },
    {
     "name": "stdout",
     "output_type": "stream",
     "text": [
      "Test accuracy at epoch 28 is = 0.9322631578947368\n",
      "Test loss after epoch 28 = 5.1526296846568584\n"
     ]
    },
    {
     "name": "stderr",
     "output_type": "stream",
     "text": [
      " 25%|███████████▎                                 | 1/4 [00:02<00:06,  2.16s/it]"
     ]
    },
    {
     "name": "stdout",
     "output_type": "stream",
     "text": [
      "Test accuracy at epoch 29 is = 0.9322553956834533\n"
     ]
    },
    {
     "name": "stderr",
     "output_type": "stream",
     "text": [
      " 50%|██████████████████████▌                      | 2/4 [00:04<00:04,  2.12s/it]"
     ]
    },
    {
     "name": "stdout",
     "output_type": "stream",
     "text": [
      "Test accuracy at epoch 29 is = 0.9322495543672015\n"
     ]
    },
    {
     "name": "stderr",
     "output_type": "stream",
     "text": [
      " 75%|█████████████████████████████████▊           | 3/4 [00:06<00:02,  2.10s/it]"
     ]
    },
    {
     "name": "stdout",
     "output_type": "stream",
     "text": [
      "Test accuracy at epoch 29 is = 0.9322579505300354\n"
     ]
    },
    {
     "name": "stderr",
     "output_type": "stream",
     "text": [
      "100%|█████████████████████████████████████████████| 4/4 [00:08<00:00,  2.10s/it]"
     ]
    },
    {
     "name": "stdout",
     "output_type": "stream",
     "text": [
      "Test accuracy at epoch 29 is = 0.9322631578947368\n",
      "Test loss after epoch 29 = 5.330282650887966\n"
     ]
    },
    {
     "name": "stderr",
     "output_type": "stream",
     "text": [
      "\n"
     ]
    }
   ],
   "source": [
    "epochs=30\n",
    "epoch=0\n",
    "loss=0\n",
    "tar = []\n",
    "preds = []\n",
    "test_loss_list=[]\n",
    "while epoch<epochs:\n",
    "    with torch.no_grad():\n",
    "        net.eval()\n",
    "        for data in tqdm.tqdm(test_loader):\n",
    "            features,labels = data[0].to(device).to(torch.float32), data[1].to(device)\n",
    "            out = net(features)\n",
    "            loss+= criterion(out['output'],labels).item()\n",
    "            predictions = out['output'].argmax(1).cpu().numpy()\n",
    "            le = labels.clone().detach()\n",
    "            le = le.cpu()\n",
    "            le = le.numpy().tolist()\n",
    "            tar.extend(le)\n",
    "            preds.extend(predictions.tolist())\n",
    "            test_accuracy = accuracy_score(tar,preds)\n",
    "            print(f\"Test accuracy at epoch {epoch} is = {test_accuracy}\") \n",
    "        print(f\"Test loss after epoch {epoch} = {loss/len(test_loader)}\")\n",
    "        test_loss_list.append(loss/len(test_loader))\n",
    "\n",
    "\n",
    "    epoch+=1\n"
   ]
  },
  {
   "cell_type": "code",
   "execution_count": 67,
   "metadata": {},
   "outputs": [
    {
     "data": {
      "text/plain": [
       "<matplotlib.legend.Legend at 0x7f8f101be280>"
      ]
     },
     "execution_count": 67,
     "metadata": {},
     "output_type": "execute_result"
    },
    {
     "data": {
      "image/png": "[encoded data removed]",
      "text/plain": [
       "<Figure size 800x800 with 1 Axes>"
      ]
     },
     "metadata": {},
     "output_type": "display_data"
    }
   ],
   "source": [
    "from scipy.ndimage import label\n",
    "#plotting graphs\n",
    "plt.rcParams['figure.figsize'] = [8,8]\n",
    "plt.plot(test_loss_list,label=\"Test loss\")\n",
    "plt.legend()"
   ]
  },
  {
   "cell_type": "markdown",
   "metadata": {},
   "source": [
    "## Taking the complete dataset instead of the important features"
   ]
  },
  {
   "cell_type": "code",
   "execution_count": 36,
   "metadata": {},
   "outputs": [],
   "source": [
    "yelp_train_tfidf_tensor = torch.from_numpy(yelp_train_tfidf_array)\n",
    "yelp_test_tfidf_tensor = torch.from_numpy(yelp_test_tfidf_array)"
   ]
  },
  {
   "cell_type": "code",
   "execution_count": 37,
   "metadata": {},
   "outputs": [
    {
     "name": "stdout",
     "output_type": "stream",
     "text": [
      "torch.Size([559971, 61467])\n",
      "torch.Size([38000, 61467])\n"
     ]
    }
   ],
   "source": [
    "print(yelp_train_tfidf_tensor.shape)\n",
    "print(yelp_test_tfidf_tensor.shape)"
   ]
  },
  {
   "cell_type": "code",
   "execution_count": 38,
   "metadata": {},
   "outputs": [],
   "source": [
    "device = torch.device(\"cuda\" if torch.cuda.is_available() else \"cpu\")\n"
   ]
  },
  {
   "cell_type": "code",
   "execution_count": 41,
   "metadata": {},
   "outputs": [],
   "source": [
    "y_train-=1\n",
    "y_test-=1"
   ]
  },
  {
   "cell_type": "code",
   "execution_count": 47,
   "metadata": {},
   "outputs": [],
   "source": [
    "train_loader = DataLoader(list(zip(yelp_train_tfidf_tensor,y_train)), batch_size=10000, shuffle=True)\n",
    "test_loader = DataLoader(list(zip(yelp_test_tfidf_tensor,y_test)), batch_size=30000, shuffle=True)"
   ]
  },
  {
   "cell_type": "code",
   "execution_count": 57,
   "metadata": {},
   "outputs": [],
   "source": [
    "import torch.nn as nn\n",
    "class YELP_Review(nn.Module):\n",
    "    def __init__(self):\n",
    "        super().__init__()\n",
    "        \n",
    "        self.input_layer = nn.Linear(61467,2000)\n",
    "        self.hidden_layer1 = nn.Linear(2000,256)\n",
    "        # self.hidden_layer2 = nn.Linear(15000,6000)\n",
    "        # self.hidden_layer3 = nn.Linear(6000,2500)\n",
    "        # self.hidden_layer4 = nn.Linear(2500,256)\n",
    "        self.output_layer = nn.Linear(256,2)\n",
    "      # self.output_layer=nn.Linear(10000,2)\n",
    "\n",
    "    def forward(self, x):   \n",
    "      out = {}\n",
    "      x=f.relu(self.input_layer(x))\n",
    "      out[\"output_after_input_layer\"]=x\n",
    "      x=f.relu(self.hidden_layer1(x))\n",
    "      out[\"output_after_hidden_layer1\"]=x\n",
    "      # x=f.relu(self.hidden_layer2(x))\n",
    "      # out[\"output_after_hidden_layer2\"]=x\n",
    "      # x=f.relu(self.hidden_layer3(x))\n",
    "      # out[\"output_after_hidden_layer3\"]=x\n",
    "      # x=f.relu(self.hidden_layer4(x))\n",
    "      # out[\"output_after_hidden_layer4\"]=x\n",
    "      # x=f.relu(self.hidden_layer5(x))\n",
    "      # out[\"output_after_hidden_layer5\"]=x\n",
    "      x=self.output_layer(x)\n",
    "      out['output'] = x\n",
    "      return out\n",
    "\n",
    "    \n"
   ]
  },
  {
   "cell_type": "code",
   "execution_count": 58,
   "metadata": {},
   "outputs": [
    {
     "name": "stdout",
     "output_type": "stream",
     "text": [
      "YELP_Review(\n",
      "  (input_layer): Linear(in_features=61467, out_features=2000, bias=True)\n",
      "  (hidden_layer1): Linear(in_features=2000, out_features=256, bias=True)\n",
      "  (output_layer): Linear(in_features=256, out_features=2, bias=True)\n",
      ")\n"
     ]
    }
   ],
   "source": [
    "net = YELP_Review().to(device)\n",
    "print(net)\n",
    "optimizer = torch.optim.Adam(net.parameters(), lr=0.001)\n",
    "criterion = nn.CrossEntropyLoss()"
   ]
  },
  {
   "cell_type": "code",
   "execution_count": 59,
   "metadata": {},
   "outputs": [],
   "source": [
    "def test_epoch(test_dl,model,criterion):\n",
    "    model.eval()\n",
    "    tar = []\n",
    "    preds = []\n",
    "    loss_test = 0\n",
    "    for feature,target in test_loader:\n",
    "        feature,target = feature.to(device).to(torch.float32),target.to(device)\n",
    "    # resized_test_images = img.reshape(-1,784).to(device)\n",
    "        output = model(feature.to(device))['output']\n",
    "        loss_test+=criterion(output,target.to(device)).item()\n",
    "        predictions = output.argmax(1).cpu().numpy()\n",
    "        tar.extend(target.cpu().numpy().tolist())\n",
    "        preds.extend(predictions.tolist())\n",
    "    # valid_loss.append()\n",
    "    print(f\"test loss {loss_test/len(test_loader)}\")\n",
    "    return accuracy_score(tar,preds) ,loss_test/len(test_loader)"
   ]
  },
  {
   "cell_type": "code",
   "execution_count": null,
   "metadata": {},
   "outputs": [
    {
     "name": "stderr",
     "output_type": "stream",
     "text": [
      "100%|███████████████████████████████████████████| 56/56 [03:23<00:00,  3.63s/it]\n"
     ]
    },
    {
     "name": "stdout",
     "output_type": "stream",
     "text": [
      "Train loss after epoch 0 = 0.27533887779074057\n",
      "test loss 0.16307083517313004\n",
      "test accuracy at epoch 0 is = 0.9354210526315789\n"
     ]
    },
    {
     "name": "stderr",
     "output_type": "stream",
     "text": [
      "100%|███████████████████████████████████████████| 56/56 [03:06<00:00,  3.33s/it]\n"
     ]
    },
    {
     "name": "stdout",
     "output_type": "stream",
     "text": [
      "Train loss after epoch 1 = 0.1415808823491846\n",
      "test loss 0.1617949679493904\n",
      "test accuracy at epoch 1 is = 0.9361315789473684\n"
     ]
    },
    {
     "name": "stderr",
     "output_type": "stream",
     "text": [
      "100%|███████████████████████████████████████████| 56/56 [02:45<00:00,  2.96s/it]\n"
     ]
    },
    {
     "name": "stdout",
     "output_type": "stream",
     "text": [
      "Train loss after epoch 2 = 0.12451096996665001\n",
      "test loss 0.1683775931596756\n",
      "test accuracy at epoch 2 is = 0.934921052631579\n"
     ]
    },
    {
     "name": "stderr",
     "output_type": "stream",
     "text": [
      "100%|███████████████████████████████████████████| 56/56 [02:45<00:00,  2.96s/it]\n"
     ]
    },
    {
     "name": "stdout",
     "output_type": "stream",
     "text": [
      "Train loss after epoch 3 = 0.10665771617953267\n",
      "test loss 0.1757785752415657\n",
      "test accuracy at epoch 3 is = 0.9340263157894737\n"
     ]
    },
    {
     "name": "stderr",
     "output_type": "stream",
     "text": [
      "100%|███████████████████████████████████████████| 56/56 [02:46<00:00,  2.97s/it]\n"
     ]
    },
    {
     "name": "stdout",
     "output_type": "stream",
     "text": [
      "Train loss after epoch 4 = 0.07950801122933626\n",
      "test loss 0.18488161265850067\n",
      "test accuracy at epoch 4 is = 0.933\n"
     ]
    },
    {
     "name": "stderr",
     "output_type": "stream",
     "text": [
      "100%|███████████████████████████████████████████| 56/56 [02:44<00:00,  2.95s/it]\n"
     ]
    },
    {
     "name": "stdout",
     "output_type": "stream",
     "text": [
      "Train loss after epoch 5 = 0.04578902379476598\n",
      "test loss 0.21457383036613464\n",
      "test accuracy at epoch 5 is = 0.9331578947368421\n"
     ]
    },
    {
     "name": "stderr",
     "output_type": "stream",
     "text": [
      "100%|███████████████████████████████████████████| 56/56 [02:42<00:00,  2.90s/it]\n"
     ]
    },
    {
     "name": "stdout",
     "output_type": "stream",
     "text": [
      "Train loss after epoch 6 = 0.019247455505787263\n",
      "test loss 0.23263327032327652\n",
      "test accuracy at epoch 6 is = 0.9323157894736842\n"
     ]
    },
    {
     "name": "stderr",
     "output_type": "stream",
     "text": [
      "100%|███████████████████████████████████████████| 56/56 [02:49<00:00,  3.02s/it]\n"
     ]
    },
    {
     "name": "stdout",
     "output_type": "stream",
     "text": [
      "Train loss after epoch 7 = 0.006635863807917174\n",
      "test loss 0.2812788039445877\n",
      "test accuracy at epoch 7 is = 0.9322631578947368\n"
     ]
    },
    {
     "name": "stderr",
     "output_type": "stream",
     "text": [
      "100%|███████████████████████████████████████████| 56/56 [02:42<00:00,  2.90s/it]\n"
     ]
    },
    {
     "name": "stdout",
     "output_type": "stream",
     "text": [
      "Train loss after epoch 8 = 0.002379319509990247\n",
      "test loss 0.2892124354839325\n",
      "test accuracy at epoch 8 is = 0.9325263157894736\n"
     ]
    },
    {
     "name": "stderr",
     "output_type": "stream",
     "text": [
      "  9%|███▉                                        | 5/56 [00:14<02:30,  2.95s/it]"
     ]
    }
   ],
   "source": [
    "train_loss_list = []\n",
    "epochs = 30\n",
    "test_loss_list = []\n",
    "accuracy_test = []\n",
    "for epoch in range(epochs):\n",
    "    train_loss = 0\n",
    "    for data in tqdm.tqdm(train_loader):\n",
    "        features,labels = data[0].to(device).to(torch.float32),data[1].to(device)\n",
    "        out = net(features)\n",
    "        loss = criterion(out['output'],labels)\n",
    "        optimizer.zero_grad()\n",
    "        loss.backward()\n",
    "        optimizer.step()\n",
    "        train_loss+=loss.item()\n",
    "    print(f\"Train loss after epoch {epoch} = {train_loss/len(train_loader)}\")\n",
    "    train_loss_list.append(train_loss/len(train_loader))\n",
    "    test_accuracy,test_loss = test_epoch(test_loader,net,criterion)\n",
    "    accuracy_test.append(test_accuracy)\n",
    "    test_loss_list.append(test_loss)\n",
    "    print(f\"test accuracy at epoch {epoch} is = {test_accuracy}\")\n",
    "    epoch+=1"
   ]
  },
  {
   "cell_type": "code",
   "execution_count": null,
   "metadata": {},
   "outputs": [],
   "source": []
  },
  {
   "cell_type": "code",
   "execution_count": null,
   "metadata": {},
   "outputs": [],
   "source": [
    "from scipy.ndimage import label\n",
    "#plotting graphs\n",
    "plt.rcParams['figure.figsize'] = [8,8]\n",
    "plt.plot(train_loss_list,label=\"Train loss\")\n",
    "plt.legend()"
   ]
  },
  {
   "cell_type": "code",
   "execution_count": null,
   "metadata": {},
   "outputs": [],
   "source": [
    "# # epochs=30\n",
    "# # epoch=0\n",
    "# # loss=0\n",
    "# # tar = []\n",
    "# # preds = []\n",
    "# # test_loss_list=[]\n",
    "# # while epoch<epochs:\n",
    "# with torch.no_grad():\n",
    "#     net.eval()\n",
    "#     for data in tqdm.tqdm(test_loader):\n",
    "#         features,labels = data[0].to(device).to(torch.float32), data[1].to(device)\n",
    "#         out = net(features)\n",
    "#         loss+= criterion(out['output'],labels).item()\n",
    "#         predictions = out['output'].argmax(1).cpu().numpy()\n",
    "#         le = labels.clone().detach()\n",
    "#         le = le.cpu()\n",
    "#         le = le.numpy().tolist()\n",
    "#         tar.extend(le)\n",
    "#         preds.extend(predictions.tolist())\n",
    "#         test_accuracy = accuracy_score(tar,preds)\n",
    "#     print(f\"Test loss after epoch {epoch} = {loss/len(test_loader)}\")\n",
    "#     test_loss_list.append(loss/len(test_loader))\n",
    "\n",
    "\n",
    "#     epoch+=1"
   ]
  },
  {
   "cell_type": "code",
   "execution_count": null,
   "metadata": {},
   "outputs": [],
   "source": [
    "from scipy.ndimage import label\n",
    "#plotting graphs\n",
    "plt.rcParams['figure.figsize'] = [8,8]\n",
    "plt.plot(test_loss_list,label=\"Test loss\")\n",
    "plt.legend()"
   ]
  },
  {
   "cell_type": "code",
   "execution_count": null,
   "metadata": {},
   "outputs": [],
   "source": []
  },
  {
   "cell_type": "code",
   "execution_count": null,
   "metadata": {},
   "outputs": [],
   "source": []
  }
 ],
 "metadata": {
  "accelerator": "GPU",
  "colab": {
   "provenance": []
  },
  "gpuClass": "standard",
  "kernelspec": {
   "display_name": "Python 3 (ipykernel)",
   "language": "python",
   "name": "python3"
  },
  "language_info": {
   "codemirror_mode": {
    "name": "ipython",
    "version": 3
   },
   "file_extension": ".py",
   "mimetype": "text/x-python",
   "name": "python",
   "nbconvert_exporter": "python",
   "pygments_lexer": "ipython3",
   "version": "3.8.10"
  }
 },
 "nbformat": 4,
 "nbformat_minor": 4
}
